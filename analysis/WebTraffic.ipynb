{
 "cells": [
  {
   "cell_type": "code",
   "execution_count": 198,
   "metadata": {
    "collapsed": true
   },
   "outputs": [],
   "source": [
    "import pandas as pd\n",
    "import re\n",
    "import matplotlib.pyplot as plt\n",
    "import numpy as np\n",
    "import torch\n",
    "import torch.nn as nn"
   ]
  },
  {
   "cell_type": "markdown",
   "metadata": {},
   "source": [
    "## Load Data"
   ]
  },
  {
   "cell_type": "code",
   "execution_count": 45,
   "metadata": {
    "collapsed": true
   },
   "outputs": [],
   "source": [
    "# load data\n",
    "data = pd.read_csv(\"./all/train_2.csv\")"
   ]
  },
  {
   "cell_type": "code",
   "execution_count": 46,
   "metadata": {},
   "outputs": [
    {
     "name": "stdout",
     "output_type": "stream",
     "text": [
      "dates are amount to 803, from 2015-07-01 to 2017-09-10\n"
     ]
    }
   ],
   "source": [
    "whole_period = len(data.columns) -1\n",
    "print(\"dates are amount to {}, from {} to {}\".format(whole_period, data.columns[1],data.columns[-1]))"
   ]
  },
  {
   "cell_type": "markdown",
   "metadata": {},
   "source": [
    "## Train Test Split\n",
    "1. whether need data augmentation or cross validation by overlapping train data ?\n",
    "2. whether avoid wasting testing encoder data points by overlapping train and test data ?"
   ]
  },
  {
   "cell_type": "code",
   "execution_count": 47,
   "metadata": {
    "collapsed": true
   },
   "outputs": [],
   "source": [
    "train_window = 365\n",
    "predict_shift = 30\n",
    "predict_window = 365\n",
    "test_start = whole_period - predict_window - predict_shift # start point for test training and predicting\n",
    "overlap = 0        # overlap shows overlap between train and test\n",
    "split_point = test_start + overlap # data before split_point cound be used for train and validation\n",
    "\n",
    "def train_test_split(aug_shift = []):\n",
    "    test_X = data[list(data.columns[1+test_start:test_start + train_window])]\n",
    "    test_Y = data[list(data.columns[1+test_start + predict_shift:test_start + predict_shift + predict_window])]\n",
    "    train_X = data[list(data.columns[1:train_window])]\n",
    "    train_Y = data[list(data.columns[1+predict_shift:predict_shift + predict_window])]\n",
    "    if(len(aug_shift)): #data_augmentation\n",
    "        for aug in aug_shift:\n",
    "            aug_X,aug_Y = augmentation(aug)\n",
    "            train_X = pd.concat([train_X,aug_X])\n",
    "            train_Y = pd.concat([train_Y,aug_Y])\n",
    "    val_X, val_Y = augmentation(split_point - predict_window - predict_shift)\n",
    "    return train_X, train_Y, val_X, val_Y, test_X, test_Y\n",
    "\n",
    "def augmentation(aug_shift):\n",
    "    X = data[list(data.columns[aug_shift:aug_shift + train_window])]\n",
    "    Y = data[list(data.columns[aug_shift + predict_shift:aug_shift + predict_shift + predict_window])]\n",
    "    return X,Y"
   ]
  },
  {
   "cell_type": "code",
   "execution_count": 48,
   "metadata": {
    "collapsed": true
   },
   "outputs": [],
   "source": [
    "train_X, train_Y, val_X, val_Y, test_X, test_Y = train_test_split()"
   ]
  },
  {
   "cell_type": "code",
   "execution_count": null,
   "metadata": {
    "collapsed": true
   },
   "outputs": [],
   "source": []
  },
  {
   "cell_type": "markdown",
   "metadata": {},
   "source": [
    "## Data Preprocessing\n",
    "1. normalize(values - means), regard means as additional feature\n",
    "2. map to bins(std), regard std as additional feature\n",
    "3. missing values: set to -1\n",
    "4. batchify"
   ]
  },
  {
   "cell_type": "code",
   "execution_count": 142,
   "metadata": {
    "collapsed": true
   },
   "outputs": [],
   "source": [
    "df = train_X[:200]\n",
    "df = df.dropna(how=\"all\")"
   ]
  },
  {
   "cell_type": "code",
   "execution_count": 176,
   "metadata": {
    "scrolled": true
   },
   "outputs": [
    {
     "data": {
      "text/plain": [
       "(184, 364)"
      ]
     },
     "execution_count": 176,
     "metadata": {},
     "output_type": "execute_result"
    }
   ],
   "source": [
    "mean_df = df.mean(axis= 1,skipna=True)\n",
    "std_df = df.std(axis = 1,skipna=True)\n",
    "index = df.divide(0.05*std_df,axis=0).fillna(-1).astype(int).values"
   ]
  },
  {
   "cell_type": "code",
   "execution_count": 148,
   "metadata": {},
   "outputs": [
    {
     "data": {
      "image/png": "[encoded data removed]",
      "text/plain": [
       "<matplotlib.figure.Figure at 0x11a49fd68>"
      ]
     },
     "metadata": {},
     "output_type": "display_data"
    }
   ],
   "source": [
    "idx = 20\n",
    "val = df.iloc[idx].values\n",
    "plt.plot([mean_df.iloc[idx]]*len(val),label = \"mean\")\n",
    "#plt.plot([0.2*std_df.iloc[0]]*len(val),label = \"std\")\n",
    "for d in np.arange(0,1,0.05):\n",
    "    plt.plot([d*std_df.iloc[idx]]*len(val))\n",
    "plt.plot(val[:250])\n",
    "plt.legend()\n",
    "plt.show()"
   ]
  },
  {
   "cell_type": "code",
   "execution_count": 178,
   "metadata": {},
   "outputs": [
    {
     "data": {
      "text/plain": [
       "(184,)"
      ]
     },
     "execution_count": 178,
     "metadata": {},
     "output_type": "execute_result"
    }
   ],
   "source": [
    "mean_df.values.shape"
   ]
  },
  {
   "cell_type": "code",
   "execution_count": 130,
   "metadata": {},
   "outputs": [
    {
     "data": {
      "text/plain": [
       "400"
      ]
     },
     "execution_count": 130,
     "metadata": {},
     "output_type": "execute_result"
    }
   ],
   "source": [
    "len(np.arange(0,20,0.05))"
   ]
  },
  {
   "cell_type": "code",
   "execution_count": 195,
   "metadata": {
    "collapsed": true
   },
   "outputs": [],
   "source": [
    "def X_loader(df,std_ratio = 0.05,batchsize=10):\n",
    "    df = df.dropna(how=\"all\").reset_index()\n",
    "    mean_df = df.mean(axis= 1,skipna=True)\n",
    "    std_df = df.std(axis = 1,skipna=True)\n",
    "    x = df.divide(std_ratio*std_df,axis=0).fillna(-1).astype(int).values\n",
    "    batch=0\n",
    "    while batch<(len(x) // batchsize):\n",
    "        data=x[batch*batchsize:(batch+1)*batchsize,:]\n",
    "        mean=mean_df.values[batch*batchsize:(batch+1)*batchsize]\n",
    "        std = std_df.values[batch*batchsize:(batch+1)*batchsize]\n",
    "        #yield(torch.LongTensor(data),torch.Tensor(mean),torch.Tensor(std).cuda())\n",
    "        yield(torch.LongTensor(data),torch.Tensor(mean),torch.Tensor(std))\n",
    "        batch+=1\n",
    "def Y_loader(df, batchsize=10):\n",
    "    df = df.dropna(how=\"all\").reset_index()\n",
    "    y = df.fillna(-1).values\n",
    "    batch=0\n",
    "    while batch<(len(y) // batchsize):\n",
    "        data=y[batch*batchsize:(batch+1)*batchsize,:]\n",
    "        #yield(torch.FloatTensor(data).cuda())\n",
    "        yield(torch.Tensor(data))\n",
    "        batch+=1"
   ]
  },
  {
   "cell_type": "code",
   "execution_count": 196,
   "metadata": {},
   "outputs": [
    {
     "name": "stdout",
     "output_type": "stream",
     "text": [
      "\n",
      "    0    10     6  ...     41     6    10\n",
      "    1    11    14  ...     13    14    24\n",
      "    3     1     0  ...      1     9     8\n",
      "       ...          ⋱          ...       \n",
      "    7     4    20  ...     37    25    36\n",
      "   19    12     6  ...     57    44    66\n",
      "    9    -1    -1  ...    102    75    32\n",
      "[torch.LongTensor of size 10x365]\n",
      "\n",
      "\n",
      " 20.5534\n",
      " 21.3315\n",
      "  4.9945\n",
      " 17.0658\n",
      " 11.4459\n",
      " 13.5123\n",
      " 39.3452\n",
      " 33.3781\n",
      " 20.0740\n",
      " 12.7635\n",
      "[torch.FloatTensor of size 10]\n",
      "\n",
      "\n",
      "    0    18    11  ...     69    11    18\n",
      "    1    11    14  ...     13    14    24\n",
      "    2     1     0  ...      1     6     5\n",
      "       ...          ⋱          ...       \n",
      "    8     5    23  ...     42    28    40\n",
      "    9     6     3  ...     27    21    31\n",
      "   10    -1    -1  ...    109    81    35\n",
      "[torch.FloatTensor of size 10x365]\n",
      "\n"
     ]
    }
   ],
   "source": [
    "xloader = X_loader(df)\n",
    "for data,mean,std in xloader:\n",
    "    print(data)\n",
    "    print(mean)\n",
    "    break\n",
    "yloader = Y_loader(df)\n",
    "for data in yloader:\n",
    "    print(data)\n",
    "    break"
   ]
  },
  {
   "cell_type": "code",
   "execution_count": 197,
   "metadata": {
    "collapsed": true
   },
   "outputs": [],
   "source": [
    "train_Xloader = X_loader(train_X)\n",
    "train_Yloader = Y_loader(train_Y)"
   ]
  },
  {
   "cell_type": "markdown",
   "metadata": {
    "collapsed": true
   },
   "source": [
    "## Build Model"
   ]
  },
  {
   "cell_type": "code",
   "execution_count": 199,
   "metadata": {
    "collapsed": true
   },
   "outputs": [],
   "source": [
    "class AutoEncoder(nn.Module):\n",
    "    def __init__(self, emb_dim,encoder_dim=150,out_dim=63, vocab_size=1200):\n",
    "        super(NN, self).__init__()\n",
    "\n",
    "        self.emb_dim = emb_dim\n",
    "        self.embed = nn.Embedding(vocab_size, emb_dim)\n",
    "        self.encoder = nn.GRU(emb_dim, encoder_dim, batch_first=True, bidirectional=False)\n",
    "        self.decoder = nn.Linear(encoder_dim, out_dim)\n",
    "    def forward(self, x):\n",
    "\n",
    "        out = self.embed(x) \n",
    "#         print('embedding',out)\n",
    "        output, hidden = self.encoder(out)\n",
    "#         print('hidden',hidden)\n",
    "        output = self.decoder(hidden)\n",
    "        return output.squeeze()"
   ]
  },
  {
   "cell_type": "markdown",
   "metadata": {},
   "source": [
    "## Train"
   ]
  },
  {
   "cell_type": "code",
   "execution_count": null,
   "metadata": {
    "collapsed": true
   },
   "outputs": [],
   "source": []
  }
 ],
 "metadata": {
  "kernelspec": {
   "display_name": "Python 3",
   "language": "python",
   "name": "python3"
  },
  "language_info": {
   "codemirror_mode": {
    "name": "ipython",
    "version": 3
   },
   "file_extension": ".py",
   "mimetype": "text/x-python",
   "name": "python",
   "nbconvert_exporter": "python",
   "pygments_lexer": "ipython3",
   "version": "3.6.3"
  }
 },
 "nbformat": 4,
 "nbformat_minor": 2
}
