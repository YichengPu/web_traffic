{
 "cells": [
  {
   "cell_type": "code",
   "execution_count": 159,
   "metadata": {
    "collapsed": true
   },
   "outputs": [],
   "source": [
    "import pandas as pd\n",
    "import numpy as np\n",
    "from matplotlib import pyplot as plt\n",
    "from sklearn import datasets, linear_model\n",
    "from sklearn.metrics import mean_squared_error, r2_score\n",
    "from sklearn.metrics import mean_squared_error\n",
    "from util.evaluation import SMAPE\n",
    "%matplotlib inline\n",
    "\n",
    "traffic=pd.read_csv('../data/cl_traffic.csv')\n",
    "\n",
    "traffic=traffic.fillna(0)\n",
    "\n",
    "traffic.head()\n",
    "\n",
    "sample_index=np.random.choice(traffic.index,4000,replace=False)\n",
    "sample_series=[]\n",
    "for u in sample_index:\n",
    "#     print('Training...|| {:.2f}'.format(u/tot_len*100)+'%',end='\\r')\n",
    "    sample_series.append(traffic.loc[u][:-4].values)\n",
    "\n",
    "def diff(x,epsilon=1e-3):\n",
    "    return((x[1:]-x[:-1])/(x[:-1]+epsilon))\n",
    "\n",
    "# combs=np.array([[0,0,0]])\n",
    "# for series in range(len(sample_series)):\n",
    "#     change=diff(sample_series[series][1:-2])\n",
    "#     comb=np.array([change[1:-2],change[2:-1],change[3:]]).T\n",
    "#     combs=np.concatenate((combs,comb),axis=0)"
   ]
  },
  {
   "cell_type": "markdown",
   "metadata": {},
   "source": [
    "## prepare training and testing data"
   ]
  },
  {
   "cell_type": "code",
   "execution_count": 160,
   "metadata": {
    "collapsed": true
   },
   "outputs": [],
   "source": [
    "def split_and_clean(sample_series,train_start,train_end,test_len):\n",
    "    clean_series=[]\n",
    "    test_series=[]\n",
    "    for index in range(len(sample_series)):\n",
    "        c=np.array(sample_series[index][train_start:train_end])\n",
    "        test_series.append(sample_series[index][train_end:(train_end+test_len)])\n",
    "        std=np.std(c)\n",
    "        mean=np.mean(c)\n",
    "        c[(c-np.mean(c))>2*std]=mean+2*std\n",
    "        c[(c-np.mean(c))<-2*std]=mean-2*std\n",
    "        clean_series.append(c)\n",
    "    return (clean_series,test_series)"
   ]
  },
  {
   "cell_type": "code",
   "execution_count": 161,
   "metadata": {
    "collapsed": true
   },
   "outputs": [],
   "source": [
    "# plt.plot(clean_series[1])"
   ]
  },
  {
   "cell_type": "code",
   "execution_count": 162,
   "metadata": {
    "collapsed": true
   },
   "outputs": [],
   "source": [
    "def value2id(series,bin_size,biased_mean,std):\n",
    "    id_series=np.array(list(map(lambda x:(x-biased_mean) // (std*bin_size),series)))\n",
    "    id_series[id_series>(6/bin_size)]=(6/bin_size)\n",
    "    id_series[id_series<0]=0\n",
    "    return id_series"
   ]
  },
  {
   "cell_type": "code",
   "execution_count": 163,
   "metadata": {
    "collapsed": true
   },
   "outputs": [],
   "source": [
    "def id2value(id_series,bin_size,biased_mean,std):\n",
    "    return id_series*(std*bin_size)+biased_mean"
   ]
  },
  {
   "cell_type": "code",
   "execution_count": 164,
   "metadata": {
    "collapsed": true
   },
   "outputs": [],
   "source": [
    "def discrify(clean_series):\n",
    "    bin_size=0.005\n",
    "    discrete_dic={}\n",
    "    index_series=[]\n",
    "    for i in range(len(clean_series)):\n",
    "        if np.sum(clean_series[i])==0:\n",
    "            std=-1\n",
    "            biased_mean=-1\n",
    "            discrete_dic[i]=(std,biased_mean)\n",
    "            index_series.append(np.zeros_like(clean_series[i])+3/bin_size)\n",
    "        else:\n",
    "            std=np.std(clean_series[i])\n",
    "            biased_mean=np.mean(clean_series[i])-3*std\n",
    "\n",
    "            discrete_dic[i]=(std,biased_mean)\n",
    "            index_series.append(value2id(clean_series[i],bin_size=bin_size,biased_mean=biased_mean,std=std))\n",
    "    return (discrete_dic,index_series)"
   ]
  },
  {
   "cell_type": "code",
   "execution_count": 165,
   "metadata": {
    "collapsed": true
   },
   "outputs": [],
   "source": [
    "encode_start=0\n",
    "encode_end=150\n",
    "decode_len=63\n",
    "\n",
    "clean_series,decode_series = split_and_clean(sample_series,encode_start,encode_end,decode_len)\n",
    "\n",
    "\n",
    "train_x=clean_series\n",
    "train_y=decode_series\n",
    "\n",
    "encode_start=200\n",
    "encode_end=350\n",
    "decode_len=63\n",
    "\n",
    "\n",
    "clean_series,decode_series = split_and_clean(sample_series,encode_start,encode_end,decode_len)\n",
    "\n",
    "test_x=clean_series\n",
    "test_y=decode_series"
   ]
  },
  {
   "cell_type": "code",
   "execution_count": null,
   "metadata": {
    "collapsed": true
   },
   "outputs": [],
   "source": []
  },
  {
   "cell_type": "code",
   "execution_count": 166,
   "metadata": {
    "collapsed": true
   },
   "outputs": [],
   "source": [
    "# for i in decode_series:\n",
    "#     if sum(i[i>1199])>0:\n",
    "#         print(i)"
   ]
  },
  {
   "cell_type": "code",
   "execution_count": 167,
   "metadata": {
    "collapsed": true
   },
   "outputs": [],
   "source": [
    "# changes=[]\n",
    "# for series in range(len(sample_series)):\n",
    "#     change=diff(sample_series[series][1:-2])\n",
    "# #     change[change>2]=2\n",
    "#     changes.append(change)"
   ]
  },
  {
   "cell_type": "code",
   "execution_count": 168,
   "metadata": {
    "collapsed": true
   },
   "outputs": [],
   "source": [
    "# changes=np.array(changes)"
   ]
  },
  {
   "cell_type": "code",
   "execution_count": 169,
   "metadata": {
    "collapsed": true
   },
   "outputs": [],
   "source": [
    "# changes.shape"
   ]
  },
  {
   "cell_type": "code",
   "execution_count": 170,
   "metadata": {
    "collapsed": true
   },
   "outputs": [],
   "source": [
    "# def num2index(num):\n",
    "#     return int((num+1) // 0.0025)\n",
    "# index\n",
    "# def index2num(index):\n",
    "#     return -1+(index+0.5)*0.0025\n",
    "\n",
    "# index2num(1199)\n",
    "\n"
   ]
  },
  {
   "cell_type": "code",
   "execution_count": 171,
   "metadata": {
    "collapsed": true
   },
   "outputs": [],
   "source": [
    "# #discrete change\n",
    "# dis_change=[]\n",
    "# for i in range(len(changes)):\n",
    "#     dis_change.append(list(map(lambda x:num2index(x),changes[i,:])))"
   ]
  },
  {
   "cell_type": "code",
   "execution_count": 172,
   "metadata": {
    "collapsed": true
   },
   "outputs": [],
   "source": [
    "# dis_change=np.array(dis_change)"
   ]
  },
  {
   "cell_type": "code",
   "execution_count": 173,
   "metadata": {
    "collapsed": true
   },
   "outputs": [],
   "source": [
    "# assert dis_change.shape==changes.shape"
   ]
  },
  {
   "cell_type": "code",
   "execution_count": 174,
   "metadata": {
    "collapsed": true
   },
   "outputs": [],
   "source": [
    "# train_x=dis_change[:,265:365]\n",
    "# train_y=changes[:,365:365+63]\n",
    "# test_x=dis_change[:,400:500]\n",
    "# test_y=changes[:,500:500+63]"
   ]
  },
  {
   "cell_type": "code",
   "execution_count": 180,
   "metadata": {
    "collapsed": true
   },
   "outputs": [],
   "source": [
    "def X_loader(x,batchsize=10):\n",
    "    batch=0\n",
    "    x=np.array(x)\n",
    "    while batch<(len(x) // batchsize):\n",
    "        \n",
    "        data=x[batch*batchsize:(batch+1)*batchsize,:]\n",
    "        tensor=torch.FloatTensor(np.array(data, dtype=float))\n",
    "        tensor=tensor.unsqueeze(2).cuda()\n",
    "#         tensor=tensor.repeat(1,1,25)\n",
    "        yield(tensor)\n",
    "        batch+=1"
   ]
  },
  {
   "cell_type": "code",
   "execution_count": 181,
   "metadata": {
    "collapsed": true
   },
   "outputs": [],
   "source": [
    "def Y_loader(y,batchsize=10):\n",
    "    batch=0\n",
    "    y=np.array(y)\n",
    "    while batch<(len(y) // batchsize):\n",
    "        \n",
    "        data=y[batch*batchsize:(batch+1)*batchsize,:]\n",
    "        tensor=torch.FloatTensor(np.array(data, dtype=float))\n",
    "        tensor=tensor.unsqueeze(2).cuda()\n",
    "\n",
    "        yield(tensor)\n",
    "        batch+=1"
   ]
  },
  {
   "cell_type": "code",
   "execution_count": 53,
   "metadata": {
    "collapsed": true
   },
   "outputs": [],
   "source": [
    "trainx=X_loader(train_x)\n",
    "a=next(trainx)"
   ]
  },
  {
   "cell_type": "code",
   "execution_count": null,
   "metadata": {
    "collapsed": true
   },
   "outputs": [],
   "source": [
    "a.shape"
   ]
  },
  {
   "cell_type": "code",
   "execution_count": null,
   "metadata": {
    "collapsed": true
   },
   "outputs": [],
   "source": [
    "a.repeat(1,1,25).shape"
   ]
  },
  {
   "cell_type": "code",
   "execution_count": 108,
   "metadata": {
    "collapsed": true
   },
   "outputs": [],
   "source": [
    "import torch\n",
    "import torch.nn as nn\n",
    "\n",
    "class NN(nn.Module):\n",
    "    def __init__(self, encoder_dim=150,out_dim=63):\n",
    "        super(NN, self).__init__()\n",
    "\n",
    "        self.encoder = nn.GRU(25, encoder_dim, batch_first=True, bidirectional=False)\n",
    "        self.decoder = nn.Linear(encoder_dim, out_dim)\n",
    "    def forward(self, x):\n",
    "            \n",
    "#         print('embedding',out)\n",
    "        output, hidden = self.encoder(x)\n",
    "#         print('hidden',hidden)\n",
    "        output = self.decoder(hidden)\n",
    "        return output.squeeze()"
   ]
  },
  {
   "cell_type": "code",
   "execution_count": null,
   "metadata": {
    "collapsed": true
   },
   "outputs": [],
   "source": []
  },
  {
   "cell_type": "code",
   "execution_count": 104,
   "metadata": {
    "collapsed": true
   },
   "outputs": [],
   "source": [
    "model=NN(encoder_dim=25,out_dim=10).cuda()"
   ]
  },
  {
   "cell_type": "code",
   "execution_count": 50,
   "metadata": {
    "collapsed": true
   },
   "outputs": [],
   "source": [
    "# for name, param in model.named_parameters():\n",
    "#     if param.requires_grad:\n",
    "#         print (name, param.data)"
   ]
  },
  {
   "cell_type": "code",
   "execution_count": 177,
   "metadata": {
    "collapsed": true
   },
   "outputs": [],
   "source": [
    "def SMAPE(true,predicted):\n",
    "    true=true.squeeze()\n",
    "    predicted=predicted.squeeze()\n",
    "    epsilon = 0.1\n",
    "    summ = torch.abs(true) + torch.abs(predicted) + epsilon\n",
    "    smape = torch.abs(predicted - true) / summ * 2.0\n",
    "    return torch.mean(smape)"
   ]
  },
  {
   "cell_type": "code",
   "execution_count": 113,
   "metadata": {},
   "outputs": [
    {
     "name": "stdout",
     "output_type": "stream",
     "text": [
      "VALIDATION: Epoch: 0; Loss: 1.8928367682321818\n",
      "\n",
      "Epoch: 0; iterations: 200; Loss: 1.5732004761695861\n",
      "\n",
      "Epoch: 0; iterations: 400; Loss: 1.4581313353776932\n",
      "\n",
      "Epoch: 0; iterations: 600; Loss: 1.4049494770169257\n",
      "\n",
      "Epoch: 0; iterations: 800; Loss: 1.375493532717228\n",
      "\n",
      "Epoch: 0; iterations: 1000; Loss: 1.3471135514974595\n",
      "\n",
      "Epoch: 0; iterations: 1200; Loss: 1.283590589761734\n",
      "\n",
      "Epoch: 0; iterations: 1400; Loss: 1.2652345237135887\n",
      "\n",
      "Epoch: 0; iterations: 1600; Loss: 1.2642853540182113\n",
      "\n",
      "Epoch: 0; iterations: 1800; Loss: 1.2649759605526925\n",
      "\n",
      "Epoch: 0; iterations: 2000; Loss: 1.235699926018715\n",
      "\n",
      "Epoch: 0; iterations: 2200; Loss: 1.2327824780344963\n",
      "\n",
      "Epoch: 0; iterations: 2400; Loss: 1.2218928948044776\n",
      "\n",
      "Epoch: 0; iterations: 2600; Loss: 1.2157596817612648\n",
      "\n",
      "Epoch: 0; iterations: 2800; Loss: 1.1965202409029008\n",
      "\n",
      "Epoch: 0; iterations: 3000; Loss: 1.1973932653665542\n",
      "\n",
      "Epoch: 0; iterations: 3200; Loss: 1.1793283292651175\n",
      "\n",
      "Epoch: 0; iterations: 3400; Loss: 1.17320089712739\n",
      "\n",
      "Epoch: 0; iterations: 3600; Loss: 1.1658834862709044\n",
      "\n",
      "Epoch: 0; iterations: 3800; Loss: 1.161267885863781\n",
      "\n",
      "Epoch: 0; iterations: 4000; Loss: 1.143682761490345\n",
      "\n",
      "Epoch: 0; iterations: 4200; Loss: 1.1140833434462547\n",
      "\n",
      "Epoch: 0; iterations: 4400; Loss: 1.1092123118042947\n",
      "\n",
      "Epoch: 0; iterations: 4600; Loss: 1.1390523934364318\n",
      "\n",
      "Epoch: 0; iterations: 4800; Loss: 1.1344352445006372\n",
      "\n",
      "Epoch: 0; iterations: 5000; Loss: 1.1386472821235656\n",
      "\n",
      "Epoch: 0; iterations: 5200; Loss: 1.125804609954357\n",
      "\n",
      "Epoch: 0; iterations: 5400; Loss: 1.125298197567463\n",
      "\n",
      "Epoch: 0; iterations: 5600; Loss: 1.1005287310481071\n",
      "\n",
      "Epoch: 0; iterations: 5800; Loss: 1.1018053105473518\n",
      "\n",
      "Epoch: 0; iterations: 6000; Loss: 1.1028011862933635\n",
      "\n",
      "Epoch: 0; iterations: 6200; Loss: 1.0700096839666366\n",
      "\n",
      "Epoch: 0; iterations: 6400; Loss: 1.153887058198452\n",
      "\n",
      "Epoch: 0; iterations: 6600; Loss: 1.129125320017338\n",
      "\n",
      "Epoch: 0; iterations: 6800; Loss: 1.1106882843375205\n",
      "\n",
      "Epoch: 0; iterations: 7000; Loss: 1.1274586907029152\n",
      "\n",
      "Epoch: 0; iterations: 7200; Loss: 1.0992540034651757\n",
      "\n",
      "Epoch: 0; iterations: 7400; Loss: 1.0689014360308646\n",
      "\n",
      "Epoch: 0; iterations: 7600; Loss: 1.1211497816443443\n",
      "\n",
      "Epoch: 0; iterations: 7800; Loss: 1.0979766976833343\n",
      "\n",
      "Epoch: 0; iterations: 8000; Loss: 1.1039987695217133\n",
      "\n",
      "Epoch: 0; iterations: 8200; Loss: 1.1046899504959584\n",
      "\n",
      "Epoch: 0; iterations: 8400; Loss: 1.0849727234244346\n",
      "\n",
      "Epoch: 0; iterations: 8600; Loss: 1.058583495914936\n",
      "\n",
      "Epoch: 0; iterations: 8800; Loss: 1.101738573908806\n",
      "\n",
      "Epoch: 0; iterations: 9000; Loss: 1.0711623266339303\n",
      "\n",
      "Epoch: 0; iterations: 9200; Loss: 1.0709134413301944\n",
      "\n",
      "Epoch: 0; iterations: 9400; Loss: 1.086874872148037\n",
      "\n",
      "Epoch: 0; iterations: 9600; Loss: 1.0770573082566262\n",
      "\n",
      "Epoch: 0; iterations: 9800; Loss: 1.06588322609663\n",
      "\n",
      "Epoch: 0; iterations: 10000; Loss: 1.029450733065605\n",
      "\n",
      "Epoch: 0; iterations: 10200; Loss: 1.0427883261442183\n",
      "\n",
      "Epoch: 0; iterations: 10400; Loss: 1.0365390226244926\n",
      "\n",
      "Epoch: 0; iterations: 10600; Loss: 1.0336832085251808\n",
      "\n",
      "Epoch: 0; iterations: 10800; Loss: 1.05686262100935\n",
      "\n",
      "Epoch: 0; iterations: 11000; Loss: 1.028920457214117\n",
      "\n",
      "Epoch: 0; iterations: 11200; Loss: 1.0529981631040572\n",
      "\n",
      "Epoch: 0; iterations: 11400; Loss: 1.0743385392427445\n",
      "\n",
      "Epoch: 0; iterations: 11600; Loss: 1.0295975710451604\n",
      "\n",
      "Epoch: 0; iterations: 11800; Loss: 1.036767639517784\n",
      "\n",
      "Epoch: 0; iterations: 12000; Loss: 1.0527264694869518\n",
      "\n",
      "Epoch: 0; iterations: 12200; Loss: 1.0268190483748914\n",
      "\n",
      "Epoch: 0; iterations: 12400; Loss: 1.0391437597572803\n",
      "\n",
      "Epoch: 0; iterations: 12600; Loss: 1.0282223936915398\n",
      "\n",
      "Epoch: 0; iterations: 12800; Loss: 1.0515285393595695\n",
      "\n",
      "Epoch: 0; iterations: 13000; Loss: 1.0325909918546676\n",
      "\n",
      "Epoch: 0; iterations: 13200; Loss: 1.0189840179681777\n",
      "\n",
      "Epoch: 0; iterations: 13400; Loss: 1.0370443859696388\n",
      "\n",
      "Epoch: 0; iterations: 13600; Loss: 1.0169398593902588\n",
      "\n",
      "Epoch: 0; iterations: 13800; Loss: 0.9839289897680282\n",
      "\n",
      "VALIDATION: Epoch: 1; Loss: 1.051337859587755\n",
      "\n",
      "Epoch: 1; iterations: 200; Loss: 1.0256896594166756\n",
      "\n",
      "Epoch: 1; iterations: 400; Loss: 1.0128910848498345\n",
      "\n",
      "Epoch: 1; iterations: 600; Loss: 0.9902935537695885\n",
      "\n",
      "Epoch: 1; iterations: 800; Loss: 0.9920778991281987\n",
      "\n",
      "Epoch: 1; iterations: 1000; Loss: 1.0149631693959236\n",
      "\n",
      "Epoch: 1; iterations: 1200; Loss: 1.0031179252266884\n",
      "\n",
      "Epoch: 1; iterations: 1400; Loss: 1.014284457117319\n",
      "\n",
      "Epoch: 1; iterations: 1600; Loss: 0.9876696997880936\n",
      "\n",
      "Epoch: 1; iterations: 1800; Loss: 1.0204714922606946\n",
      "\n",
      "Epoch: 1; iterations: 2000; Loss: 1.0246335452795028\n",
      "\n",
      "Epoch: 1; iterations: 2200; Loss: 1.009064444899559\n",
      "\n",
      "Epoch: 1; iterations: 2400; Loss: 0.9850119027495384\n",
      "\n",
      "Epoch: 1; iterations: 2600; Loss: 0.9889270167052746\n",
      "\n",
      "Epoch: 1; iterations: 2800; Loss: 0.9935782751441002\n",
      "\n",
      "Epoch: 1; iterations: 3000; Loss: 0.977463336288929\n",
      "\n",
      "Epoch: 1; iterations: 3200; Loss: 0.9701499119400978\n",
      "\n",
      "Epoch: 1; iterations: 3400; Loss: 0.974364270940423\n",
      "\n",
      "Epoch: 1; iterations: 3600; Loss: 0.9706593176722527\n",
      "\n",
      "Epoch: 1; iterations: 3800; Loss: 0.9732055175304413\n",
      "\n",
      "Epoch: 1; iterations: 4000; Loss: 0.9799477070569992\n",
      "\n",
      "Epoch: 1; iterations: 4200; Loss: 0.9479637180268764\n",
      "\n",
      "Epoch: 1; iterations: 4400; Loss: 0.9636702127754688\n",
      "\n",
      "Epoch: 1; iterations: 4600; Loss: 0.9935276143252849\n",
      "\n",
      "Epoch: 1; iterations: 4800; Loss: 0.9880163219571113\n",
      "\n",
      "Epoch: 1; iterations: 5000; Loss: 0.9789892089366913\n",
      "\n",
      "Epoch: 1; iterations: 5200; Loss: 0.978214123249054\n",
      "\n",
      "Epoch: 1; iterations: 5400; Loss: 0.9909322039783001\n",
      "\n",
      "Epoch: 1; iterations: 5600; Loss: 0.969037650078535\n",
      "\n",
      "Epoch: 1; iterations: 5800; Loss: 0.9846313671767711\n",
      "\n",
      "Epoch: 1; iterations: 6000; Loss: 0.9830671501159668\n",
      "\n",
      "Epoch: 1; iterations: 6200; Loss: 0.9597574397921562\n",
      "\n",
      "Epoch: 1; iterations: 6400; Loss: 1.0141572436690331\n",
      "\n",
      "Epoch: 1; iterations: 6600; Loss: 0.9760530737042427\n",
      "\n",
      "Epoch: 1; iterations: 6800; Loss: 0.9796125255525112\n",
      "\n",
      "Epoch: 1; iterations: 7000; Loss: 1.1028198206424713\n",
      "\n",
      "Epoch: 1; iterations: 7200; Loss: 1.0014955545961857\n",
      "\n",
      "Epoch: 1; iterations: 7400; Loss: 0.9693030470609665\n",
      "\n",
      "Epoch: 1; iterations: 7600; Loss: 0.997775132060051\n",
      "\n",
      "Epoch: 1; iterations: 7800; Loss: 0.9784205704927444\n",
      "\n",
      "Epoch: 1; iterations: 8000; Loss: 0.9992061784863472\n",
      "\n",
      "Epoch: 1; iterations: 8200; Loss: 0.9938148917257785\n",
      "\n",
      "Epoch: 1; iterations: 8400; Loss: 0.9756406819820405\n",
      "\n",
      "Epoch: 1; iterations: 8600; Loss: 0.9704984056949616\n",
      "\n",
      "Epoch: 1; iterations: 8800; Loss: 0.9695800603926181\n",
      "\n",
      "Epoch: 1; iterations: 9000; Loss: 0.968143500238657\n",
      "\n",
      "Epoch: 1; iterations: 9200; Loss: 0.9748524414002895\n",
      "\n",
      "Epoch: 1; iterations: 9400; Loss: 0.9941937339305877\n",
      "\n",
      "Epoch: 1; iterations: 9600; Loss: 0.9774639457464218\n",
      "\n",
      "Epoch: 1; iterations: 9800; Loss: 0.9910748866200447\n",
      "\n",
      "Epoch: 1; iterations: 10000; Loss: 0.9474577656388283\n",
      "\n",
      "Epoch: 1; iterations: 10200; Loss: 0.9577174797654152\n",
      "\n",
      "Epoch: 1; iterations: 10400; Loss: 0.95510063290596\n",
      "\n",
      "Epoch: 1; iterations: 10600; Loss: 0.9675257468223571\n",
      "\n",
      "Epoch: 1; iterations: 10800; Loss: 0.9774470070004463\n",
      "\n",
      "Epoch: 1; iterations: 11000; Loss: 0.9535714936256409\n",
      "\n",
      "Epoch: 1; iterations: 11200; Loss: 1.0008923651278019\n",
      "\n",
      "Epoch: 1; iterations: 11400; Loss: 0.9983771738409996\n",
      "\n",
      "Epoch: 1; iterations: 11600; Loss: 0.9449110788106918\n",
      "\n",
      "Epoch: 1; iterations: 11800; Loss: 0.950657075047493\n",
      "\n",
      "Epoch: 1; iterations: 12000; Loss: 0.9506016363203525\n",
      "\n",
      "Epoch: 1; iterations: 12200; Loss: 0.9146543437242508\n",
      "\n",
      "Epoch: 1; iterations: 12400; Loss: 0.9790648652613163\n",
      "\n",
      "Epoch: 1; iterations: 12600; Loss: 0.9731920260190964\n",
      "\n",
      "Epoch: 1; iterations: 12800; Loss: 0.9729245133697987\n",
      "\n",
      "Epoch: 1; iterations: 13000; Loss: 0.9506687831878662\n",
      "\n",
      "Epoch: 1; iterations: 13200; Loss: 0.9569852858781814\n",
      "\n",
      "Epoch: 1; iterations: 13400; Loss: 1.0202668370306491\n",
      "\n",
      "Epoch: 1; iterations: 13600; Loss: 0.9599272152781486\n",
      "\n",
      "Epoch: 1; iterations: 13800; Loss: 0.9383570425212383\n",
      "\n",
      "VALIDATION: Epoch: 2; Loss: 1.0030724968381985\n",
      "\n",
      "Epoch: 2; iterations: 200; Loss: 0.9714445158839226\n",
      "\n",
      "Epoch: 2; iterations: 400; Loss: 0.9747056280076504\n",
      "\n",
      "Epoch: 2; iterations: 600; Loss: 0.9538795794546604\n",
      "\n",
      "Epoch: 2; iterations: 800; Loss: 0.9866149167716504\n",
      "\n",
      "Epoch: 2; iterations: 1000; Loss: 0.9957080562412739\n",
      "\n",
      "Epoch: 2; iterations: 1200; Loss: 0.9465146857500076\n",
      "\n",
      "Epoch: 2; iterations: 1400; Loss: 0.9872742082178593\n",
      "\n",
      "Epoch: 2; iterations: 1600; Loss: 0.9262961122393608\n",
      "\n",
      "Epoch: 2; iterations: 1800; Loss: 0.9406053137779236\n",
      "\n",
      "Epoch: 2; iterations: 2000; Loss: 0.9478691092133522\n",
      "\n",
      "Epoch: 2; iterations: 2200; Loss: 0.9550217851996422\n",
      "\n",
      "Epoch: 2; iterations: 2400; Loss: 0.9542355318367481\n",
      "\n"
     ]
    },
    {
     "name": "stdout",
     "output_type": "stream",
     "text": [
      "Epoch: 2; iterations: 2600; Loss: 0.9585588216781616\n",
      "\n",
      "Epoch: 2; iterations: 2800; Loss: 0.9605448086559772\n",
      "\n",
      "Epoch: 2; iterations: 3000; Loss: 0.9662077829241753\n",
      "\n",
      "Epoch: 2; iterations: 3200; Loss: 0.9502517284452915\n",
      "\n",
      "Epoch: 2; iterations: 3400; Loss: 0.9570618136227131\n",
      "\n",
      "Epoch: 2; iterations: 3600; Loss: 0.9396382448077202\n",
      "\n",
      "Epoch: 2; iterations: 3800; Loss: 0.9480431990325451\n",
      "\n",
      "Epoch: 2; iterations: 4000; Loss: 0.9209232300519943\n",
      "\n",
      "Epoch: 2; iterations: 4200; Loss: 0.9230095812678337\n",
      "\n",
      "Epoch: 2; iterations: 4400; Loss: 0.9237991730868816\n",
      "\n",
      "Epoch: 2; iterations: 4600; Loss: 0.9621127474308014\n",
      "\n",
      "Epoch: 2; iterations: 4800; Loss: 0.9462943284213543\n",
      "\n",
      "Epoch: 2; iterations: 5000; Loss: 0.9456500299274921\n",
      "\n",
      "Epoch: 2; iterations: 5200; Loss: 0.9700519758462905\n",
      "\n",
      "Epoch: 2; iterations: 5400; Loss: 0.9598549999296665\n",
      "\n",
      "Epoch: 2; iterations: 5600; Loss: 0.9326630933582782\n",
      "\n",
      "Epoch: 2; iterations: 5800; Loss: 0.9304283303022385\n",
      "\n",
      "Epoch: 2; iterations: 6000; Loss: 0.9531055231392384\n",
      "\n",
      "Epoch: 2; iterations: 6200; Loss: 0.9395691321790218\n",
      "\n",
      "Epoch: 2; iterations: 6400; Loss: 0.9933242331445217\n",
      "\n",
      "Epoch: 2; iterations: 6600; Loss: 0.9866464501619339\n",
      "\n",
      "Epoch: 2; iterations: 6800; Loss: 0.9731298068165779\n",
      "\n",
      "Epoch: 2; iterations: 7000; Loss: 0.9782807067036629\n",
      "\n",
      "Epoch: 2; iterations: 7200; Loss: 0.9370450493693352\n",
      "\n",
      "Epoch: 2; iterations: 7400; Loss: 0.9209732054173947\n",
      "\n",
      "Epoch: 2; iterations: 7600; Loss: 0.9543467199802399\n",
      "\n",
      "Epoch: 2; iterations: 7800; Loss: 0.9916303488612175\n",
      "\n",
      "Epoch: 2; iterations: 8000; Loss: 1.0032191401720048\n",
      "\n",
      "Epoch: 2; iterations: 8200; Loss: 0.9789163699746132\n",
      "\n",
      "Epoch: 2; iterations: 8400; Loss: 0.9697611558437348\n",
      "\n",
      "Epoch: 2; iterations: 8600; Loss: 0.9336291548609733\n",
      "\n",
      "Epoch: 2; iterations: 8800; Loss: 0.9594321036338807\n",
      "\n",
      "Epoch: 2; iterations: 9000; Loss: 0.9587160517275334\n",
      "\n",
      "Epoch: 2; iterations: 9200; Loss: 0.9756062018871308\n",
      "\n",
      "Epoch: 2; iterations: 9400; Loss: 0.9947663699090481\n",
      "\n",
      "Epoch: 2; iterations: 9600; Loss: 0.9740568423271179\n",
      "\n",
      "Epoch: 2; iterations: 9800; Loss: 0.9507657273113728\n",
      "\n",
      "Epoch: 2; iterations: 10000; Loss: 0.9482916927337647\n",
      "\n",
      "Epoch: 2; iterations: 10200; Loss: 0.9675639250874519\n",
      "\n",
      "Epoch: 2; iterations: 10400; Loss: 0.9660942456126214\n",
      "\n",
      "Epoch: 2; iterations: 10600; Loss: 0.9719763106107712\n",
      "\n",
      "Epoch: 2; iterations: 10800; Loss: 1.0286167290806771\n",
      "\n",
      "Epoch: 2; iterations: 11000; Loss: 1.0302220213413238\n",
      "\n",
      "Epoch: 2; iterations: 11200; Loss: 1.0527899900078774\n",
      "\n",
      "Epoch: 2; iterations: 11400; Loss: 1.0045482286810874\n",
      "\n",
      "Epoch: 2; iterations: 11600; Loss: 0.958420482724905\n",
      "\n",
      "Epoch: 2; iterations: 11800; Loss: 0.9677116659283638\n",
      "\n",
      "Epoch: 2; iterations: 12000; Loss: 0.9551974245905877\n",
      "\n",
      "Epoch: 2; iterations: 12200; Loss: 0.9242891599237919\n",
      "\n",
      "Epoch: 2; iterations: 12400; Loss: 0.9511173820495605\n",
      "\n",
      "Epoch: 2; iterations: 12600; Loss: 0.9768483299016952\n",
      "\n",
      "Epoch: 2; iterations: 12800; Loss: 0.9538814252614976\n",
      "\n",
      "Epoch: 2; iterations: 13000; Loss: 0.9380283424258232\n",
      "\n",
      "Epoch: 2; iterations: 13200; Loss: 0.9500141428411006\n",
      "\n",
      "Epoch: 2; iterations: 13400; Loss: 0.9649852460622788\n",
      "\n",
      "Epoch: 2; iterations: 13600; Loss: 0.9595651131868362\n",
      "\n",
      "Epoch: 2; iterations: 13800; Loss: 0.938456624597311\n",
      "\n",
      "VALIDATION: Epoch: 3; Loss: 1.0825717058962214\n",
      "\n",
      "Epoch: 3; iterations: 200; Loss: 1.0530035823583603\n",
      "\n",
      "Epoch: 3; iterations: 400; Loss: 1.0240609677135943\n",
      "\n",
      "Epoch: 3; iterations: 600; Loss: 0.9972704869508743\n",
      "\n",
      "Epoch: 3; iterations: 800; Loss: 0.9700922429561615\n",
      "\n",
      "Epoch: 3; iterations: 1000; Loss: 0.9788111054897308\n",
      "\n",
      "Epoch: 3; iterations: 1200; Loss: 1.0089494740962983\n",
      "\n",
      "Epoch: 3; iterations: 1400; Loss: 0.9713309234380723\n",
      "\n",
      "Epoch: 3; iterations: 1600; Loss: 0.9487534387409687\n",
      "\n",
      "Epoch: 3; iterations: 1800; Loss: 0.9605228742957115\n",
      "\n",
      "Epoch: 3; iterations: 2000; Loss: 0.9557193696498871\n",
      "\n",
      "Epoch: 3; iterations: 2200; Loss: 0.9637008169293404\n",
      "\n",
      "Epoch: 3; iterations: 2400; Loss: 0.9613247093558311\n",
      "\n",
      "Epoch: 3; iterations: 2600; Loss: 0.9751176261901855\n",
      "\n",
      "Epoch: 3; iterations: 2800; Loss: 0.9863655848801136\n",
      "\n",
      "Epoch: 3; iterations: 3000; Loss: 0.9871267595887184\n",
      "\n",
      "Epoch: 3; iterations: 3200; Loss: 0.9771384052932263\n",
      "\n",
      "Epoch: 3; iterations: 3400; Loss: 0.9666547847539186\n",
      "\n",
      "Epoch: 3; iterations: 3600; Loss: 0.9717916843295097\n",
      "\n",
      "Epoch: 3; iterations: 3800; Loss: 0.9758580137789249\n",
      "\n",
      "Epoch: 3; iterations: 4000; Loss: 0.9648932972550393\n",
      "\n",
      "Epoch: 3; iterations: 4200; Loss: 0.9462843060493469\n",
      "\n",
      "Epoch: 3; iterations: 4400; Loss: 0.9376061442494392\n",
      "\n",
      "Epoch: 3; iterations: 4600; Loss: 0.9643404361605644\n",
      "\n",
      "Epoch: 3; iterations: 4800; Loss: 0.9659358493983745\n",
      "\n",
      "Epoch: 3; iterations: 5000; Loss: 0.9551004958152771\n",
      "\n",
      "Epoch: 3; iterations: 5200; Loss: 0.9550021716952324\n",
      "\n",
      "Epoch: 3; iterations: 5400; Loss: 0.9656648267805577\n",
      "\n",
      "Epoch: 3; iterations: 5600; Loss: 0.9386625042557717\n",
      "\n",
      "Epoch: 3; iterations: 5800; Loss: 0.9511815047264099\n",
      "\n",
      "Epoch: 3; iterations: 6000; Loss: 0.931664842814207\n",
      "\n",
      "Epoch: 3; iterations: 6200; Loss: 0.9486846518516541\n",
      "\n",
      "Epoch: 3; iterations: 6400; Loss: 0.9892581157386303\n",
      "\n",
      "Epoch: 3; iterations: 6600; Loss: 0.9663498798012733\n",
      "\n",
      "Epoch: 3; iterations: 6800; Loss: 0.9628458543121815\n",
      "\n",
      "Epoch: 3; iterations: 7000; Loss: 1.0288098126649856\n",
      "\n",
      "Epoch: 3; iterations: 7200; Loss: 1.0284468990564346\n",
      "\n",
      "Epoch: 3; iterations: 7400; Loss: 1.011845600903034\n",
      "\n",
      "Epoch: 3; iterations: 7600; Loss: 1.011629948914051\n",
      "\n",
      "Epoch: 3; iterations: 7800; Loss: 0.9219036208093166\n",
      "\n",
      "Epoch: 3; iterations: 8000; Loss: 0.947558970451355\n",
      "\n",
      "Epoch: 3; iterations: 8200; Loss: 0.9278094612061978\n",
      "\n",
      "Epoch: 3; iterations: 8400; Loss: 0.9534581845998764\n",
      "\n",
      "Epoch: 3; iterations: 8600; Loss: 0.905677641928196\n",
      "\n",
      "Epoch: 3; iterations: 8800; Loss: 0.9259569376707077\n",
      "\n",
      "Epoch: 3; iterations: 9000; Loss: 0.9269643771648407\n",
      "\n",
      "Epoch: 3; iterations: 9200; Loss: 1.0192125169932842\n",
      "\n",
      "Epoch: 3; iterations: 9400; Loss: 1.0515466099977493\n",
      "\n",
      "Epoch: 3; iterations: 9600; Loss: 1.008476545214653\n",
      "\n",
      "Epoch: 3; iterations: 9800; Loss: 0.9975687186419964\n",
      "\n",
      "Epoch: 3; iterations: 10000; Loss: 0.956181848347187\n",
      "\n",
      "Epoch: 3; iterations: 10200; Loss: 0.9531309634447098\n",
      "\n",
      "Epoch: 3; iterations: 10400; Loss: 0.9093840822577477\n",
      "\n",
      "Epoch: 3; iterations: 10600; Loss: 0.9607446473836899\n",
      "\n",
      "Epoch: 3; iterations: 10800; Loss: 0.96028704226017\n",
      "\n",
      "Epoch: 3; iterations: 11000; Loss: 0.9351925213634967\n",
      "\n",
      "Epoch: 3; iterations: 11200; Loss: 0.950174818187952\n",
      "\n",
      "Epoch: 3; iterations: 11400; Loss: 0.9551825664937497\n",
      "\n",
      "Epoch: 3; iterations: 11600; Loss: 0.9234288278222084\n",
      "\n",
      "Epoch: 3; iterations: 11800; Loss: 0.9228700329363346\n",
      "\n",
      "Epoch: 3; iterations: 12000; Loss: 0.9393036276102066\n",
      "\n",
      "Epoch: 3; iterations: 12200; Loss: 0.9607299114763737\n",
      "\n",
      "Epoch: 3; iterations: 12400; Loss: 0.98606311455369\n",
      "\n",
      "Epoch: 3; iterations: 12600; Loss: 0.9857280585169792\n",
      "\n",
      "Epoch: 3; iterations: 12800; Loss: 1.0057606188952923\n",
      "\n",
      "Epoch: 3; iterations: 13000; Loss: 0.9859723588824272\n",
      "\n",
      "Epoch: 3; iterations: 13200; Loss: 0.9944978128373623\n",
      "\n",
      "Epoch: 3; iterations: 13400; Loss: 0.9817072124779225\n",
      "\n",
      "Epoch: 3; iterations: 13600; Loss: 1.0380138836801052\n",
      "\n",
      "Epoch: 3; iterations: 13800; Loss: 1.0725855833292008\n",
      "\n",
      "VALIDATION: Epoch: 4; Loss: 1.1472125401991808\n",
      "\n",
      "Epoch: 4; iterations: 200; Loss: 1.0462086713314056\n",
      "\n",
      "Epoch: 4; iterations: 400; Loss: 1.001521010696888\n",
      "\n",
      "Epoch: 4; iterations: 600; Loss: 0.9758975979685783\n",
      "\n",
      "Epoch: 4; iterations: 800; Loss: 0.9654062022268772\n",
      "\n",
      "Epoch: 4; iterations: 1000; Loss: 0.9822529561817646\n",
      "\n",
      "Epoch: 4; iterations: 1200; Loss: 0.9689435794949531\n",
      "\n",
      "Epoch: 4; iterations: 1400; Loss: 0.9605696044862271\n",
      "\n",
      "Epoch: 4; iterations: 1600; Loss: 0.9675542238354683\n",
      "\n",
      "Epoch: 4; iterations: 1800; Loss: 0.9888061679899692\n",
      "\n",
      "Epoch: 4; iterations: 2000; Loss: 1.0215612617135048\n",
      "\n",
      "Epoch: 4; iterations: 2200; Loss: 1.0065281215310096\n",
      "\n",
      "Epoch: 4; iterations: 2400; Loss: 1.0000992754101754\n",
      "\n",
      "Epoch: 4; iterations: 2600; Loss: 1.0417761573195456\n",
      "\n",
      "Epoch: 4; iterations: 2800; Loss: 1.0413179191946984\n",
      "\n",
      "Epoch: 4; iterations: 3000; Loss: 1.0171933917701244\n",
      "\n",
      "Epoch: 4; iterations: 3200; Loss: 0.9936149771511554\n",
      "\n",
      "Epoch: 4; iterations: 3400; Loss: 0.9877611511945724\n",
      "\n",
      "Epoch: 4; iterations: 3600; Loss: 1.001431187093258\n",
      "\n",
      "Epoch: 4; iterations: 3800; Loss: 1.022999223768711\n",
      "\n",
      "Epoch: 4; iterations: 4000; Loss: 1.0117579412460327\n",
      "\n",
      "Epoch: 4; iterations: 4200; Loss: 0.9936809135973453\n",
      "\n",
      "Epoch: 4; iterations: 4400; Loss: 0.992490981221199\n",
      "\n",
      "Epoch: 4; iterations: 4600; Loss: 1.0308520916104316\n",
      "\n",
      "Epoch: 4; iterations: 4800; Loss: 1.0226585456728936\n",
      "\n"
     ]
    },
    {
     "name": "stdout",
     "output_type": "stream",
     "text": [
      "Epoch: 4; iterations: 5000; Loss: 1.013347352743149\n",
      "\n",
      "Epoch: 4; iterations: 5200; Loss: 1.0114017915725708\n",
      "\n",
      "Epoch: 4; iterations: 5400; Loss: 1.0223344850540161\n",
      "\n",
      "Epoch: 4; iterations: 5600; Loss: 1.0096289375424385\n",
      "\n",
      "Epoch: 4; iterations: 5800; Loss: 1.015274694263935\n",
      "\n",
      "Epoch: 4; iterations: 6000; Loss: 1.0140830989181995\n",
      "\n",
      "Epoch: 4; iterations: 6200; Loss: 0.9838367629051209\n",
      "\n",
      "Epoch: 4; iterations: 6400; Loss: 1.0415766434371472\n",
      "\n",
      "Epoch: 4; iterations: 6600; Loss: 1.003930580317974\n",
      "\n",
      "Epoch: 4; iterations: 6800; Loss: 0.9961859285831451\n",
      "\n",
      "Epoch: 4; iterations: 7000; Loss: 1.0294593527913094\n",
      "\n",
      "Epoch: 4; iterations: 7200; Loss: 0.9893988013267517\n",
      "\n",
      "Epoch: 4; iterations: 7400; Loss: 0.9516907209157943\n",
      "\n",
      "Epoch: 4; iterations: 7600; Loss: 0.9878515726327897\n",
      "\n",
      "Epoch: 4; iterations: 7800; Loss: 0.9681191071867943\n",
      "\n",
      "Epoch: 4; iterations: 8000; Loss: 0.998572615981102\n",
      "\n",
      "Epoch: 4; iterations: 8200; Loss: 1.0085950012505054\n",
      "\n",
      "Epoch: 4; iterations: 8400; Loss: 0.9677828377485276\n",
      "\n",
      "Epoch: 4; iterations: 8600; Loss: 0.9618587920069694\n",
      "\n",
      "Epoch: 4; iterations: 8800; Loss: 0.9806294538080692\n",
      "\n",
      "Epoch: 4; iterations: 9000; Loss: 0.9946158818900586\n",
      "\n",
      "Epoch: 4; iterations: 9200; Loss: 1.0032121209800244\n",
      "\n",
      "Epoch: 4; iterations: 9400; Loss: 1.022797823548317\n",
      "\n",
      "Epoch: 4; iterations: 9600; Loss: 1.0331078831851483\n",
      "\n",
      "Epoch: 4; iterations: 9800; Loss: 0.9952210012078285\n",
      "\n",
      "Epoch: 4; iterations: 10000; Loss: 0.9733782860636712\n",
      "\n",
      "Epoch: 4; iterations: 10200; Loss: 0.9975698092579841\n",
      "\n",
      "Epoch: 4; iterations: 10400; Loss: 0.9778208765387535\n",
      "\n",
      "Epoch: 4; iterations: 10600; Loss: 0.9806445932388306\n",
      "\n",
      "Epoch: 4; iterations: 10800; Loss: 1.0062946899235248\n",
      "\n",
      "Epoch: 4; iterations: 11000; Loss: 0.9831848788261414\n",
      "\n",
      "Epoch: 4; iterations: 11200; Loss: 1.0020247574150563\n",
      "\n",
      "Epoch: 4; iterations: 11400; Loss: 0.9843358641862869\n",
      "\n",
      "Epoch: 4; iterations: 11600; Loss: 0.9658606036007404\n",
      "\n",
      "Epoch: 4; iterations: 11800; Loss: 1.0140056601166725\n",
      "\n",
      "Epoch: 4; iterations: 12000; Loss: 1.0107828599214554\n",
      "\n",
      "Epoch: 4; iterations: 12200; Loss: 0.9753555025160313\n",
      "\n",
      "Epoch: 4; iterations: 12400; Loss: 1.0037143050134183\n",
      "\n",
      "Epoch: 4; iterations: 12600; Loss: 1.0152148285508156\n",
      "\n",
      "Epoch: 4; iterations: 12800; Loss: 0.9820582021772861\n",
      "\n",
      "Epoch: 4; iterations: 13000; Loss: 0.968419892191887\n",
      "\n",
      "Epoch: 4; iterations: 13200; Loss: 1.0073772084712982\n",
      "\n",
      "Epoch: 4; iterations: 13400; Loss: 1.0206866195797921\n",
      "\n",
      "Epoch: 4; iterations: 13600; Loss: 1.0043754538893699\n",
      "\n",
      "Epoch: 4; iterations: 13800; Loss: 0.988158175200224\n",
      "\n",
      "VALIDATION: Epoch: 5; Loss: 1.0324255232801456\n",
      "\n",
      "Epoch: 5; iterations: 200; Loss: 1.0193358197808267\n",
      "\n",
      "Epoch: 5; iterations: 400; Loss: 0.9758843564987183\n",
      "\n",
      "Epoch: 5; iterations: 600; Loss: 0.9886071218550205\n",
      "\n",
      "Epoch: 5; iterations: 800; Loss: 0.9619792713224888\n",
      "\n",
      "Epoch: 5; iterations: 1000; Loss: 0.980151564925909\n",
      "\n",
      "Epoch: 5; iterations: 1200; Loss: 0.9796074295043945\n",
      "\n",
      "Epoch: 5; iterations: 1400; Loss: 0.9807977797091008\n",
      "\n",
      "Epoch: 5; iterations: 1600; Loss: 0.9861827516555786\n",
      "\n",
      "Epoch: 5; iterations: 1800; Loss: 1.0008961845934392\n",
      "\n",
      "Epoch: 5; iterations: 2000; Loss: 0.9640106478333473\n",
      "\n",
      "Epoch: 5; iterations: 2200; Loss: 0.9943673142790794\n",
      "\n",
      "Epoch: 5; iterations: 2400; Loss: 1.0025307032465935\n",
      "\n",
      "Epoch: 5; iterations: 2600; Loss: 1.0071312454342842\n",
      "\n",
      "Epoch: 5; iterations: 2800; Loss: 0.9992030596733094\n",
      "\n",
      "Epoch: 5; iterations: 3000; Loss: 1.0020133817195893\n",
      "\n",
      "Epoch: 5; iterations: 3200; Loss: 0.990658091455698\n",
      "\n",
      "Epoch: 5; iterations: 3400; Loss: 0.9946084975451231\n",
      "\n",
      "Epoch: 5; iterations: 3600; Loss: 0.9911554378271102\n",
      "\n",
      "Epoch: 5; iterations: 3800; Loss: 1.0030110888183117\n",
      "\n",
      "Epoch: 5; iterations: 4000; Loss: 0.9842778661847115\n",
      "\n",
      "Epoch: 5; iterations: 4200; Loss: 0.9594483496248722\n",
      "\n",
      "Epoch: 5; iterations: 4400; Loss: 0.9659361915290355\n",
      "\n",
      "Epoch: 5; iterations: 4600; Loss: 1.031069116294384\n",
      "\n",
      "Epoch: 5; iterations: 4800; Loss: 1.029225768148899\n",
      "\n",
      "Epoch: 5; iterations: 5000; Loss: 0.9896738117933274\n",
      "\n",
      "Epoch: 5; iterations: 5200; Loss: 0.9852735063433647\n",
      "\n",
      "Epoch: 5; iterations: 5400; Loss: 0.9980931685864926\n",
      "\n",
      "Epoch: 5; iterations: 5600; Loss: 0.9814926582574844\n",
      "\n",
      "Epoch: 5; iterations: 5800; Loss: 0.9979187348484992\n",
      "\n",
      "Epoch: 5; iterations: 6000; Loss: 0.9848745302855968\n",
      "\n",
      "Epoch: 5; iterations: 6200; Loss: 0.9847794294357299\n",
      "\n",
      "Epoch: 5; iterations: 6400; Loss: 1.038205751478672\n",
      "\n",
      "Epoch: 5; iterations: 6600; Loss: 1.0040615504980088\n",
      "\n",
      "Epoch: 5; iterations: 6800; Loss: 0.9972684587538242\n",
      "\n",
      "Epoch: 5; iterations: 7000; Loss: 1.0135440468788146\n",
      "\n",
      "Epoch: 5; iterations: 7200; Loss: 0.9672496050596238\n",
      "\n",
      "Epoch: 5; iterations: 7400; Loss: 0.9523174327611923\n",
      "\n",
      "Epoch: 5; iterations: 7600; Loss: 0.9911792659759522\n",
      "\n",
      "Epoch: 5; iterations: 7800; Loss: 0.9738288351893425\n",
      "\n",
      "Epoch: 5; iterations: 8000; Loss: 0.9953416520357132\n",
      "\n",
      "Epoch: 5; iterations: 8200; Loss: 1.0018483339250088\n",
      "\n",
      "Epoch: 5; iterations: 8400; Loss: 0.9728678902983665\n",
      "\n",
      "Epoch: 5; iterations: 8600; Loss: 0.9576547242701053\n",
      "\n",
      "Epoch: 5; iterations: 8800; Loss: 0.9723303781449795\n",
      "\n",
      "Epoch: 5; iterations: 9000; Loss: 0.970482889264822\n",
      "\n",
      "Epoch: 5; iterations: 9200; Loss: 0.9762913531064987\n",
      "\n",
      "Epoch: 5; iterations: 9400; Loss: 0.9981620422005654\n",
      "\n",
      "Epoch: 5; iterations: 9600; Loss: 0.9879680345952511\n",
      "\n",
      "Epoch: 5; iterations: 9800; Loss: 0.9716187074780465\n",
      "\n",
      "Epoch: 5; iterations: 10000; Loss: 0.9626369838416576\n",
      "\n",
      "Epoch: 5; iterations: 10200; Loss: 0.9714874158799648\n",
      "\n",
      "Epoch: 5; iterations: 10400; Loss: 0.9553430482745171\n",
      "\n",
      "Epoch: 5; iterations: 10600; Loss: 0.9612990319728851\n",
      "\n",
      "Epoch: 5; iterations: 10800; Loss: 0.9905683341622352\n",
      "\n",
      "Epoch: 5; iterations: 11000; Loss: 0.9639212372899055\n",
      "\n",
      "Epoch: 5; iterations: 11200; Loss: 0.9848002055287362\n",
      "\n",
      "Epoch: 5; iterations: 11400; Loss: 0.9893442951142788\n",
      "\n",
      "Epoch: 5; iterations: 11600; Loss: 0.9544153161346912\n",
      "\n",
      "Epoch: 5; iterations: 11800; Loss: 0.9587431946396827\n",
      "\n",
      "Epoch: 5; iterations: 12000; Loss: 0.963987117111683\n",
      "\n",
      "Epoch: 5; iterations: 12200; Loss: 0.9466340033710003\n",
      "\n",
      "Epoch: 5; iterations: 12400; Loss: 0.9666417653858662\n",
      "\n",
      "Epoch: 5; iterations: 12600; Loss: 0.9762680947780609\n",
      "\n",
      "Epoch: 5; iterations: 12800; Loss: 0.9474161967635155\n",
      "\n",
      "Epoch: 5; iterations: 13000; Loss: 0.928418125808239\n",
      "\n",
      "Epoch: 5; iterations: 13200; Loss: 0.9501019483804702\n",
      "\n",
      "Epoch: 5; iterations: 13400; Loss: 0.9633662654459476\n",
      "\n",
      "Epoch: 5; iterations: 13600; Loss: 0.977785367667675\n",
      "\n",
      "Epoch: 5; iterations: 13800; Loss: 0.9831876526772976\n",
      "\n",
      "VALIDATION: Epoch: 6; Loss: 1.062882608639266\n",
      "\n",
      "Epoch: 6; iterations: 200; Loss: 1.0066784983873367\n",
      "\n",
      "Epoch: 6; iterations: 400; Loss: 0.9818470972776413\n",
      "\n",
      "Epoch: 6; iterations: 600; Loss: 0.9491700340807437\n",
      "\n",
      "Epoch: 6; iterations: 800; Loss: 0.9323302695155143\n",
      "\n",
      "Epoch: 6; iterations: 1000; Loss: 0.9658079269528389\n",
      "\n",
      "Epoch: 6; iterations: 1200; Loss: 0.9849134829640388\n",
      "\n",
      "Epoch: 6; iterations: 1400; Loss: 0.9811303541064262\n",
      "\n",
      "Epoch: 6; iterations: 1600; Loss: 0.9296166318655014\n",
      "\n",
      "Epoch: 6; iterations: 1800; Loss: 0.944756668806076\n",
      "\n",
      "Epoch: 6; iterations: 2000; Loss: 0.929955639243126\n",
      "\n",
      "Epoch: 6; iterations: 2200; Loss: 0.9402737790346145\n",
      "\n",
      "Epoch: 6; iterations: 2400; Loss: 0.9377959775924682\n",
      "\n",
      "Epoch: 6; iterations: 2600; Loss: 0.9465601988136768\n",
      "\n",
      "Epoch: 6; iterations: 2800; Loss: 0.9444160650670529\n",
      "\n",
      "Epoch: 6; iterations: 3000; Loss: 0.9416405156254768\n",
      "\n",
      "Epoch: 6; iterations: 3200; Loss: 0.9371095134317875\n",
      "\n",
      "Epoch: 6; iterations: 3400; Loss: 0.9381970834732055\n",
      "\n",
      "Epoch: 6; iterations: 3600; Loss: 0.9336472874879838\n",
      "\n",
      "Epoch: 6; iterations: 3800; Loss: 0.9367706628143787\n",
      "\n",
      "Epoch: 6; iterations: 4000; Loss: 0.9279064485430717\n",
      "\n",
      "Epoch: 6; iterations: 4200; Loss: 0.9154273822903634\n",
      "\n",
      "Epoch: 6; iterations: 4400; Loss: 0.9120742420852185\n",
      "\n",
      "Epoch: 6; iterations: 4600; Loss: 0.9481276851892472\n",
      "\n",
      "Epoch: 6; iterations: 4800; Loss: 0.9433766187727451\n",
      "\n",
      "Epoch: 6; iterations: 5000; Loss: 0.9304327863454819\n",
      "\n",
      "Epoch: 6; iterations: 5200; Loss: 0.9303065668046474\n",
      "\n",
      "Epoch: 6; iterations: 5400; Loss: 0.9593969365954399\n",
      "\n",
      "Epoch: 6; iterations: 5600; Loss: 0.9431508158147335\n",
      "\n",
      "Epoch: 6; iterations: 5800; Loss: 0.9418782033026218\n",
      "\n",
      "Epoch: 6; iterations: 6000; Loss: 0.9255824622511863\n",
      "\n",
      "Epoch: 6; iterations: 6200; Loss: 0.9006224556267262\n",
      "\n",
      "Epoch: 6; iterations: 6400; Loss: 0.9656645815074444\n",
      "\n",
      "Epoch: 6; iterations: 6600; Loss: 0.9291676399111748\n",
      "\n",
      "Epoch: 6; iterations: 6800; Loss: 0.9266342915594578\n",
      "\n",
      "Epoch: 6; iterations: 7000; Loss: 0.9728047642111778\n",
      "\n",
      "Epoch: 6; iterations: 7200; Loss: 0.917531567811966\n",
      "\n"
     ]
    },
    {
     "name": "stdout",
     "output_type": "stream",
     "text": [
      "Epoch: 6; iterations: 7400; Loss: 0.9089007914066315\n",
      "\n",
      "Epoch: 6; iterations: 7600; Loss: 0.9468275462090969\n",
      "\n",
      "Epoch: 6; iterations: 7800; Loss: 0.9277120563387871\n",
      "\n",
      "Epoch: 6; iterations: 8000; Loss: 0.9532852186262608\n",
      "\n",
      "Epoch: 6; iterations: 8200; Loss: 0.9477252152562141\n",
      "\n",
      "Epoch: 6; iterations: 8400; Loss: 0.9365708765387535\n",
      "\n",
      "Epoch: 6; iterations: 8600; Loss: 0.9097199508547783\n",
      "\n",
      "Epoch: 6; iterations: 8800; Loss: 0.9848549573123455\n",
      "\n",
      "Epoch: 6; iterations: 9000; Loss: 1.0076705695688724\n",
      "\n",
      "Epoch: 6; iterations: 9200; Loss: 1.0101263949275017\n",
      "\n"
     ]
    },
    {
     "ename": "KeyboardInterrupt",
     "evalue": "",
     "output_type": "error",
     "traceback": [
      "\u001b[0;31m---------------------------------------------------------------------------\u001b[0m",
      "\u001b[0;31mKeyboardInterrupt\u001b[0m                         Traceback (most recent call last)",
      "\u001b[0;32m<ipython-input-113-7383d0f77e1c>\u001b[0m in \u001b[0;36m<module>\u001b[0;34m()\u001b[0m\n\u001b[1;32m     24\u001b[0m         \u001b[0mloss\u001b[0m \u001b[0;34m=\u001b[0m \u001b[0mSMAPE\u001b[0m\u001b[0;34m(\u001b[0m\u001b[0mtarget\u001b[0m\u001b[0;34m,\u001b[0m\u001b[0moutput\u001b[0m\u001b[0;34m)\u001b[0m\u001b[0;34m\u001b[0m\u001b[0m\n\u001b[1;32m     25\u001b[0m \u001b[0;34m\u001b[0m\u001b[0m\n\u001b[0;32m---> 26\u001b[0;31m         \u001b[0mloss\u001b[0m\u001b[0;34m.\u001b[0m\u001b[0mbackward\u001b[0m\u001b[0;34m(\u001b[0m\u001b[0;34m)\u001b[0m\u001b[0;34m\u001b[0m\u001b[0m\n\u001b[0m\u001b[1;32m     27\u001b[0m \u001b[0;31m#         torch.nn.utils.clip_grad_norm_(model.parameters(), 0.25)\u001b[0m\u001b[0;34m\u001b[0m\u001b[0;34m\u001b[0m\u001b[0m\n\u001b[1;32m     28\u001b[0m         \u001b[0moptimizer\u001b[0m\u001b[0;34m.\u001b[0m\u001b[0mstep\u001b[0m\u001b[0;34m(\u001b[0m\u001b[0;34m)\u001b[0m\u001b[0;34m\u001b[0m\u001b[0m\n",
      "\u001b[0;32m~/anaconda3/lib/python3.6/site-packages/torch/tensor.py\u001b[0m in \u001b[0;36mbackward\u001b[0;34m(self, gradient, retain_graph, create_graph)\u001b[0m\n\u001b[1;32m     91\u001b[0m                 \u001b[0mproducts\u001b[0m\u001b[0;34m.\u001b[0m \u001b[0mDefaults\u001b[0m \u001b[0mto\u001b[0m\u001b[0;31m \u001b[0m\u001b[0;31m`\u001b[0m\u001b[0;31m`\u001b[0m\u001b[0;32mFalse\u001b[0m\u001b[0;31m`\u001b[0m\u001b[0;31m`\u001b[0m\u001b[0;34m.\u001b[0m\u001b[0;34m\u001b[0m\u001b[0m\n\u001b[1;32m     92\u001b[0m         \"\"\"\n\u001b[0;32m---> 93\u001b[0;31m         \u001b[0mtorch\u001b[0m\u001b[0;34m.\u001b[0m\u001b[0mautograd\u001b[0m\u001b[0;34m.\u001b[0m\u001b[0mbackward\u001b[0m\u001b[0;34m(\u001b[0m\u001b[0mself\u001b[0m\u001b[0;34m,\u001b[0m \u001b[0mgradient\u001b[0m\u001b[0;34m,\u001b[0m \u001b[0mretain_graph\u001b[0m\u001b[0;34m,\u001b[0m \u001b[0mcreate_graph\u001b[0m\u001b[0;34m)\u001b[0m\u001b[0;34m\u001b[0m\u001b[0m\n\u001b[0m\u001b[1;32m     94\u001b[0m \u001b[0;34m\u001b[0m\u001b[0m\n\u001b[1;32m     95\u001b[0m     \u001b[0;32mdef\u001b[0m \u001b[0mregister_hook\u001b[0m\u001b[0;34m(\u001b[0m\u001b[0mself\u001b[0m\u001b[0;34m,\u001b[0m \u001b[0mhook\u001b[0m\u001b[0;34m)\u001b[0m\u001b[0;34m:\u001b[0m\u001b[0;34m\u001b[0m\u001b[0m\n",
      "\u001b[0;32m~/anaconda3/lib/python3.6/site-packages/torch/autograd/__init__.py\u001b[0m in \u001b[0;36mbackward\u001b[0;34m(tensors, grad_tensors, retain_graph, create_graph, grad_variables)\u001b[0m\n\u001b[1;32m     87\u001b[0m     Variable._execution_engine.run_backward(\n\u001b[1;32m     88\u001b[0m         \u001b[0mtensors\u001b[0m\u001b[0;34m,\u001b[0m \u001b[0mgrad_tensors\u001b[0m\u001b[0;34m,\u001b[0m \u001b[0mretain_graph\u001b[0m\u001b[0;34m,\u001b[0m \u001b[0mcreate_graph\u001b[0m\u001b[0;34m,\u001b[0m\u001b[0;34m\u001b[0m\u001b[0m\n\u001b[0;32m---> 89\u001b[0;31m         allow_unreachable=True)  # allow_unreachable flag\n\u001b[0m\u001b[1;32m     90\u001b[0m \u001b[0;34m\u001b[0m\u001b[0m\n\u001b[1;32m     91\u001b[0m \u001b[0;34m\u001b[0m\u001b[0m\n",
      "\u001b[0;31mKeyboardInterrupt\u001b[0m: "
     ]
    }
   ],
   "source": [
    "from torch import optim\n",
    "epoch=30\n",
    "indicator=200\n",
    "\n",
    "model=NN(encoder_dim=25,out_dim=10).cuda()\n",
    "optimizer = optim.RMSprop(model.parameters(), lr=0.001, alpha=0.99, \\\n",
    "    eps=1e-08, weight_decay=0, momentum=0, centered=False)\n",
    "# optimizer = torch.optim.SGD(model.parameters(), lr=0.01, momentum=0)\n",
    "\n",
    "for i in range(epoch):\n",
    "    trainx=X_loader(train_x)\n",
    "    trainy=Y_loader(train_y)\n",
    "    running_loss = 0.0\n",
    "    validation(test_x,test_y)\n",
    "    for j,X_batch in enumerate(trainx):\n",
    "        #Parse loaded batch\n",
    "        \n",
    "        model.train()\n",
    "\n",
    "        optimizer.zero_grad()\n",
    "        output = model(X_batch)\n",
    "        \n",
    "\n",
    "        target=next(trainy)\n",
    "        loss = SMAPE(target,output)\n",
    "\n",
    "        loss.backward()\n",
    "#         torch.nn.utils.clip_grad_norm_(model.parameters(), 0.25)\n",
    "        optimizer.step()\n",
    "\n",
    "        running_loss += loss.item()\n",
    "\n",
    "        if (j>0) and (j % indicator == 0):\n",
    "            print(\"Epoch: {}; iterations: {}; Loss: {}\\n\".format(i, j, running_loss / indicator))\n",
    "            running_loss = 0.0\n",
    "#             for name, param in model.named_parameters():\n",
    "#                 if param.requires_grad:\n",
    "#                     print (name, param.data,param.grad.data)\n",
    "#             print(output)\n"
   ]
  },
  {
   "cell_type": "code",
   "execution_count": 15,
   "metadata": {
    "collapsed": true
   },
   "outputs": [],
   "source": [
    "def validation(test_x,test_y):\n",
    "    testx=X_loader(test_x)\n",
    "    testy=Y_loader(test_y)\n",
    "    running_loss = 0.0\n",
    "    for j,X_batch in enumerate(testx):\n",
    "        #Parse loaded batch\n",
    "        \n",
    "        model.eval()\n",
    "        output = model(X_batch)\n",
    "#         MSE = nn.MSELoss()\n",
    "        target=next(testy)\n",
    "        loss = SMAPE(target,output)\n",
    "        running_loss += loss.item()\n",
    "        print(j,end='\\r')\n",
    "        if j >500:\n",
    "            break\n",
    "    print(\"VALIDATION: Epoch: {}; Loss: {}\\n\".format(i, running_loss / j))\n"
   ]
  },
  {
   "cell_type": "code",
   "execution_count": 92,
   "metadata": {
    "collapsed": true
   },
   "outputs": [],
   "source": [
    "testx=X_loader(test_x)\n",
    "testy=Y_loader(test_y)\n",
    "running_loss = 0.0\n",
    "\n",
    "preds=[]\n",
    "targets=[]\n",
    "\n",
    "scores=[]\n",
    "for j,X_batch in enumerate(testx):\n",
    "    #Parse loaded batch\n",
    "\n",
    "    model.eval()\n",
    "    output = model(X_batch)\n",
    "\n",
    "    target=next(testy)\n",
    "    loss = SMAPE(target,output)\n",
    "    scores.append(loss.item())\n",
    "    out=output.detach().cpu().numpy()\n",
    "    target=target.detach().cpu().numpy()\n",
    "    if j ==0:\n",
    "        preds=out\n",
    "        targets=target\n",
    "    else:\n",
    "        preds=np.concatenate((preds,out),axis=0)\n",
    "        targets=np.concatenate((targets,target),axis=0)"
   ]
  },
  {
   "cell_type": "code",
   "execution_count": 93,
   "metadata": {
    "collapsed": true
   },
   "outputs": [],
   "source": [
    "testy=Y_loader(test_y)"
   ]
  },
  {
   "cell_type": "code",
   "execution_count": 71,
   "metadata": {
    "collapsed": true
   },
   "outputs": [],
   "source": [
    "b=next(testy)"
   ]
  },
  {
   "cell_type": "code",
   "execution_count": 72,
   "metadata": {},
   "outputs": [
    {
     "data": {
      "text/plain": [
       "torch.Size([10, 10])"
      ]
     },
     "execution_count": 72,
     "metadata": {},
     "output_type": "execute_result"
    }
   ],
   "source": [
    "b.shape"
   ]
  },
  {
   "cell_type": "code",
   "execution_count": 74,
   "metadata": {
    "collapsed": true
   },
   "outputs": [],
   "source": [
    "# b"
   ]
  },
  {
   "cell_type": "code",
   "execution_count": 26,
   "metadata": {
    "collapsed": true
   },
   "outputs": [],
   "source": [
    "testx=X_loader(test_x)"
   ]
  },
  {
   "cell_type": "code",
   "execution_count": 38,
   "metadata": {
    "collapsed": true
   },
   "outputs": [],
   "source": [
    "a=next(testx)"
   ]
  },
  {
   "cell_type": "code",
   "execution_count": 81,
   "metadata": {},
   "outputs": [
    {
     "data": {
      "text/plain": [
       "tensor([[  0.8660,   0.7198,   0.7961,   0.8807,   0.8273,   0.8657,\n",
       "           0.8306,   0.8440,   0.7945,   0.7082],\n",
       "        [ -0.0646,  -0.0918,  -0.0662,  -0.0747,  -0.0824,  -0.0652,\n",
       "          -0.0787,  -0.0708,  -0.0672,  -0.0752],\n",
       "        [  0.4423,   0.3598,   0.4255,   0.4583,   0.4231,   0.4540,\n",
       "           0.4242,   0.4292,   0.4064,   0.3821],\n",
       "        [ 25.6526,  25.4014,  25.0006,  27.6423,  26.9459,  26.2854,\n",
       "          26.3887,  25.8179,  24.7527,  25.2589],\n",
       "        [  8.6509,   8.2487,   8.3812,   9.2030,   8.9090,   8.8745,\n",
       "           8.7344,   8.6792,   8.1685,   8.3825],\n",
       "        [  0.0067,   0.0032,   0.0078,   0.0039,   0.0059,   0.0076,\n",
       "           0.0057,   0.0040,   0.0056,   0.0063],\n",
       "        [ 23.2517,  22.8867,  22.4827,  25.0516,  24.3713,  23.8319,\n",
       "          23.8098,  23.4247,  22.3898,  22.8923],\n",
       "        [ 32.0793,  32.0578,  31.4899,  34.5718,  33.7392,  32.7997,\n",
       "          33.1382,  32.2140,  31.0240,  31.5368],\n",
       "        [  0.2126,   0.1493,   0.2083,   0.2149,   0.1890,   0.2320,\n",
       "           0.1938,   0.1976,   0.1879,   0.1700],\n",
       "        [ 29.4301,  29.2631,  28.7449,  31.7584,  30.9413,  30.0507,\n",
       "          30.4145,  29.6273,  28.4410,  28.9803]], device='cuda:0')"
      ]
     },
     "execution_count": 81,
     "metadata": {},
     "output_type": "execute_result"
    }
   ],
   "source": [
    "model(a*0.1)"
   ]
  },
  {
   "cell_type": "code",
   "execution_count": 41,
   "metadata": {},
   "outputs": [
    {
     "data": {
      "text/plain": [
       "torch.Size([10, 150, 25])"
      ]
     },
     "execution_count": 41,
     "metadata": {},
     "output_type": "execute_result"
    }
   ],
   "source": [
    "a.shape"
   ]
  },
  {
   "cell_type": "code",
   "execution_count": 18,
   "metadata": {},
   "outputs": [
    {
     "data": {
      "text/plain": [
       "1.4529695603251458"
      ]
     },
     "execution_count": 18,
     "metadata": {},
     "output_type": "execute_result"
    }
   ],
   "source": [
    "np.mean(scores)"
   ]
  },
  {
   "cell_type": "code",
   "execution_count": 76,
   "metadata": {},
   "outputs": [
    {
     "data": {
      "text/plain": [
       "4000"
      ]
     },
     "execution_count": 76,
     "metadata": {},
     "output_type": "execute_result"
    }
   ],
   "source": [
    "len(preds)"
   ]
  },
  {
   "cell_type": "code",
   "execution_count": 77,
   "metadata": {
    "collapsed": true
   },
   "outputs": [],
   "source": [
    "# def recover(start,change):\n",
    "#     series=[]\n",
    "#     last=start\n",
    "#     for c in change:\n",
    "#         last=last*(1+c)\n",
    "#         series.append(last)\n",
    "#     return series"
   ]
  },
  {
   "cell_type": "code",
   "execution_count": 45,
   "metadata": {
    "collapsed": true
   },
   "outputs": [],
   "source": [
    "# def recover(ID,series,bin_size):\n",
    "#     std,biased_mean=discrete_dic[ID]\n",
    "#     series=series*(std*bin_size)+biased_mean\n",
    "#     return series"
   ]
  },
  {
   "cell_type": "code",
   "execution_count": 94,
   "metadata": {},
   "outputs": [
    {
     "data": {
      "text/plain": [
       "array([[61.72419  , 61.01527  , 60.17254  , ..., 61.448544 , 60.616264 ,\n",
       "        60.525696 ],\n",
       "       [61.72419  , 61.01527  , 60.17254  , ..., 61.448544 , 60.616264 ,\n",
       "        60.525696 ],\n",
       "       [59.257797 , 58.51191  , 57.55127  , ..., 58.932667 , 58.026352 ,\n",
       "        57.92686  ],\n",
       "       ...,\n",
       "       [61.72419  , 61.01527  , 60.17254  , ..., 61.448544 , 60.616264 ,\n",
       "        60.525696 ],\n",
       "       [61.616505 , 60.906246 , 60.066288 , ..., 61.340267 , 60.508945 ,\n",
       "        60.4181   ],\n",
       "       [ 6.663654 ,  6.4042926,  5.8321004, ...,  6.886004 ,  6.293185 ,\n",
       "         6.2729697]], dtype=float32)"
      ]
     },
     "execution_count": 94,
     "metadata": {},
     "output_type": "execute_result"
    }
   ],
   "source": [
    "preds"
   ]
  },
  {
   "cell_type": "code",
   "execution_count": 100,
   "metadata": {},
   "outputs": [
    {
     "name": "stdout",
     "output_type": "stream",
     "text": [
      "[61.72419  61.01527  60.17254  64.43452  64.944595 62.347313 63.609066\n",
      " 61.448544 60.616264 60.525696]\n"
     ]
    },
    {
     "data": {
      "text/plain": [
       "<matplotlib.legend.Legend at 0x7fb36bc25048>"
      ]
     },
     "execution_count": 100,
     "metadata": {},
     "output_type": "execute_result"
    },
    {
     "data": {
      "image/png": "[encoded data removed]",
      "text/plain": [
       "<matplotlib.figure.Figure at 0x7fb369030c50>"
      ]
     },
     "metadata": {},
     "output_type": "display_data"
    }
   ],
   "source": [
    "ID=200\n",
    "source=sample_series[ID][encode_start:encode_end]\n",
    "pred=preds[ID]\n",
    "truth=targets[ID]\n",
    "print(pred)\n",
    "# for i in range(10):\n",
    "plt.figure()\n",
    "plt.plot(np.arange(encode_start,encode_end),source,color='g',label='history')\n",
    "plt.plot(np.arange(encode_end,encode_end+decode_len),pred,color='r',label='prediction')\n",
    "plt.plot(np.arange(encode_end,encode_end+decode_len),truth,color='b',label='truth')\n",
    "plt.legend()"
   ]
  },
  {
   "cell_type": "code",
   "execution_count": 129,
   "metadata": {
    "collapsed": true
   },
   "outputs": [],
   "source": [
    "a=next(trainx)"
   ]
  },
  {
   "cell_type": "code",
   "execution_count": 132,
   "metadata": {},
   "outputs": [
    {
     "data": {
      "text/plain": [
       "torch.Size([10, 25])"
      ]
     },
     "execution_count": 132,
     "metadata": {},
     "output_type": "execute_result"
    }
   ],
   "source": [
    "a[:,2,:].shape"
   ]
  },
  {
   "cell_type": "code",
   "execution_count": 131,
   "metadata": {},
   "outputs": [
    {
     "data": {
      "text/plain": [
       "torch.Size([10, 150, 25])"
      ]
     },
     "execution_count": 131,
     "metadata": {},
     "output_type": "execute_result"
    }
   ],
   "source": [
    "a.shape"
   ]
  },
  {
   "cell_type": "code",
   "execution_count": 68,
   "metadata": {},
   "outputs": [
    {
     "data": {
      "text/plain": [
       "1.2302703113622075"
      ]
     },
     "execution_count": 68,
     "metadata": {},
     "output_type": "execute_result"
    }
   ],
   "source": [
    "from util.evaluation import SMAPE\n",
    "mean_scores=[]\n",
    "for ID in range(4000):\n",
    "    source=sample_series[ID][encode_start:encode_end]\n",
    "    pred=preds[ID]\n",
    "    truth=targets[ID]\n",
    "    scores=[]\n",
    "    for (t,p) in zip(truth,pred):\n",
    "        scores.append(SMAPE(t,p))\n",
    "\n",
    "    mean_scores.append(np.mean(scores))\n",
    "np.mean(mean_scores)"
   ]
  },
  {
   "cell_type": "code",
   "execution_count": 2,
   "metadata": {},
   "outputs": [
    {
     "ename": "NameError",
     "evalue": "name 'EncoderRNN' is not defined",
     "output_type": "error",
     "traceback": [
      "\u001b[0;31m---------------------------------------------------------------------------\u001b[0m",
      "\u001b[0;31mNameError\u001b[0m                                 Traceback (most recent call last)",
      "\u001b[0;32m<ipython-input-2-e2fa0136de0a>\u001b[0m in \u001b[0;36m<module>\u001b[0;34m()\u001b[0m\n\u001b[1;32m     10\u001b[0m \u001b[0;34m\u001b[0m\u001b[0m\n\u001b[1;32m     11\u001b[0m \u001b[0;34m\u001b[0m\u001b[0m\n\u001b[0;32m---> 12\u001b[0;31m \u001b[0mencoder\u001b[0m\u001b[0;34m=\u001b[0m\u001b[0mEncoderRNN\u001b[0m\u001b[0;34m(\u001b[0m\u001b[0;36m1\u001b[0m\u001b[0;34m,\u001b[0m\u001b[0mhidden_size\u001b[0m\u001b[0;34m)\u001b[0m\u001b[0;34m.\u001b[0m\u001b[0mcuda\u001b[0m\u001b[0;34m(\u001b[0m\u001b[0;34m)\u001b[0m \u001b[0;32mif\u001b[0m \u001b[0muse_cuda\u001b[0m \u001b[0;32melse\u001b[0m \u001b[0mEncoderRNN\u001b[0m\u001b[0;34m(\u001b[0m\u001b[0;36m1\u001b[0m\u001b[0;34m,\u001b[0m\u001b[0mhidden_size\u001b[0m\u001b[0;34m)\u001b[0m\u001b[0;34m\u001b[0m\u001b[0m\n\u001b[0m\u001b[1;32m     13\u001b[0m \u001b[0mdecoder\u001b[0m\u001b[0;34m=\u001b[0m\u001b[0mDecoderRNN\u001b[0m\u001b[0;34m(\u001b[0m\u001b[0;36m1\u001b[0m\u001b[0;34m,\u001b[0m\u001b[0mhidden_size\u001b[0m\u001b[0;34m)\u001b[0m\u001b[0;34m.\u001b[0m\u001b[0mcuda\u001b[0m\u001b[0;34m(\u001b[0m\u001b[0;34m)\u001b[0m \u001b[0;32mif\u001b[0m \u001b[0muse_cuda\u001b[0m \u001b[0;32melse\u001b[0m \u001b[0mDecoderRNN\u001b[0m\u001b[0;34m(\u001b[0m\u001b[0;36m1\u001b[0m\u001b[0;34m,\u001b[0m\u001b[0mhidden_size\u001b[0m\u001b[0;34m)\u001b[0m\u001b[0;34m\u001b[0m\u001b[0m\n\u001b[1;32m     14\u001b[0m \u001b[0mteacher_forcing_ratio\u001b[0m \u001b[0;34m=\u001b[0m \u001b[0;36m1\u001b[0m\u001b[0;34m\u001b[0m\u001b[0m\n",
      "\u001b[0;31mNameError\u001b[0m: name 'EncoderRNN' is not defined"
     ]
    }
   ],
   "source": [
    "from torch import optim\n",
    "epoch=30\n",
    "indicator=20\n",
    "\n",
    "# optimizer = optim.RMSprop(model.parameters(), lr=0.001, alpha=0.99, \\\n",
    "#     eps=1e-08, weight_decay=0, momentum=0, centered=False)\n",
    "# optimizer = torch.optim.SGD(model.parameters(), lr=0.01, momentum=0)\n",
    "hidden_size=10\n",
    "lr=0.01\n",
    "\n",
    "\n",
    "encoder=EncoderRNN(1,hidden_size).cuda() if use_cuda else EncoderRNN(1,hidden_size)\n",
    "decoder=DecoderRNN(1,hidden_size).cuda() if use_cuda else DecoderRNN(1,hidden_size)\n",
    "teacher_forcing_ratio = 1\n",
    "encoder_optimizer = optim.SGD(encoder.parameters(), lr=lr)\n",
    "decoder_optimizer = optim.SGD(decoder.parameters(), lr=lr)\n",
    "\n",
    "for i in range(epoch):\n",
    "    trainx=X_loader(train_x)\n",
    "    trainy=Y_loader(train_y)\n",
    "    running_loss = 0.0\n",
    "#     validation(test_x,test_y)\n",
    "    for j,X_batch in enumerate(trainx):\n",
    "        #Parse loaded batch\n",
    "        \n",
    "        x=next(trainx)\n",
    "        y=next(trainy)\n",
    "        loss=train(x, y, encoder, decoder, encoder_optimizer, \\\n",
    "                  decoder_optimizer, SMAPE)\n",
    "        running_loss += loss\n",
    "\n",
    "        if (j>0) and (j % indicator == 0):\n",
    "            print(\"Epoch: {}; iterations: {}; Loss: {}\\n\".format(i, j, running_loss / indicator))\n",
    "            running_loss = 0.0"
   ]
  },
  {
   "cell_type": "code",
   "execution_count": 187,
   "metadata": {},
   "outputs": [
    {
     "data": {
      "text/plain": [
       "1.9928925529358879"
      ]
     },
     "execution_count": 187,
     "metadata": {},
     "output_type": "execute_result"
    }
   ],
   "source": [
    "trainx=X_loader(train_x)\n",
    "trainy=Y_loader(train_y)\n"
   ]
  },
  {
   "cell_type": "code",
   "execution_count": 185,
   "metadata": {
    "collapsed": true
   },
   "outputs": [],
   "source": [
    "from numpy import random as random"
   ]
  },
  {
   "cell_type": "code",
   "execution_count": 3,
   "metadata": {},
   "outputs": [
    {
     "ename": "NameError",
     "evalue": "name 'nn' is not defined",
     "output_type": "error",
     "traceback": [
      "\u001b[0;31m---------------------------------------------------------------------------\u001b[0m",
      "\u001b[0;31mNameError\u001b[0m                                 Traceback (most recent call last)",
      "\u001b[0;32m<ipython-input-3-7771b1d73273>\u001b[0m in \u001b[0;36m<module>\u001b[0;34m()\u001b[0m\n\u001b[1;32m      1\u001b[0m \u001b[0muse_cuda\u001b[0m\u001b[0;34m=\u001b[0m\u001b[0;32mTrue\u001b[0m\u001b[0;34m\u001b[0m\u001b[0m\n\u001b[0;32m----> 2\u001b[0;31m \u001b[0;32mclass\u001b[0m \u001b[0mEncoderRNN\u001b[0m\u001b[0;34m(\u001b[0m\u001b[0mnn\u001b[0m\u001b[0;34m.\u001b[0m\u001b[0mModule\u001b[0m\u001b[0;34m)\u001b[0m\u001b[0;34m:\u001b[0m\u001b[0;34m\u001b[0m\u001b[0m\n\u001b[0m\u001b[1;32m      3\u001b[0m     \u001b[0;32mdef\u001b[0m \u001b[0m__init__\u001b[0m\u001b[0;34m(\u001b[0m\u001b[0mself\u001b[0m\u001b[0;34m,\u001b[0m \u001b[0minput_size\u001b[0m\u001b[0;34m,\u001b[0m \u001b[0mhidden_size\u001b[0m\u001b[0;34m)\u001b[0m\u001b[0;34m:\u001b[0m\u001b[0;34m\u001b[0m\u001b[0m\n\u001b[1;32m      4\u001b[0m         \u001b[0msuper\u001b[0m\u001b[0;34m(\u001b[0m\u001b[0mEncoderRNN\u001b[0m\u001b[0;34m,\u001b[0m \u001b[0mself\u001b[0m\u001b[0;34m)\u001b[0m\u001b[0;34m.\u001b[0m\u001b[0m__init__\u001b[0m\u001b[0;34m(\u001b[0m\u001b[0;34m)\u001b[0m\u001b[0;34m\u001b[0m\u001b[0m\n\u001b[1;32m      5\u001b[0m \u001b[0;34m\u001b[0m\u001b[0m\n",
      "\u001b[0;31mNameError\u001b[0m: name 'nn' is not defined"
     ]
    }
   ],
   "source": [
    "use_cuda=True\n",
    "class EncoderRNN(nn.Module):\n",
    "    def __init__(self, input_size, hidden_size):\n",
    "        super(EncoderRNN, self).__init__()\n",
    "\n",
    "        self.hidden_size = hidden_size\n",
    "        self.gru = nn.GRU(1, hidden_size)\n",
    "\n",
    "    def forward(self, input, hidden):\n",
    "\n",
    "        output, hidden = self.gru(input, hidden)\n",
    "        return output, hidden\n",
    "\n",
    "    def initHidden(self):\n",
    "        result = torch.zeros(1, 1, self.hidden_size)\n",
    "        if use_cuda:\n",
    "            return result.cuda()\n",
    "        else:\n",
    "            return result\n",
    "\n",
    "class DecoderRNN(nn.Module):\n",
    "    def __init__(self, hidden_size, output_size):\n",
    "        super(DecoderRNN, self).__init__()\n",
    "        self.hidden_size = hidden_size\n",
    "        self.gru = nn.GRU(1, hidden_size)\n",
    "#         self.out = nn.Linear(hidden_size, output_size)\n",
    "\n",
    "\n",
    "    def forward(self, input, hidden):\n",
    "\n",
    "        output, hidden = self.gru(input, hidden)\n",
    "\n",
    "        return output, hidden\n",
    "\n",
    "    def initHidden(self):\n",
    "        result = torch.zeros(1, 1, self.hidden_size)\n",
    "        if use_cuda:\n",
    "            return result.cuda()\n",
    "        else:\n",
    "            return result\n",
    "\n",
    "\n",
    "\n",
    "\n",
    "def train(input_variable, target_variable, encoder, decoder, encoder_optimizer, \\\n",
    "          decoder_optimizer, criterion):\n",
    "    encoder_hidden = encoder.initHidden()\n",
    "\n",
    "    encoder_optimizer.zero_grad()\n",
    "    decoder_optimizer.zero_grad()\n",
    "\n",
    "    input_length = input_variable.size()[1]\n",
    "    target_length = target_variable.size()[1]\n",
    "    \n",
    "    encoder_outputs = torch.zeros(input_length, encoder.hidden_size)\n",
    "    encoder_outputs = encoder_outputs.cuda() if use_cuda else encoder_outputs\n",
    "   \n",
    "    loss = 0\n",
    "\n",
    "    for ei in range(input_length):\n",
    "\n",
    "        encoder_output, encoder_hidden = encoder(\n",
    "            input_variable[:,ei:(ei+1),:], encoder_hidden)\n",
    "        encoder_outputs[ei] = encoder_output[0][0]\n",
    "\n",
    "    decoder_input = input_variable[:,-1:,:]\n",
    "    decoder_input = decoder_input.cuda() if use_cuda else decoder_input\n",
    "    \n",
    "    decoder_hidden = encoder_hidden\n",
    "\n",
    "    use_teacher_forcing = True if random.random() < teacher_forcing_ratio else False\n",
    "\n",
    "    if use_teacher_forcing:\n",
    "        # Teacher forcing: Feed the target as the next input\n",
    "        for di in range(target_length):\n",
    "            decoder_output, decoder_hidden = decoder(\n",
    "                decoder_input, decoder_hidden)\n",
    "            loss += criterion(decoder_output, target_variable[:,di:di+1,:])\n",
    "            decoder_input = target_variable[:,di:di+1,:]  # Teacher forcing\n",
    "\n",
    "    else:\n",
    "        # Without teacher forcing: use its own predictions as the next input\n",
    "        for di in range(target_length):\n",
    "\n",
    "            decoder_output, decoder_hidden = decoder(\n",
    "                decoder_input, decoder_hidden)\n",
    "            \n",
    "            decoder_input = decoder_output\n",
    "            decoder_input = decoder_input.cuda() if use_cuda else decoder_input\n",
    "            \n",
    "            loss += criterion(decoder_output, target_variable[:,di:di+1,:])\n",
    "\n",
    "    loss.backward()\n",
    "\n",
    "    encoder_optimizer.step()\n",
    "    decoder_optimizer.step()\n",
    "\n",
    "    return loss.item() / target_length"
   ]
  }
 ],
 "metadata": {
  "kernelspec": {
   "display_name": "Python 3",
   "language": "python",
   "name": "python3"
  },
  "language_info": {
   "codemirror_mode": {
    "name": "ipython",
    "version": 3
   },
   "file_extension": ".py",
   "mimetype": "text/x-python",
   "name": "python",
   "nbconvert_exporter": "python",
   "pygments_lexer": "ipython3",
   "version": "3.6.3"
  }
 },
 "nbformat": 4,
 "nbformat_minor": 2
}
