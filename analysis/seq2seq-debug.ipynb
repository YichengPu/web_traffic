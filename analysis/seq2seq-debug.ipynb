{
 "cells": [
  {
   "cell_type": "code",
   "execution_count": 1,
   "metadata": {
    "collapsed": true
   },
   "outputs": [],
   "source": [
    "import pandas as pd\n",
    "import numpy as np\n",
    "from matplotlib import pyplot as plt\n",
    "from sklearn import datasets, linear_model\n",
    "from sklearn.metrics import mean_squared_error, r2_score\n",
    "from sklearn.metrics import mean_squared_error\n",
    "from util.evaluation import SMAPE\n",
    "%matplotlib inline\n",
    "\n",
    "traffic=pd.read_csv('../data/cl_traffic.csv')\n",
    "\n",
    "traffic=traffic.fillna(0)\n",
    "\n",
    "traffic.head()\n",
    "\n",
    "sample_index=np.random.choice(traffic.index,400,replace=False)\n",
    "sample_series=[]\n",
    "for u in sample_index:\n",
    "#     print('Training...|| {:.2f}'.format(u/tot_len*100)+'%',end='\\r')\n",
    "    sample_series.append(traffic.loc[u][:-4].values)\n",
    "\n",
    "def diff(x,epsilon=1e-3):\n",
    "    return((x[1:]-x[:-1])/(x[:-1]+epsilon))\n"
   ]
  },
  {
   "cell_type": "markdown",
   "metadata": {},
   "source": [
    "## prepare training and testing data"
   ]
  },
  {
   "cell_type": "code",
   "execution_count": 2,
   "metadata": {
    "collapsed": true
   },
   "outputs": [],
   "source": [
    "def split_and_clean(sample_series,train_start,train_end,test_len):\n",
    "    clean_series=[]\n",
    "    test_series=[]\n",
    "    for index in range(len(sample_series)):\n",
    "        c=np.array(sample_series[index][train_start:train_end])\n",
    "        test_series.append(sample_series[index][train_end:(train_end+test_len)])\n",
    "        std=np.std(c)\n",
    "        mean=np.mean(c)\n",
    "        c[(c-np.mean(c))>2*std]=mean+2*std\n",
    "        c[(c-np.mean(c))<-2*std]=mean-2*std\n",
    "        clean_series.append(c)\n",
    "    return (clean_series,test_series)"
   ]
  },
  {
   "cell_type": "code",
   "execution_count": 3,
   "metadata": {
    "collapsed": true
   },
   "outputs": [],
   "source": [
    "\n",
    "def normalize_X(clean_series):\n",
    "\n",
    "    recover_dic={}\n",
    "    scaled_series=[]\n",
    "    for i in range(len(clean_series)):\n",
    "        if np.sum(clean_series[i])==0:\n",
    "            scaled_series.append(np.zeros_like(clean_series[i]))\n",
    "            recover_dic[i]=(0,0)\n",
    "        else:\n",
    "            std=np.std(clean_series[i])\n",
    "            biased_mean=np.mean(clean_series[i])-3*std\n",
    "\n",
    "            recover_dic[i]=(std,biased_mean)\n",
    "            new_series=clean_series[i]-biased_mean\n",
    "            new_series[new_series<0]=0\n",
    "            new_series=new_series/(6*std)\n",
    "            new_series[new_series>1]=1\n",
    "            scaled_series.append(new_series)\n",
    "    return (scaled_series,recover_dic)\n",
    "\n",
    "\n",
    "def normalize_Y(clean_series,recover_dic):\n",
    "    scaled_series=[]\n",
    "    for i in range(len(clean_series)):\n",
    "        (std,biased_mean) = recover_dic[i]\n",
    "        \n",
    "        if std==0:\n",
    "            # ignore all zero cases\n",
    "#             print(clean_series[i])\n",
    "            scaled_series.append(np.zeros_like(clean_series[i]))\n",
    "\n",
    "        else:\n",
    "            \n",
    "\n",
    "            new_series=clean_series[i]-biased_mean\n",
    "            new_series[new_series<0]=0\n",
    "            new_series=new_series/(6*std)\n",
    "            new_series[new_series>1]=1\n",
    "            scaled_series.append(new_series)\n",
    "    return (scaled_series)\n",
    "\n",
    "def recover(scaled_series,recover_dic):\n",
    "    recovered_series=[]\n",
    "    for i in range(len(scaled_series)):\n",
    "        std,biased_mean=recover_dic[i]\n",
    "        new_series=scaled_series[i]*(6*float(std))+biased_mean\n",
    "        recovered_series.append(new_series)\n",
    "    return recovered_series"
   ]
  },
  {
   "cell_type": "code",
   "execution_count": 160,
   "metadata": {
    "collapsed": true
   },
   "outputs": [],
   "source": [
    "aa,dic=normalize_X(clean_series)"
   ]
  },
  {
   "cell_type": "code",
   "execution_count": 161,
   "metadata": {
    "collapsed": true
   },
   "outputs": [],
   "source": [
    "bb=recover(aa,dic)"
   ]
  },
  {
   "cell_type": "code",
   "execution_count": 6,
   "metadata": {
    "collapsed": true
   },
   "outputs": [],
   "source": [
    "encode_start=0\n",
    "encode_end=150\n",
    "decode_len=63\n",
    "\n",
    "clean_series,decode_series = split_and_clean(sample_series,encode_start,encode_end,decode_len)\n",
    "train_x,train_dic = normalize_X(clean_series)\n",
    "train_y = normalize_Y(decode_series,train_dic)\n",
    "\n",
    "\n",
    "encode_start=200\n",
    "encode_end=350\n",
    "decode_len=63\n",
    "\n",
    "\n",
    "clean_series,decode_series = split_and_clean(sample_series,encode_start,encode_end,decode_len)\n",
    "\n",
    "test_x,test_dic = normalize_X(clean_series)\n",
    "test_y = normalize_Y(decode_series,test_dic)"
   ]
  },
  {
   "cell_type": "code",
   "execution_count": 184,
   "metadata": {
    "collapsed": true
   },
   "outputs": [],
   "source": [
    "# plt.plot(np.concatenate((train_x[18],train_y[18]),axis=0))"
   ]
  },
  {
   "cell_type": "code",
   "execution_count": 7,
   "metadata": {
    "collapsed": true
   },
   "outputs": [],
   "source": [
    "def X_loader(x,batchsize=10):\n",
    "    batch=0\n",
    "    x=np.array(x,dtype=np.float32)\n",
    "#     x=np.log(x+1)\n",
    "    \n",
    "    while batch<(len(x) // batchsize):\n",
    "        \n",
    "        data=x[batch*batchsize:(batch+1)*batchsize,:]\n",
    "        tensor=torch.FloatTensor(np.array(data, dtype=float))\n",
    "        tensor=tensor.unsqueeze(2).cuda()\n",
    "#         tensor=tensor.repeat(1,1,25)\n",
    "        yield(tensor)\n",
    "        batch+=1"
   ]
  },
  {
   "cell_type": "code",
   "execution_count": 8,
   "metadata": {
    "collapsed": true
   },
   "outputs": [],
   "source": [
    "\n",
    "def Y_loader(y,batchsize=10):\n",
    "    batch=0\n",
    "    y=np.array(y,dtype=np.float32)\n",
    "#     y=np.log(y+1)\n",
    "    \n",
    "    while batch<(len(y) // batchsize):\n",
    "        \n",
    "        data=y[batch*batchsize:(batch+1)*batchsize,:]\n",
    "        tensor=torch.FloatTensor(np.array(data, dtype=float))\n",
    "        tensor=tensor.unsqueeze(2).cuda()\n",
    "\n",
    "        yield(tensor)\n",
    "        batch+=1"
   ]
  },
  {
   "cell_type": "code",
   "execution_count": 9,
   "metadata": {
    "collapsed": true
   },
   "outputs": [],
   "source": [
    "import torch\n",
    "import torch.nn as nn\n"
   ]
  },
  {
   "cell_type": "code",
   "execution_count": 18,
   "metadata": {},
   "outputs": [
    {
     "name": "stdout",
     "output_type": "stream",
     "text": [
      "gru.weight_ih_l0 tensor([[ 0.5137],\n",
      "        [-0.4497],\n",
      "        [ 0.3978]], device='cuda:0')\n",
      "gru.weight_hh_l0 tensor([[ 0.5945],\n",
      "        [-0.1228],\n",
      "        [ 0.7839]], device='cuda:0')\n",
      "gru.bias_ih_l0 tensor([ 0.0366, -0.4584,  1.3032], device='cuda:0')\n",
      "gru.bias_hh_l0 tensor([ 0.3414, -0.9296,  1.3885], device='cuda:0')\n"
     ]
    }
   ],
   "source": [
    "for name, param in decoder.named_parameters():\n",
    "    if param.requires_grad:\n",
    "        print (name, param.data)"
   ]
  },
  {
   "cell_type": "code",
   "execution_count": 19,
   "metadata": {
    "collapsed": true
   },
   "outputs": [],
   "source": [
    "import numpy\n",
    "\n",
    "def sigmoid(x):\n",
    "    return 1 / (1 + numpy.exp(-x))"
   ]
  },
  {
   "cell_type": "code",
   "execution_count": 55,
   "metadata": {},
   "outputs": [
    {
     "name": "stdout",
     "output_type": "stream",
     "text": [
      "-1.44152\n"
     ]
    },
    {
     "data": {
      "text/plain": [
       "0.19131007820695337"
      ]
     },
     "execution_count": 55,
     "metadata": {},
     "output_type": "execute_result"
    }
   ],
   "source": [
    "x=0.4\n",
    "h=1\n",
    "r1=-0.3818*x-0.6236-0.0479*h-0.6173\n",
    "print(r1)\n",
    "r=sigmoid(r1)\n",
    "r"
   ]
  },
  {
   "cell_type": "code",
   "execution_count": 43,
   "metadata": {},
   "outputs": [
    {
     "data": {
      "text/plain": [
       "0.5494280370459982"
      ]
     },
     "execution_count": 43,
     "metadata": {},
     "output_type": "execute_result"
    }
   ],
   "source": [
    "z=sigmoid(-0.3851*x+0.6046+0.3549*x-0.4002)\n",
    "z"
   ]
  },
  {
   "cell_type": "code",
   "execution_count": 44,
   "metadata": {},
   "outputs": [
    {
     "name": "stdout",
     "output_type": "stream",
     "text": [
      "0.22696\n",
      "1.6848443328167804\n"
     ]
    },
    {
     "data": {
      "text/plain": [
       "0.6876821322670081"
      ]
     },
     "execution_count": 44,
     "metadata": {},
     "output_type": "execute_result"
    }
   ],
   "source": [
    "n1=(0.1743*x+0.1921)\n",
    "print(n1)\n",
    "n2=(0.3714*x+1.5644+r*n1)\n",
    "print(n2)\n",
    "n=np.tanh(sigmoid(n2))\n",
    "n"
   ]
  },
  {
   "cell_type": "code",
   "execution_count": 45,
   "metadata": {},
   "outputs": [
    {
     "data": {
      "text/plain": [
       "0.8592783252699375"
      ]
     },
     "execution_count": 45,
     "metadata": {},
     "output_type": "execute_result"
    }
   ],
   "source": [
    "out=(1-z)*n+z*h\n",
    "out"
   ]
  },
  {
   "cell_type": "code",
   "execution_count": 24,
   "metadata": {
    "collapsed": true
   },
   "outputs": [],
   "source": [
    "trainx=X_loader(train_x)\n",
    "sample=next(trainx)"
   ]
  },
  {
   "cell_type": "code",
   "execution_count": 25,
   "metadata": {},
   "outputs": [
    {
     "data": {
      "text/plain": [
       "tensor([[[ 0.2080]],\n",
       "\n",
       "        [[ 0.2724]],\n",
       "\n",
       "        [[ 0.3864]],\n",
       "\n",
       "        [[ 0.9286]],\n",
       "\n",
       "        [[ 0.4617]],\n",
       "\n",
       "        [[ 0.3999]],\n",
       "\n",
       "        [[ 0.3935]],\n",
       "\n",
       "        [[ 0.6377]],\n",
       "\n",
       "        [[ 0.5955]],\n",
       "\n",
       "        [[ 0.4381]]], device='cuda:0')"
      ]
     },
     "execution_count": 25,
     "metadata": {},
     "output_type": "execute_result"
    }
   ],
   "source": [
    "sample[:,3:4,:]"
   ]
  },
  {
   "cell_type": "code",
   "execution_count": 85,
   "metadata": {},
   "outputs": [
    {
     "data": {
      "text/plain": [
       "tensor([[[ 1.]]], device='cuda:0')"
      ]
     },
     "execution_count": 85,
     "metadata": {},
     "output_type": "execute_result"
    }
   ],
   "source": [
    "oo"
   ]
  },
  {
   "cell_type": "code",
   "execution_count": 57,
   "metadata": {},
   "outputs": [
    {
     "data": {
      "text/plain": [
       "(tensor([[[ 0.9619]],\n",
       " \n",
       "         [[ 0.9904]],\n",
       " \n",
       "         [[ 0.9972]],\n",
       " \n",
       "         [[ 0.9990]],\n",
       " \n",
       "         [[ 0.9996]],\n",
       " \n",
       "         [[ 0.9997]],\n",
       " \n",
       "         [[ 0.9997]],\n",
       " \n",
       "         [[ 0.9998]],\n",
       " \n",
       "         [[ 0.9998]],\n",
       " \n",
       "         [[ 0.9998]]], device='cuda:0'),\n",
       " tensor([[[ 0.9998]]], device='cuda:0'))"
      ]
     },
     "execution_count": 57,
     "metadata": {},
     "output_type": "execute_result"
    }
   ],
   "source": [
    "decoder(sample[:,6:7,:],oo)"
   ]
  },
  {
   "cell_type": "code",
   "execution_count": 11,
   "metadata": {
    "collapsed": true
   },
   "outputs": [],
   "source": [
    "def SMAPE(true,predicted):\n",
    "    true=true.squeeze()\n",
    "    predicted=predicted.squeeze()\n",
    "#     true=torch.exp(true)-1\n",
    "#     predicted=torch.exp(predicted)-1\n",
    "    epsilon = 0.1\n",
    "    summ = torch.abs(true) + torch.abs(predicted) + epsilon\n",
    "    smape = torch.abs(predicted - true) / summ * 2.0\n",
    "    return torch.mean(smape)"
   ]
  },
  {
   "cell_type": "code",
   "execution_count": 51,
   "metadata": {},
   "outputs": [],
   "source": [
    "from torch import optim\n",
    "from numpy import random as random\n",
    "epoch=1\n",
    "indicator=20\n",
    "\n",
    "# optimizer = optim.RMSprop(model.parameters(), lr=0.001, alpha=0.99, \\\n",
    "#     eps=1e-08, weight_decay=0, momentum=0, centered=False)\n",
    "# optimizer = torch.optim.SGD(model.parameters(), lr=0.01, momentum=0)\n",
    "input_size=1\n",
    "hidden_size=1\n",
    "output_size=1\n",
    "lr=0.01\n",
    "\n",
    "encoder=EncoderRNN(input_size,hidden_size,output_size).cuda() if use_cuda else EncoderRNN(1,hidden_size)\n",
    "decoder=DecoderRNN(input_size,hidden_size,output_size).cuda() if use_cuda else DecoderRNN(1,hidden_size)\n",
    "teacher_forcing_ratio = 0\n",
    "encoder_optimizer = optim.SGD(encoder.parameters(), lr=lr)\n",
    "decoder_optimizer = optim.SGD(decoder.parameters(), lr=lr)"
   ]
  },
  {
   "cell_type": "code",
   "execution_count": 58,
   "metadata": {},
   "outputs": [],
   "source": [
    "for i in range(epoch):\n",
    "    trainx=X_loader(train_x)\n",
    "    trainy=Y_loader(train_y)\n",
    "    running_loss = 0.0\n",
    "#     validation(test_x,test_y)\n",
    "    for j,X_batch in enumerate(trainx):\n",
    "        #Parse loaded batch\n",
    "        x=X_batch\n",
    "        y=next(trainy)\n",
    "        (loss,oo)=train(x, y, encoder, decoder, encoder_optimizer, \\\n",
    "                  decoder_optimizer, SMAPE)\n",
    "        running_loss += loss\n",
    "\n",
    "        if (j>0) and (j % indicator == 0):\n",
    "            print(\"Epoch: {}; iterations: {}; Loss: {}\\n\".format(i, j, running_loss / indicator))\n",
    "            running_loss = 0.0\n",
    "    _,_,score = valid_iter(test_x, test_y)\n",
    "    print(\"Validation! Epoch: {}; Loss: {}\\n\".format(i, np.mean(score)))"
   ]
  },
  {
   "cell_type": "code",
   "execution_count": null,
   "metadata": {
    "collapsed": true
   },
   "outputs": [],
   "source": []
  },
  {
   "cell_type": "code",
   "execution_count": 148,
   "metadata": {
    "collapsed": true
   },
   "outputs": [],
   "source": [
    "preds,targets,scores=valid_iter(test_x,test_y)"
   ]
  },
  {
   "cell_type": "code",
   "execution_count": 124,
   "metadata": {},
   "outputs": [
    {
     "name": "stdout",
     "output_type": "stream",
     "text": [
      "[13.259035 25.032623 26.540068 26.56335  26.567204 26.567862 26.567972\n",
      " 26.567991 26.567995 26.567995 26.567995 26.567995 26.567995 26.567995\n",
      " 26.567995 26.567995 26.567995 26.567995 26.567995 26.567995 26.567995\n",
      " 26.567995 26.567995 26.567995 26.567995 26.567995 26.567995 26.567995\n",
      " 26.567995 26.567995 26.567995 26.567995 26.567995 26.567995 26.567995\n",
      " 26.567995 26.567995 26.567995 26.567995 26.567995 26.567995 26.567995\n",
      " 26.567995 26.567995 26.567995 26.567995 26.567995 26.567995 26.567995\n",
      " 26.567995 26.567995 26.567995 26.567995 26.567995 26.567995 26.567995\n",
      " 26.567995 26.567995 26.567995 26.567995 26.567995 26.567995 26.567995]\n"
     ]
    },
    {
     "data": {
      "text/plain": [
       "<matplotlib.legend.Legend at 0x7f11f809c198>"
      ]
     },
     "execution_count": 124,
     "metadata": {},
     "output_type": "execute_result"
    },
    {
     "data": {
      "image/png": "[encoded data removed]",
      "text/plain": [
       "<matplotlib.figure.Figure at 0x7f12a02a3668>"
      ]
     },
     "metadata": {},
     "output_type": "display_data"
    }
   ],
   "source": [
    "ID=40\n",
    "source=sample_series[ID][encode_start:encode_end]\n",
    "pred=preds[ID]\n",
    "truth=targets[ID]\n",
    "print(pred)\n",
    "# for i in range(10):\n",
    "plt.figure()\n",
    "plt.plot(np.arange(encode_start,encode_end),source,color='g',label='history')\n",
    "plt.plot(np.arange(encode_end,encode_end+decode_len),pred,color='r',label='prediction')\n",
    "plt.plot(np.arange(encode_end,encode_end+decode_len),truth,color='b',label='truth')\n",
    "plt.legend()"
   ]
  },
  {
   "cell_type": "code",
   "execution_count": 56,
   "metadata": {
    "collapsed": true
   },
   "outputs": [],
   "source": [
    "# preds[0]"
   ]
  },
  {
   "cell_type": "code",
   "execution_count": 12,
   "metadata": {
    "collapsed": true
   },
   "outputs": [],
   "source": [
    "def valid_iter(test_x,test_y):\n",
    "    testx=X_loader(test_x)\n",
    "    testy=Y_loader(test_y)\n",
    "\n",
    "    preds=[]\n",
    "    targets=[]\n",
    "\n",
    "    scores=[]\n",
    "    for j,X_batch in enumerate(testx):\n",
    "        #Parse loaded batch\n",
    "        print(j,end='\\r')\n",
    "        target=next(testy)\n",
    "        score,out = valid(X_batch, target, encoder, decoder, SMAPE)\n",
    "        out=out.T\n",
    "        scores.append(score)\n",
    "        target=target.squeeze().detach().cpu().numpy()\n",
    "        if j ==0:\n",
    "            preds=out\n",
    "            targets=target\n",
    "        else:\n",
    "            preds=np.concatenate((preds,out),axis=0)\n",
    "            targets=np.concatenate((targets,target),axis=0)\n",
    "    return (preds,targets,scores)"
   ]
  },
  {
   "cell_type": "code",
   "execution_count": 13,
   "metadata": {
    "collapsed": true
   },
   "outputs": [],
   "source": [
    "# preds"
   ]
  },
  {
   "cell_type": "code",
   "execution_count": 50,
   "metadata": {
    "collapsed": true
   },
   "outputs": [],
   "source": [
    "use_cuda=True\n",
    "class EncoderRNN(nn.Module):\n",
    "    def __init__(self, input_size, hidden_size,output_size):\n",
    "        super(EncoderRNN, self).__init__()\n",
    "\n",
    "        self.hidden_size = hidden_size\n",
    "        self.gru = nn.GRU(input_size, hidden_size)\n",
    "#         self.out = nn.Linear(hidden_size, output_size)\n",
    "    def forward(self, input, hidden):\n",
    "\n",
    "        output, hidden = self.gru(input, hidden)\n",
    "#         output = self.out(output)\n",
    "        return output, hidden\n",
    "\n",
    "    def initHidden(self):\n",
    "        \n",
    "#         nn.init.xavier_normal_(self.out)\n",
    "        paras= nn.init.xavier_normal_(torch.empty(1,1,self.hidden_size)).cuda() if use_cuda else \\\n",
    "                nn.init.xavier_normal_(torch.empty(1,1,self.hidden_size))\n",
    "        return paras\n",
    "\n",
    "class DecoderRNN(nn.Module):\n",
    "    def __init__(self, input_size,hidden_size, output_size):\n",
    "        super(DecoderRNN, self).__init__()\n",
    "        self.hidden_size = hidden_size\n",
    "        self.gru = nn.GRU(input_size, hidden_size)\n",
    "#         self.out = nn.Linear(hidden_size, output_size)\n",
    "\n",
    "\n",
    "    def forward(self, input, hidden):\n",
    "\n",
    "        output, hidden = self.gru(input, hidden)\n",
    "#         output = self.out(output)\n",
    "        return output, hidden\n",
    "\n",
    "    def initHidden(self):\n",
    "        paras= nn.init.xavier_normal_(torch.empty(1,1,self.hidden_size)).cuda() if use_cuda else \\\n",
    "                nn.init.xavier_normal_(torch.empty(1,1,self.hidden_size))\n",
    "        return paras\n",
    "\n",
    "\n",
    "def train(input_variable, target_variable, encoder, decoder, encoder_optimizer, \\\n",
    "          decoder_optimizer, criterion):\n",
    "    encoder.train()\n",
    "    decoder.train()\n",
    "    encoder_hidden = encoder.initHidden()\n",
    "\n",
    "    encoder_optimizer.zero_grad()\n",
    "    decoder_optimizer.zero_grad()\n",
    "\n",
    "    input_length = input_variable.size()[1]\n",
    "    target_length = target_variable.size()[1]\n",
    "    \n",
    "    encoder_outputs = torch.zeros(input_length, encoder.hidden_size)\n",
    "    encoder_outputs = encoder_outputs.cuda() if use_cuda else encoder_outputs\n",
    "   \n",
    "    loss = 0\n",
    "\n",
    "    for ei in range(input_length-1):\n",
    "\n",
    "        encoder_output, encoder_hidden = encoder(\n",
    "            input_variable[:,ei:(ei+1),:], encoder_hidden)\n",
    "        loss += criterion(encoder_output,input_variable[:,ei+1:(ei+2),:])\n",
    "        encoder_outputs[ei] = encoder_output[0,0]\n",
    "    #get the first prediction\n",
    "    encoder_output, encoder_hidden = encoder(input_variable[:,ei+1:(ei+2),:], encoder_hidden)\n",
    "    decoder_input = encoder_output\n",
    "    decoder_input = decoder_input.cuda() if use_cuda else decoder_input\n",
    "    \n",
    "    decoder_hidden = encoder_hidden\n",
    "    oo=encoder_hidden\n",
    "    use_teacher_forcing = True if random.random() < teacher_forcing_ratio else False\n",
    "\n",
    "    if use_teacher_forcing:\n",
    "        # Teacher forcing: Feed the target as the next input\n",
    "        for di in range(target_length):\n",
    "#             print(decoder_hidden.size())\n",
    "            decoder_output, decoder_hidden = decoder(\n",
    "                decoder_input, decoder_hidden)\n",
    "            \n",
    "            loss += criterion(decoder_output, target_variable[:,di:di+1,:])\n",
    "            decoder_input = target_variable[:,di:di+1,:]  # Teacher forcing\n",
    "\n",
    "    else:\n",
    "        print('real start')\n",
    "        print(input_variable[:,ei:(ei+1),:])\n",
    "        print('encode start')\n",
    "        print(decoder_input)\n",
    "        # Without teacher forcing: use its own predictions as the next input\n",
    "        for di in range(target_length):\n",
    "            \n",
    "#             print(decoder_hidden.size())\n",
    "            decoder_output, decoder_hidden = decoder(\n",
    "                decoder_input, decoder_hidden)\n",
    "            \n",
    "            decoder_input = decoder_output\n",
    "            decoder_input = decoder_input.cuda() if use_cuda else decoder_input\n",
    "#             print('sizes')\n",
    "#             print(decoder_output.size(),target_variable[:,di:di+1,:].size())\n",
    "#             print('hidden')\n",
    "#             print(decoder_hidden)\n",
    "#             oo=decoder_hidden\n",
    "#             print('pred')\n",
    "#             print(decoder_output)\n",
    "            \n",
    "#             print('truth')\n",
    "#             print(target_variable[:,di:di+1,:])\n",
    "#             print('-'*90)\n",
    "            loss += criterion(decoder_output, target_variable[:,di:di+1,:])\n",
    "\n",
    "    loss.backward()\n",
    "\n",
    "    encoder_optimizer.step()\n",
    "    decoder_optimizer.step()\n",
    "\n",
    "    return loss.item() / target_length,encoder_hidden"
   ]
  },
  {
   "cell_type": "code",
   "execution_count": 15,
   "metadata": {
    "collapsed": true
   },
   "outputs": [],
   "source": [
    "def valid(input_variable, target_variable, encoder, decoder, criterion):\n",
    "    encoder.eval()\n",
    "    decoder.eval()\n",
    "    encoder_hidden = encoder.initHidden()\n",
    "    \n",
    "    input_length = input_variable.size()[1]\n",
    "    target_length = target_variable.size()[1]\n",
    "#     print(target_length)\n",
    "    \n",
    "    loss = 0\n",
    "\n",
    "    for ei in range(input_length):\n",
    "\n",
    "        encoder_output, encoder_hidden = encoder(\n",
    "            input_variable[:,ei:(ei+1),:], encoder_hidden)\n",
    "    \n",
    "    decoder_input = encoder_output\n",
    "    decoder_input = decoder_input.cuda() if use_cuda else decoder_input\n",
    "    \n",
    "    decoder_hidden = encoder_hidden\n",
    "\n",
    "#     use_teacher_forcing = True if random.random() < teacher_forcing_ratio else False\n",
    "\n",
    "#     if use_teacher_forcing:\n",
    "#         # Teacher forcing: Feed the target as the next input\n",
    "#         for di in range(target_length):\n",
    "#             decoder_output, decoder_hidden = decoder(\n",
    "#                 decoder_input, decoder_hidden)\n",
    "#             loss += criterion(decoder_output, target_variable[:,di:di+1,:])\n",
    "#             decoder_input = target_variable[:,di:di+1,:]  # Teacher forcing\n",
    "\n",
    "#     else:\n",
    "        # Without teacher forcing: use its own predictions as the next input\n",
    "    outputs=[]\n",
    "\n",
    "    for di in range(target_length):\n",
    "        decoder_output, decoder_hidden = decoder(\n",
    "            decoder_input, decoder_hidden)\n",
    "\n",
    "        decoder_input = decoder_output\n",
    "        decoder_input = decoder_input.cuda() if use_cuda else decoder_input\n",
    "        outputs.append(decoder_output.squeeze().detach().cpu().numpy())\n",
    "#         print(decoder_output.size(), target_variable[:,di:di+1,:].size())\n",
    "        loss += criterion(decoder_output, target_variable[:,di:di+1,:])\n",
    "\n",
    "\n",
    "    return (loss.item() / target_length,np.array(outputs))"
   ]
  }
 ],
 "metadata": {
  "kernelspec": {
   "display_name": "Python 3",
   "language": "python",
   "name": "python3"
  },
  "language_info": {
   "codemirror_mode": {
    "name": "ipython",
    "version": 3
   },
   "file_extension": ".py",
   "mimetype": "text/x-python",
   "name": "python",
   "nbconvert_exporter": "python",
   "pygments_lexer": "ipython3",
   "version": "3.6.3"
  }
 },
 "nbformat": 4,
 "nbformat_minor": 2
}
