{
 "cells": [
  {
   "cell_type": "code",
   "execution_count": null,
   "metadata": {
    "collapsed": true
   },
   "outputs": [],
   "source": [
    "import pandas as pd\n",
    "import numpy as np\n",
    "from matplotlib import pyplot as plt\n",
    "from sklearn import datasets, linear_model\n",
    "from sklearn.metrics import mean_squared_error, r2_score\n",
    "from sklearn.metrics import mean_squared_error\n",
    "from util.evaluation import SMAPE\n",
    "%matplotlib inline\n",
    "\n",
    "traffic=pd.read_csv('../data/cl_traffic.csv')\n",
    "\n",
    "traffic=traffic.fillna(0)\n",
    "\n",
    "traffic.head()"
   ]
  },
  {
   "cell_type": "code",
   "execution_count": 222,
   "metadata": {
    "collapsed": true
   },
   "outputs": [],
   "source": [
    "sample_index=np.random.choice(traffic.index,1000,replace=False)\n",
    "sample_series=[]\n",
    "for u in sample_index:\n",
    "#     print('Training...|| {:.2f}'.format(u/tot_len*100)+'%',end='\\r')\n",
    "    sample_series.append(traffic.loc[u][:-4].values)\n",
    "\n",
    "def diff(x,epsilon=1e-3):\n",
    "    return((x[1:]-x[:-1])/(x[:-1]+epsilon))"
   ]
  },
  {
   "cell_type": "markdown",
   "metadata": {},
   "source": [
    "## prepare training and testing data"
   ]
  },
  {
   "cell_type": "code",
   "execution_count": 162,
   "metadata": {
    "collapsed": true
   },
   "outputs": [],
   "source": [
    "def split_and_clean(sample_series,train_start,train_end,test_len):\n",
    "    clean_series=[]\n",
    "    test_series=[]\n",
    "    for index in range(len(sample_series)):\n",
    "        c=np.array(sample_series[index][train_start:train_end])\n",
    "        test_series.append(sample_series[index][train_end:(train_end+test_len)])\n",
    "        std=np.std(c)\n",
    "        mean=np.mean(c)\n",
    "        c[(c-np.mean(c))>2*std]=mean+2*std\n",
    "        c[(c-np.mean(c))<-2*std]=mean-2*std\n",
    "        clean_series.append(c)\n",
    "    return (clean_series,test_series)"
   ]
  },
  {
   "cell_type": "code",
   "execution_count": 163,
   "metadata": {
    "collapsed": true
   },
   "outputs": [],
   "source": [
    "\n",
    "def normalize_X(clean_series):\n",
    "    recover_dic={}\n",
    "    scaled_series=[]\n",
    "    for i in range(len(clean_series)):\n",
    "        if np.sum(clean_series[i])==0:\n",
    "            scaled_series.append(np.zeros_like(clean_series[i]))\n",
    "            recover_dic[i]=(0,0)\n",
    "        else:\n",
    "            std=np.std(clean_series[i])\n",
    "            biased_mean=np.mean(clean_series[i])-3*std\n",
    "\n",
    "            recover_dic[i]=(std,biased_mean)\n",
    "            new_series=clean_series[i]-biased_mean\n",
    "            new_series[new_series<0]=0\n",
    "            new_series=new_series/(6*std)\n",
    "            new_series[new_series>1]=1\n",
    "            scaled_series.append(new_series)\n",
    "    return (scaled_series,recover_dic)\n",
    "\n",
    "\n",
    "def normalize_Y(clean_series,recover_dic):\n",
    "    scaled_series=[]\n",
    "    for i in range(len(clean_series)):\n",
    "        (std,biased_mean) = recover_dic[i]\n",
    "        \n",
    "        if std==0:\n",
    "            # ignore all zero cases\n",
    "#             print(clean_series[i])\n",
    "            scaled_series.append(np.zeros_like(clean_series[i]))\n",
    "\n",
    "        else:\n",
    "            \n",
    "\n",
    "            new_series=clean_series[i]-biased_mean\n",
    "            new_series[new_series<0]=0\n",
    "            new_series=new_series/(6*std)\n",
    "            new_series[new_series>1]=1\n",
    "            scaled_series.append(new_series)\n",
    "    return (scaled_series)\n",
    "\n",
    "def recover(scaled_series,recover_dic):\n",
    "    recovered_series=[]\n",
    "    for i in range(len(scaled_series)):\n",
    "        std,biased_mean=recover_dic[i]\n",
    "        new_series=scaled_series[i]*(6*float(std))+biased_mean\n",
    "        recovered_series.append(new_series)\n",
    "    return recovered_series"
   ]
  },
  {
   "cell_type": "code",
   "execution_count": 23,
   "metadata": {
    "collapsed": true
   },
   "outputs": [],
   "source": [
    "# encode_start=0\n",
    "# encode_end=150\n",
    "# decode_len=63\n",
    "\n",
    "# clean_series,decode_series = split_and_clean(sample_series,encode_start,encode_end,decode_len)\n",
    "\n",
    "\n",
    "# train_x=clean_series\n",
    "# train_y=decode_series\n",
    "\n",
    "# encode_start=200\n",
    "# encode_end=350\n",
    "# decode_len=63\n",
    "\n",
    "\n",
    "# clean_series,decode_series = split_and_clean(sample_series,encode_start,encode_end,decode_len)\n",
    "\n",
    "# test_x=clean_series\n",
    "# test_y=decode_series"
   ]
  },
  {
   "cell_type": "code",
   "execution_count": 223,
   "metadata": {
    "collapsed": true
   },
   "outputs": [],
   "source": [
    "encode_start=0\n",
    "encode_end=150\n",
    "decode_len=63\n",
    "\n",
    "clean_series,decode_series = split_and_clean(sample_series,encode_start,encode_end,decode_len)\n",
    "train_x,train_dic = normalize_X(clean_series)\n",
    "train_y = normalize_Y(decode_series,train_dic)\n",
    "\n",
    "\n",
    "encode_start=200\n",
    "encode_end=350\n",
    "decode_len=63\n",
    "\n",
    "PERIOD=7\n",
    "\n",
    "clean_series,decode_series = split_and_clean(sample_series,encode_start,encode_end,decode_len)\n",
    "\n",
    "test_x,test_dic = normalize_X(clean_series)\n",
    "test_y = normalize_Y(decode_series,test_dic)"
   ]
  },
  {
   "cell_type": "code",
   "execution_count": 25,
   "metadata": {
    "collapsed": true
   },
   "outputs": [],
   "source": [
    "# train_x[0]"
   ]
  },
  {
   "cell_type": "code",
   "execution_count": 165,
   "metadata": {
    "collapsed": true
   },
   "outputs": [],
   "source": [
    "def make_one_hots(length,last_pointer=-1):\n",
    "    pointer=(last_pointer+1) % PERIOD\n",
    "#     print(pointer)\n",
    "    one_hots=[]\n",
    "    one_hot_temp=np.zeros(PERIOD)\n",
    "    for i in range(length):\n",
    "        one_hot=one_hot_temp.copy()\n",
    "        one_hot[pointer]=1\n",
    "        one_hots.append(one_hot)\n",
    "        pointer+=1\n",
    "        pointer=pointer % PERIOD\n",
    "    return np.array(one_hots)"
   ]
  },
  {
   "cell_type": "code",
   "execution_count": null,
   "metadata": {
    "collapsed": true
   },
   "outputs": [],
   "source": []
  },
  {
   "cell_type": "code",
   "execution_count": 8,
   "metadata": {
    "collapsed": true
   },
   "outputs": [],
   "source": [
    "# trainx=X_loader(train_x,batch_size)\n",
    "\n",
    "# a,b=next(trainx)\n",
    "\n",
    "# a.size()\n"
   ]
  },
  {
   "cell_type": "code",
   "execution_count": 9,
   "metadata": {
    "collapsed": true
   },
   "outputs": [],
   "source": [
    "# b[:,2:3,:],b[:,2:3,:]"
   ]
  },
  {
   "cell_type": "code",
   "execution_count": 10,
   "metadata": {
    "collapsed": true
   },
   "outputs": [],
   "source": [
    "# b[:,2:3,:]*b[:,2:3,:]"
   ]
  },
  {
   "cell_type": "code",
   "execution_count": 27,
   "metadata": {
    "collapsed": true
   },
   "outputs": [],
   "source": [
    "def X_loader(x,batchsize):\n",
    "    batch=0\n",
    "    x=np.array(x,dtype=np.float32)\n",
    "#     x=np.log(x+1)\n",
    "    one_hots=make_one_hots(len(x[0]))\n",
    "    \n",
    "    while batch<(len(x) // batchsize):\n",
    "        \n",
    "        data=x[batch*batchsize:(batch+1)*batchsize,:]\n",
    "        tensor=torch.FloatTensor(np.array(data, dtype=float))\n",
    "        tensor=tensor.unsqueeze(2).cuda()\n",
    "        \n",
    "        feature=torch.FloatTensor(np.array(one_hots)).unsqueeze(0)\n",
    "        feature=feature.expand((batchsize,feature.size()[1],feature.size()[2])).cuda()\n",
    "        \n",
    "        yield(tensor,feature)\n",
    "        batch+=1"
   ]
  },
  {
   "cell_type": "code",
   "execution_count": 28,
   "metadata": {
    "collapsed": true
   },
   "outputs": [],
   "source": [
    "\n",
    "def Y_loader(y,batchsize,length_x):\n",
    "    batch=0\n",
    "    y=np.array(y,dtype=np.float32)\n",
    "#     y=np.log(y+1)\n",
    "    last_pointer=length_x % PERIOD - 1\n",
    "    one_hots=make_one_hots(len(y[0]),last_pointer)\n",
    "    while batch<(len(y) // batchsize):\n",
    "        \n",
    "        data=y[batch*batchsize:(batch+1)*batchsize,:]\n",
    "        tensor=torch.FloatTensor(np.array(data, dtype=float))\n",
    "        tensor=tensor.unsqueeze(2).cuda()\n",
    "\n",
    "        feature=torch.FloatTensor(np.array(one_hots)).unsqueeze(0)\n",
    "        feature=feature.expand((batchsize,feature.size()[1],feature.size()[2])).cuda()\n",
    "        \n",
    "        yield(tensor,feature)\n",
    "        batch+=1"
   ]
  },
  {
   "cell_type": "code",
   "execution_count": 29,
   "metadata": {
    "collapsed": true
   },
   "outputs": [],
   "source": [
    "import torch\n",
    "import torch.nn as nn\n"
   ]
  },
  {
   "cell_type": "code",
   "execution_count": 14,
   "metadata": {
    "collapsed": true
   },
   "outputs": [],
   "source": [
    "# for name, param in decoder.named_parameters():\n",
    "#     if param.requires_grad:\n",
    "#         print (name, param.data)"
   ]
  },
  {
   "cell_type": "code",
   "execution_count": 226,
   "metadata": {
    "collapsed": true
   },
   "outputs": [],
   "source": [
    "def SMAPE(true,predicted):\n",
    "    true=true.squeeze()\n",
    "    predicted=predicted.squeeze()\n",
    "#     true=torch.exp(true)-1\n",
    "#     predicted=torch.exp(predicted)-1\n",
    "    epsilon = 0.1\n",
    "    summ = torch.abs(true) + torch.abs(predicted) + epsilon\n",
    "    smape = torch.abs(predicted - true) / summ * 2.0\n",
    "    return torch.mean(smape)"
   ]
  },
  {
   "cell_type": "code",
   "execution_count": 227,
   "metadata": {},
   "outputs": [],
   "source": [
    "from torch import optim\n",
    "from numpy import random as random\n",
    "epoch=190\n",
    "indicator=5\n",
    "\n",
    "# optimizer = optim.RMSprop(model.parameters(), lr=0.001, alpha=0.99, \\\n",
    "#     eps=1e-08, weight_decay=0, momentum=0, centered=False)\n",
    "# optimizer = torch.optim.SGD(model.parameters(), lr=0.01, momentum=0)\n",
    "input_size=PERIOD\n",
    "hidden_size=PERIOD\n",
    "output_size=1\n",
    "lr=0.01\n",
    "batch_size=10\n",
    "encoder=EncoderRNN(input_size,hidden_size,output_size).cuda() if use_cuda else EncoderRNN(1,hidden_size)\n",
    "decoder=DecoderRNN(input_size,hidden_size,output_size).cuda() if use_cuda else DecoderRNN(1,hidden_size)\n",
    "teacher_forcing_ratio = 0.4\n",
    "encoder_optimizer = optim.SGD(encoder.parameters(), lr=lr)\n",
    "decoder_optimizer = optim.SGD(decoder.parameters(), lr=lr)"
   ]
  },
  {
   "cell_type": "code",
   "execution_count": 229,
   "metadata": {},
   "outputs": [
    {
     "name": "stdout",
     "output_type": "stream",
     "text": [
      "Epoch: 0; iterations: 5; encoding Loss: 0.3157834046639052;decoding Loss: 0.3154807832505968\n",
      "\n",
      "Epoch: 0; iterations: 10; encoding Loss: 0.21869122806011426;decoding Loss: 0.2256704890538776\n",
      "\n",
      "Epoch: 0; iterations: 15; encoding Loss: 0.2644022538357933;decoding Loss: 0.24854909503270708\n",
      "\n",
      "Epoch: 0; iterations: 20; encoding Loss: 0.24842175733323063;decoding Loss: 0.3122525442214239\n",
      "\n",
      "Epoch: 0; iterations: 25; encoding Loss: 0.2633025457395003;decoding Loss: 0.22116166372147816\n",
      "\n",
      "Epoch: 0; iterations: 30; encoding Loss: 0.2596967889158518;decoding Loss: 0.30261319478352866\n",
      "\n",
      "Epoch: 0; iterations: 35; encoding Loss: 0.2464022694018063;decoding Loss: 0.18992711173163518\n",
      "\n",
      "Epoch: 0; iterations: 40; encoding Loss: 0.24532915665799343;decoding Loss: 0.2524217514764695\n",
      "\n",
      "Epoch: 0; iterations: 45; encoding Loss: 0.26064473094556156;decoding Loss: 0.29178172520228796\n",
      "\n",
      "Epoch: 0; iterations: 50; encoding Loss: 0.25892300701781407;decoding Loss: 0.27194272298661487\n",
      "\n",
      "Epoch: 0; iterations: 55; encoding Loss: 0.2727018215512269;decoding Loss: 0.28675676073346823\n",
      "\n",
      "Epoch: 0; iterations: 60; encoding Loss: 0.25776520799470426;decoding Loss: 0.28031024932861326\n",
      "\n",
      "Epoch: 0; iterations: 65; encoding Loss: 0.28604459314538333;decoding Loss: 0.31863344586084763\n",
      "\n",
      "Epoch: 0; iterations: 70; encoding Loss: 0.24520601874229891;decoding Loss: 0.25688160790337455\n",
      "\n",
      "Epoch: 0; iterations: 75; encoding Loss: 0.2714043098808135;decoding Loss: 0.25170475490509514\n",
      "\n",
      "Epoch: 0; iterations: 80; encoding Loss: 0.2504993669138659;decoding Loss: 0.23771872747512085\n",
      "\n",
      "Epoch: 0; iterations: 85; encoding Loss: 0.25915329696348055;decoding Loss: 0.2405876250494094\n",
      "\n",
      "Epoch: 0; iterations: 90; encoding Loss: 0.28297124773063914;decoding Loss: 0.21290680718800375\n",
      "\n",
      "Epoch: 0; iterations: 95; encoding Loss: 0.2597816057653235;decoding Loss: 0.23253479912167502\n",
      "\n",
      "Validation! Epoch: 0; Loss: 0.27941640475439644\n",
      "\n",
      "Epoch: 1; iterations: 5; encoding Loss: 0.3169134050407666;decoding Loss: 0.24600363837348088\n",
      "\n",
      "Epoch: 1; iterations: 10; encoding Loss: 0.2202179646331992;decoding Loss: 0.17764053344726563\n",
      "\n",
      "Epoch: 1; iterations: 15; encoding Loss: 0.26559168668401323;decoding Loss: 0.2704053152175177\n",
      "\n",
      "Epoch: 1; iterations: 20; encoding Loss: 0.2495462865637453;decoding Loss: 0.2525003917633541\n",
      "\n",
      "Epoch: 1; iterations: 25; encoding Loss: 0.2641095001425519;decoding Loss: 0.26470791044689357\n",
      "\n",
      "Epoch: 1; iterations: 30; encoding Loss: 0.26059806106874606;decoding Loss: 0.27521119193425253\n",
      "\n",
      "Epoch: 1; iterations: 35; encoding Loss: 0.2471716503168912;decoding Loss: 0.22374014173235213\n",
      "\n",
      "Epoch: 1; iterations: 40; encoding Loss: 0.24619903564453124;decoding Loss: 0.21972843351818266\n",
      "\n",
      "Epoch: 1; iterations: 45; encoding Loss: 0.2616190199883992;decoding Loss: 0.2197428536793542\n",
      "\n",
      "Epoch: 1; iterations: 50; encoding Loss: 0.2595097381796613;decoding Loss: 0.21869248889741444\n",
      "\n",
      "Epoch: 1; iterations: 55; encoding Loss: 0.2735035019432938;decoding Loss: 0.2663347819494823\n",
      "\n",
      "Epoch: 1; iterations: 60; encoding Loss: 0.258524460760539;decoding Loss: 0.23358392261323474\n",
      "\n",
      "Epoch: 1; iterations: 65; encoding Loss: 0.28680385615201603;decoding Loss: 0.2515667203872923\n",
      "\n",
      "Epoch: 1; iterations: 70; encoding Loss: 0.24575766493010037;decoding Loss: 0.21418049221947077\n",
      "\n",
      "Epoch: 1; iterations: 75; encoding Loss: 0.27203987940845875;decoding Loss: 0.22383956455049062\n",
      "\n",
      "Epoch: 1; iterations: 80; encoding Loss: 0.2510705167015127;decoding Loss: 0.2746693626282707\n",
      "\n",
      "Epoch: 1; iterations: 85; encoding Loss: 0.25963863910444634;decoding Loss: 0.2496597078111437\n",
      "\n",
      "Epoch: 1; iterations: 90; encoding Loss: 0.28363403217904515;decoding Loss: 0.27432500748407274\n",
      "\n",
      "Epoch: 1; iterations: 95; encoding Loss: 0.2603697091941065;decoding Loss: 0.21988966805594307\n",
      "\n",
      "Validation! Epoch: 1; Loss: 0.26661928721836636\n",
      "\n",
      "Epoch: 2; iterations: 5; encoding Loss: 0.3174792603358326;decoding Loss: 0.2418845403762091\n",
      "\n",
      "Epoch: 2; iterations: 10; encoding Loss: 0.22078766534792496;decoding Loss: 0.23939159030006046\n",
      "\n",
      "Epoch: 2; iterations: 15; encoding Loss: 0.2661837225792392;decoding Loss: 0.2222736812773205\n",
      "\n",
      "Epoch: 2; iterations: 20; encoding Loss: 0.2500294858177236;decoding Loss: 0.19812554556225975\n",
      "\n",
      "Epoch: 2; iterations: 25; encoding Loss: 0.2647525198507629;decoding Loss: 0.2703687758672805\n",
      "\n",
      "Epoch: 2; iterations: 30; encoding Loss: 0.26104238881360764;decoding Loss: 0.2338368945651584\n",
      "\n",
      "Epoch: 2; iterations: 35; encoding Loss: 0.24746485716544542;decoding Loss: 0.20479662758963452\n",
      "\n",
      "Epoch: 2; iterations: 40; encoding Loss: 0.24653341818175858;decoding Loss: 0.2226149362231058\n",
      "\n",
      "Epoch: 2; iterations: 45; encoding Loss: 0.2621359063474924;decoding Loss: 0.25670775156172493\n",
      "\n",
      "Epoch: 2; iterations: 50; encoding Loss: 0.2601489534314047;decoding Loss: 0.22005105094304162\n",
      "\n",
      "Epoch: 2; iterations: 55; encoding Loss: 0.27403275150580697;decoding Loss: 0.23850126720610118\n",
      "\n",
      "Epoch: 2; iterations: 60; encoding Loss: 0.2590542735669437;decoding Loss: 0.19579465956914993\n",
      "\n",
      "Epoch: 2; iterations: 65; encoding Loss: 0.28731717103279675;decoding Loss: 0.26987862662663537\n",
      "\n",
      "Epoch: 2; iterations: 70; encoding Loss: 0.24605014724219404;decoding Loss: 0.15572479944380502\n",
      "\n",
      "Epoch: 2; iterations: 75; encoding Loss: 0.2723805958792667;decoding Loss: 0.19774443459889243\n",
      "\n",
      "Epoch: 2; iterations: 80; encoding Loss: 0.2515152105549038;decoding Loss: 0.24219105735657703\n",
      "\n",
      "Epoch: 2; iterations: 85; encoding Loss: 0.2598825544318897;decoding Loss: 0.1912142829289512\n",
      "\n",
      "Epoch: 2; iterations: 90; encoding Loss: 0.2840537820086383;decoding Loss: 0.2025077940925719\n",
      "\n",
      "Epoch: 2; iterations: 95; encoding Loss: 0.2607452443782115;decoding Loss: 0.18683790479387555\n",
      "\n",
      "Validation! Epoch: 2; Loss: 0.262165982534015\n",
      "\n",
      "Epoch: 3; iterations: 5; encoding Loss: 0.318136760532456;decoding Loss: 0.2850304346235971\n",
      "\n",
      "Epoch: 3; iterations: 10; encoding Loss: 0.22094171255226902;decoding Loss: 0.15073635010492234\n",
      "\n",
      "Epoch: 3; iterations: 15; encoding Loss: 0.2665163846623978;decoding Loss: 0.211739624871148\n",
      "\n",
      "Epoch: 3; iterations: 20; encoding Loss: 0.25030581071072777;decoding Loss: 0.22149623083689854\n",
      "\n",
      "Epoch: 3; iterations: 25; encoding Loss: 0.2648870122512715;decoding Loss: 0.28713579934740824\n",
      "\n",
      "Epoch: 3; iterations: 30; encoding Loss: 0.2614103253255754;decoding Loss: 0.23955926441010975\n",
      "\n",
      "Epoch: 3; iterations: 35; encoding Loss: 0.2477612335409894;decoding Loss: 0.21092783912779794\n",
      "\n",
      "Epoch: 3; iterations: 40; encoding Loss: 0.24671869469969065;decoding Loss: 0.18760604252890936\n",
      "\n",
      "Epoch: 3; iterations: 45; encoding Loss: 0.262360689304019;decoding Loss: 0.1981142044067383\n",
      "\n",
      "Epoch: 3; iterations: 50; encoding Loss: 0.260166670011994;decoding Loss: 0.21747559744214257\n",
      "\n",
      "Epoch: 3; iterations: 55; encoding Loss: 0.2742645673303796;decoding Loss: 0.260207766578311\n",
      "\n",
      "Epoch: 3; iterations: 60; encoding Loss: 0.2592837954527579;decoding Loss: 0.23813598572261752\n",
      "\n",
      "Epoch: 3; iterations: 65; encoding Loss: 0.28771101164337776;decoding Loss: 0.21371785421220083\n",
      "\n",
      "Epoch: 3; iterations: 70; encoding Loss: 0.24637330074438313;decoding Loss: 0.18439813038659475\n",
      "\n",
      "Epoch: 3; iterations: 75; encoding Loss: 0.2726042472276112;decoding Loss: 0.2313295001075381\n",
      "\n",
      "Epoch: 3; iterations: 80; encoding Loss: 0.2517174125517775;decoding Loss: 0.21647117251441594\n",
      "\n",
      "Epoch: 3; iterations: 85; encoding Loss: 0.26022637898489936;decoding Loss: 0.20985450139121403\n",
      "\n",
      "Epoch: 3; iterations: 90; encoding Loss: 0.28434965914527843;decoding Loss: 0.24611404661148314\n",
      "\n",
      "Epoch: 3; iterations: 95; encoding Loss: 0.2610148026639183;decoding Loss: 0.20556797148689387\n",
      "\n",
      "Validation! Epoch: 3; Loss: 0.25965382727365643\n",
      "\n",
      "Epoch: 4; iterations: 5; encoding Loss: 0.3184362577911991;decoding Loss: 0.26563082498217383\n",
      "\n",
      "Epoch: 4; iterations: 10; encoding Loss: 0.22132559142656777;decoding Loss: 0.19594103495279946\n",
      "\n",
      "Epoch: 4; iterations: 15; encoding Loss: 0.2667281541248296;decoding Loss: 0.21323546757773748\n",
      "\n",
      "Epoch: 4; iterations: 20; encoding Loss: 0.2505772200206782;decoding Loss: 0.24531024448455327\n",
      "\n",
      "Epoch: 4; iterations: 25; encoding Loss: 0.26516674989021866;decoding Loss: 0.26074112180679565\n",
      "\n",
      "Epoch: 4; iterations: 30; encoding Loss: 0.2615381151237744;decoding Loss: 0.19772612859332372\n",
      "\n",
      "Epoch: 4; iterations: 35; encoding Loss: 0.24803021578180712;decoding Loss: 0.2197139921642485\n",
      "\n",
      "Epoch: 4; iterations: 40; encoding Loss: 0.2471533960944054;decoding Loss: 0.2039895254468161\n",
      "\n"
     ]
    },
    {
     "name": "stdout",
     "output_type": "stream",
     "text": [
      "Epoch: 4; iterations: 45; encoding Loss: 0.2625378090263213;decoding Loss: 0.25175947764563184\n",
      "\n",
      "Epoch: 4; iterations: 50; encoding Loss: 0.2605697529427958;decoding Loss: 0.20176959870353578\n",
      "\n",
      "Epoch: 4; iterations: 55; encoding Loss: 0.2745281757124318;decoding Loss: 0.20231925722152466\n",
      "\n",
      "Epoch: 4; iterations: 60; encoding Loss: 0.25954810020907615;decoding Loss: 0.2416428005884564\n",
      "\n",
      "Epoch: 4; iterations: 65; encoding Loss: 0.2878520735158216;decoding Loss: 0.26498734307667565\n",
      "\n",
      "Epoch: 4; iterations: 70; encoding Loss: 0.2464974883418755;decoding Loss: 0.21082446688697454\n",
      "\n",
      "Epoch: 4; iterations: 75; encoding Loss: 0.27273458954471874;decoding Loss: 0.22435556139264787\n",
      "\n",
      "Epoch: 4; iterations: 80; encoding Loss: 0.25193490662030726;decoding Loss: 0.24047791011749756\n",
      "\n",
      "Epoch: 4; iterations: 85; encoding Loss: 0.2603564217586645;decoding Loss: 0.21634859660315137\n",
      "\n",
      "Epoch: 4; iterations: 90; encoding Loss: 0.28457840273044255;decoding Loss: 0.2334869142562624\n",
      "\n",
      "Epoch: 4; iterations: 95; encoding Loss: 0.26121622892034135;decoding Loss: 0.22046572972857761\n",
      "\n",
      "Validation! Epoch: 4; Loss: 0.257933323345487\n",
      "\n",
      "Epoch: 5; iterations: 5; encoding Loss: 0.31862744324959363;decoding Loss: 0.23289151872907365\n",
      "\n",
      "Epoch: 5; iterations: 10; encoding Loss: 0.22158833958158558;decoding Loss: 0.18110016414097377\n",
      "\n",
      "Epoch: 5; iterations: 15; encoding Loss: 0.26703926956893614;decoding Loss: 0.2374917620704288\n",
      "\n",
      "Epoch: 5; iterations: 20; encoding Loss: 0.2508903938651885;decoding Loss: 0.2255289804367792\n",
      "\n",
      "Epoch: 5; iterations: 25; encoding Loss: 0.26537454080261635;decoding Loss: 0.21862183525448758\n",
      "\n",
      "Epoch: 5; iterations: 30; encoding Loss: 0.26182125782806603;decoding Loss: 0.22306583949497769\n",
      "\n"
     ]
    },
    {
     "ename": "KeyboardInterrupt",
     "evalue": "",
     "output_type": "error",
     "traceback": [
      "\u001b[0;31m---------------------------------------------------------------------------\u001b[0m",
      "\u001b[0;31mKeyboardInterrupt\u001b[0m                         Traceback (most recent call last)",
      "\u001b[0;32m<ipython-input-229-948f21ed7795>\u001b[0m in \u001b[0;36m<module>\u001b[0;34m()\u001b[0m\n\u001b[1;32m     18\u001b[0m         \u001b[0my\u001b[0m\u001b[0;34m,\u001b[0m\u001b[0my_feature\u001b[0m\u001b[0;34m=\u001b[0m\u001b[0mnext\u001b[0m\u001b[0;34m(\u001b[0m\u001b[0mtrainy\u001b[0m\u001b[0;34m)\u001b[0m\u001b[0;34m\u001b[0m\u001b[0m\n\u001b[1;32m     19\u001b[0m \u001b[0;34m\u001b[0m\u001b[0m\n\u001b[0;32m---> 20\u001b[0;31m         \u001b[0me_loss\u001b[0m\u001b[0;34m,\u001b[0m\u001b[0md_loss\u001b[0m\u001b[0;34m=\u001b[0m\u001b[0mtrain\u001b[0m\u001b[0;34m(\u001b[0m\u001b[0mx\u001b[0m\u001b[0;34m,\u001b[0m \u001b[0mx_feature\u001b[0m\u001b[0;34m,\u001b[0m \u001b[0my\u001b[0m\u001b[0;34m,\u001b[0m \u001b[0my_feature\u001b[0m\u001b[0;34m,\u001b[0m \u001b[0mencoder\u001b[0m\u001b[0;34m,\u001b[0m \u001b[0mdecoder\u001b[0m\u001b[0;34m,\u001b[0m \u001b[0mencoder_optimizer\u001b[0m\u001b[0;34m,\u001b[0m                   \u001b[0mdecoder_optimizer\u001b[0m\u001b[0;34m,\u001b[0m \u001b[0mSMAPE\u001b[0m\u001b[0;34m)\u001b[0m\u001b[0;34m\u001b[0m\u001b[0m\n\u001b[0m\u001b[1;32m     21\u001b[0m         \u001b[0mrunning_loss_e\u001b[0m \u001b[0;34m+=\u001b[0m \u001b[0me_loss\u001b[0m\u001b[0;34m\u001b[0m\u001b[0m\n\u001b[1;32m     22\u001b[0m         \u001b[0mrunning_loss_d\u001b[0m \u001b[0;34m+=\u001b[0m \u001b[0md_loss\u001b[0m\u001b[0;34m\u001b[0m\u001b[0m\n",
      "\u001b[0;32m<ipython-input-151-18e52524501a>\u001b[0m in \u001b[0;36mtrain\u001b[0;34m(input_variable, input_feature, target_variable, target_feature, encoder, decoder, encoder_optimizer, decoder_optimizer, criterion)\u001b[0m\n\u001b[1;32m     95\u001b[0m \u001b[0;34m\u001b[0m\u001b[0m\n\u001b[1;32m     96\u001b[0m         encoder_output, encoder_hidden = encoder(\n\u001b[0;32m---> 97\u001b[0;31m             input_variable[:,ei,:],input_feature[:,ei,:], encoder_hidden)\n\u001b[0m\u001b[1;32m     98\u001b[0m         \u001b[0mloss_encoding\u001b[0m \u001b[0;34m+=\u001b[0m \u001b[0mcriterion\u001b[0m\u001b[0;34m(\u001b[0m\u001b[0mencoder_output\u001b[0m\u001b[0;34m.\u001b[0m\u001b[0msqueeze\u001b[0m\u001b[0;34m(\u001b[0m\u001b[0;34m)\u001b[0m\u001b[0;34m,\u001b[0m\u001b[0minput_variable\u001b[0m\u001b[0;34m[\u001b[0m\u001b[0;34m:\u001b[0m\u001b[0;34m,\u001b[0m\u001b[0mei\u001b[0m\u001b[0;34m+\u001b[0m\u001b[0;36m1\u001b[0m\u001b[0;34m,\u001b[0m\u001b[0;34m:\u001b[0m\u001b[0;34m]\u001b[0m\u001b[0;34m.\u001b[0m\u001b[0msqueeze\u001b[0m\u001b[0;34m(\u001b[0m\u001b[0;34m)\u001b[0m\u001b[0;34m)\u001b[0m\u001b[0;34m\u001b[0m\u001b[0m\n\u001b[1;32m     99\u001b[0m \u001b[0;31m#         encoder_outputs[ei] = encoder_output[0,0,:]\u001b[0m\u001b[0;34m\u001b[0m\u001b[0;34m\u001b[0m\u001b[0m\n",
      "\u001b[0;32m~/anaconda3/lib/python3.6/site-packages/torch/nn/modules/module.py\u001b[0m in \u001b[0;36m__call__\u001b[0;34m(self, *input, **kwargs)\u001b[0m\n\u001b[1;32m    489\u001b[0m             \u001b[0mresult\u001b[0m \u001b[0;34m=\u001b[0m \u001b[0mself\u001b[0m\u001b[0;34m.\u001b[0m\u001b[0m_slow_forward\u001b[0m\u001b[0;34m(\u001b[0m\u001b[0;34m*\u001b[0m\u001b[0minput\u001b[0m\u001b[0;34m,\u001b[0m \u001b[0;34m**\u001b[0m\u001b[0mkwargs\u001b[0m\u001b[0;34m)\u001b[0m\u001b[0;34m\u001b[0m\u001b[0m\n\u001b[1;32m    490\u001b[0m         \u001b[0;32melse\u001b[0m\u001b[0;34m:\u001b[0m\u001b[0;34m\u001b[0m\u001b[0m\n\u001b[0;32m--> 491\u001b[0;31m             \u001b[0mresult\u001b[0m \u001b[0;34m=\u001b[0m \u001b[0mself\u001b[0m\u001b[0;34m.\u001b[0m\u001b[0mforward\u001b[0m\u001b[0;34m(\u001b[0m\u001b[0;34m*\u001b[0m\u001b[0minput\u001b[0m\u001b[0;34m,\u001b[0m \u001b[0;34m**\u001b[0m\u001b[0mkwargs\u001b[0m\u001b[0;34m)\u001b[0m\u001b[0;34m\u001b[0m\u001b[0m\n\u001b[0m\u001b[1;32m    492\u001b[0m         \u001b[0;32mfor\u001b[0m \u001b[0mhook\u001b[0m \u001b[0;32min\u001b[0m \u001b[0mself\u001b[0m\u001b[0;34m.\u001b[0m\u001b[0m_forward_hooks\u001b[0m\u001b[0;34m.\u001b[0m\u001b[0mvalues\u001b[0m\u001b[0;34m(\u001b[0m\u001b[0;34m)\u001b[0m\u001b[0;34m:\u001b[0m\u001b[0;34m\u001b[0m\u001b[0m\n\u001b[1;32m    493\u001b[0m             \u001b[0mhook_result\u001b[0m \u001b[0;34m=\u001b[0m \u001b[0mhook\u001b[0m\u001b[0;34m(\u001b[0m\u001b[0mself\u001b[0m\u001b[0;34m,\u001b[0m \u001b[0minput\u001b[0m\u001b[0;34m,\u001b[0m \u001b[0mresult\u001b[0m\u001b[0;34m)\u001b[0m\u001b[0;34m\u001b[0m\u001b[0m\n",
      "\u001b[0;32m<ipython-input-151-18e52524501a>\u001b[0m in \u001b[0;36mforward\u001b[0;34m(self, input_x, feature, hidden)\u001b[0m\n\u001b[1;32m     21\u001b[0m         \u001b[0mrnn_input\u001b[0m\u001b[0;34m=\u001b[0m\u001b[0minput_x\u001b[0m\u001b[0;34m*\u001b[0m\u001b[0mfeature\u001b[0m\u001b[0;34m\u001b[0m\u001b[0m\n\u001b[1;32m     22\u001b[0m         \u001b[0;31m#(bs,hs)(bs,hs)\u001b[0m\u001b[0;34m\u001b[0m\u001b[0;34m\u001b[0m\u001b[0m\n\u001b[0;32m---> 23\u001b[0;31m         \u001b[0mhidden\u001b[0m\u001b[0;34m,\u001b[0m\u001b[0moutput\u001b[0m \u001b[0;34m=\u001b[0m \u001b[0mself\u001b[0m\u001b[0;34m.\u001b[0m\u001b[0mrnnc\u001b[0m\u001b[0;34m(\u001b[0m\u001b[0mrnn_input\u001b[0m\u001b[0;34m,\u001b[0m \u001b[0mhidden\u001b[0m\u001b[0;34m)\u001b[0m\u001b[0;34m\u001b[0m\u001b[0m\n\u001b[0m\u001b[1;32m     24\u001b[0m         \u001b[0;31m#(bs,hs)\u001b[0m\u001b[0;34m\u001b[0m\u001b[0;34m\u001b[0m\u001b[0m\n\u001b[1;32m     25\u001b[0m \u001b[0;31m#         hidden = output\u001b[0m\u001b[0;34m\u001b[0m\u001b[0;34m\u001b[0m\u001b[0m\n",
      "\u001b[0;32m~/anaconda3/lib/python3.6/site-packages/torch/nn/modules/module.py\u001b[0m in \u001b[0;36m__call__\u001b[0;34m(self, *input, **kwargs)\u001b[0m\n\u001b[1;32m    489\u001b[0m             \u001b[0mresult\u001b[0m \u001b[0;34m=\u001b[0m \u001b[0mself\u001b[0m\u001b[0;34m.\u001b[0m\u001b[0m_slow_forward\u001b[0m\u001b[0;34m(\u001b[0m\u001b[0;34m*\u001b[0m\u001b[0minput\u001b[0m\u001b[0;34m,\u001b[0m \u001b[0;34m**\u001b[0m\u001b[0mkwargs\u001b[0m\u001b[0;34m)\u001b[0m\u001b[0;34m\u001b[0m\u001b[0m\n\u001b[1;32m    490\u001b[0m         \u001b[0;32melse\u001b[0m\u001b[0;34m:\u001b[0m\u001b[0;34m\u001b[0m\u001b[0m\n\u001b[0;32m--> 491\u001b[0;31m             \u001b[0mresult\u001b[0m \u001b[0;34m=\u001b[0m \u001b[0mself\u001b[0m\u001b[0;34m.\u001b[0m\u001b[0mforward\u001b[0m\u001b[0;34m(\u001b[0m\u001b[0;34m*\u001b[0m\u001b[0minput\u001b[0m\u001b[0;34m,\u001b[0m \u001b[0;34m**\u001b[0m\u001b[0mkwargs\u001b[0m\u001b[0;34m)\u001b[0m\u001b[0;34m\u001b[0m\u001b[0m\n\u001b[0m\u001b[1;32m    492\u001b[0m         \u001b[0;32mfor\u001b[0m \u001b[0mhook\u001b[0m \u001b[0;32min\u001b[0m \u001b[0mself\u001b[0m\u001b[0;34m.\u001b[0m\u001b[0m_forward_hooks\u001b[0m\u001b[0;34m.\u001b[0m\u001b[0mvalues\u001b[0m\u001b[0;34m(\u001b[0m\u001b[0;34m)\u001b[0m\u001b[0;34m:\u001b[0m\u001b[0;34m\u001b[0m\u001b[0m\n\u001b[1;32m    493\u001b[0m             \u001b[0mhook_result\u001b[0m \u001b[0;34m=\u001b[0m \u001b[0mhook\u001b[0m\u001b[0;34m(\u001b[0m\u001b[0mself\u001b[0m\u001b[0;34m,\u001b[0m \u001b[0minput\u001b[0m\u001b[0;34m,\u001b[0m \u001b[0mresult\u001b[0m\u001b[0;34m)\u001b[0m\u001b[0;34m\u001b[0m\u001b[0m\n",
      "\u001b[0;32m<ipython-input-143-72d6d9fc9c6e>\u001b[0m in \u001b[0;36mforward\u001b[0;34m(self, Input, hidden)\u001b[0m\n\u001b[1;32m     15\u001b[0m \u001b[0;34m\u001b[0m\u001b[0m\n\u001b[1;32m     16\u001b[0m         \u001b[0;31m#(bs,hs)\u001b[0m\u001b[0;34m\u001b[0m\u001b[0;34m\u001b[0m\u001b[0m\n\u001b[0;32m---> 17\u001b[0;31m         \u001b[0mZ\u001b[0m\u001b[0;34m=\u001b[0m\u001b[0mtorch\u001b[0m\u001b[0;34m.\u001b[0m\u001b[0msigmoid\u001b[0m\u001b[0;34m(\u001b[0m\u001b[0mself\u001b[0m\u001b[0;34m.\u001b[0m\u001b[0mforget_w\u001b[0m\u001b[0;34m(\u001b[0m\u001b[0mInput\u001b[0m\u001b[0;34m)\u001b[0m\u001b[0;34m)\u001b[0m\u001b[0;34m\u001b[0m\u001b[0m\n\u001b[0m\u001b[1;32m     18\u001b[0m         \u001b[0;31m#(bs,hs)\u001b[0m\u001b[0;34m\u001b[0m\u001b[0;34m\u001b[0m\u001b[0m\n\u001b[1;32m     19\u001b[0m         \u001b[0mnew_hidden\u001b[0m\u001b[0;34m=\u001b[0m\u001b[0mZ\u001b[0m\u001b[0;34m*\u001b[0m\u001b[0mInput\u001b[0m\u001b[0;34m+\u001b[0m\u001b[0;34m(\u001b[0m\u001b[0;36m1\u001b[0m\u001b[0;34m-\u001b[0m\u001b[0mZ\u001b[0m\u001b[0;34m)\u001b[0m\u001b[0;34m*\u001b[0m\u001b[0mhidden\u001b[0m\u001b[0;34m\u001b[0m\u001b[0m\n",
      "\u001b[0;32m~/anaconda3/lib/python3.6/site-packages/torch/nn/modules/module.py\u001b[0m in \u001b[0;36m__call__\u001b[0;34m(self, *input, **kwargs)\u001b[0m\n\u001b[1;32m    489\u001b[0m             \u001b[0mresult\u001b[0m \u001b[0;34m=\u001b[0m \u001b[0mself\u001b[0m\u001b[0;34m.\u001b[0m\u001b[0m_slow_forward\u001b[0m\u001b[0;34m(\u001b[0m\u001b[0;34m*\u001b[0m\u001b[0minput\u001b[0m\u001b[0;34m,\u001b[0m \u001b[0;34m**\u001b[0m\u001b[0mkwargs\u001b[0m\u001b[0;34m)\u001b[0m\u001b[0;34m\u001b[0m\u001b[0m\n\u001b[1;32m    490\u001b[0m         \u001b[0;32melse\u001b[0m\u001b[0;34m:\u001b[0m\u001b[0;34m\u001b[0m\u001b[0m\n\u001b[0;32m--> 491\u001b[0;31m             \u001b[0mresult\u001b[0m \u001b[0;34m=\u001b[0m \u001b[0mself\u001b[0m\u001b[0;34m.\u001b[0m\u001b[0mforward\u001b[0m\u001b[0;34m(\u001b[0m\u001b[0;34m*\u001b[0m\u001b[0minput\u001b[0m\u001b[0;34m,\u001b[0m \u001b[0;34m**\u001b[0m\u001b[0mkwargs\u001b[0m\u001b[0;34m)\u001b[0m\u001b[0;34m\u001b[0m\u001b[0m\n\u001b[0m\u001b[1;32m    492\u001b[0m         \u001b[0;32mfor\u001b[0m \u001b[0mhook\u001b[0m \u001b[0;32min\u001b[0m \u001b[0mself\u001b[0m\u001b[0;34m.\u001b[0m\u001b[0m_forward_hooks\u001b[0m\u001b[0;34m.\u001b[0m\u001b[0mvalues\u001b[0m\u001b[0;34m(\u001b[0m\u001b[0;34m)\u001b[0m\u001b[0;34m:\u001b[0m\u001b[0;34m\u001b[0m\u001b[0m\n\u001b[1;32m    493\u001b[0m             \u001b[0mhook_result\u001b[0m \u001b[0;34m=\u001b[0m \u001b[0mhook\u001b[0m\u001b[0;34m(\u001b[0m\u001b[0mself\u001b[0m\u001b[0;34m,\u001b[0m \u001b[0minput\u001b[0m\u001b[0;34m,\u001b[0m \u001b[0mresult\u001b[0m\u001b[0;34m)\u001b[0m\u001b[0;34m\u001b[0m\u001b[0m\n",
      "\u001b[0;32m~/anaconda3/lib/python3.6/site-packages/torch/nn/modules/linear.py\u001b[0m in \u001b[0;36mforward\u001b[0;34m(self, input)\u001b[0m\n\u001b[1;32m     53\u001b[0m \u001b[0;34m\u001b[0m\u001b[0m\n\u001b[1;32m     54\u001b[0m     \u001b[0;32mdef\u001b[0m \u001b[0mforward\u001b[0m\u001b[0;34m(\u001b[0m\u001b[0mself\u001b[0m\u001b[0;34m,\u001b[0m \u001b[0minput\u001b[0m\u001b[0;34m)\u001b[0m\u001b[0;34m:\u001b[0m\u001b[0;34m\u001b[0m\u001b[0m\n\u001b[0;32m---> 55\u001b[0;31m         \u001b[0;32mreturn\u001b[0m \u001b[0mF\u001b[0m\u001b[0;34m.\u001b[0m\u001b[0mlinear\u001b[0m\u001b[0;34m(\u001b[0m\u001b[0minput\u001b[0m\u001b[0;34m,\u001b[0m \u001b[0mself\u001b[0m\u001b[0;34m.\u001b[0m\u001b[0mweight\u001b[0m\u001b[0;34m,\u001b[0m \u001b[0mself\u001b[0m\u001b[0;34m.\u001b[0m\u001b[0mbias\u001b[0m\u001b[0;34m)\u001b[0m\u001b[0;34m\u001b[0m\u001b[0m\n\u001b[0m\u001b[1;32m     56\u001b[0m \u001b[0;34m\u001b[0m\u001b[0m\n\u001b[1;32m     57\u001b[0m     \u001b[0;32mdef\u001b[0m \u001b[0mextra_repr\u001b[0m\u001b[0;34m(\u001b[0m\u001b[0mself\u001b[0m\u001b[0;34m)\u001b[0m\u001b[0;34m:\u001b[0m\u001b[0;34m\u001b[0m\u001b[0m\n",
      "\u001b[0;32m~/anaconda3/lib/python3.6/site-packages/torch/nn/functional.py\u001b[0m in \u001b[0;36mlinear\u001b[0;34m(input, weight, bias)\u001b[0m\n\u001b[1;32m    990\u001b[0m     \u001b[0;32mif\u001b[0m \u001b[0minput\u001b[0m\u001b[0;34m.\u001b[0m\u001b[0mdim\u001b[0m\u001b[0;34m(\u001b[0m\u001b[0;34m)\u001b[0m \u001b[0;34m==\u001b[0m \u001b[0;36m2\u001b[0m \u001b[0;32mand\u001b[0m \u001b[0mbias\u001b[0m \u001b[0;32mis\u001b[0m \u001b[0;32mnot\u001b[0m \u001b[0;32mNone\u001b[0m\u001b[0;34m:\u001b[0m\u001b[0;34m\u001b[0m\u001b[0m\n\u001b[1;32m    991\u001b[0m         \u001b[0;31m# fused op is marginally faster\u001b[0m\u001b[0;34m\u001b[0m\u001b[0;34m\u001b[0m\u001b[0m\n\u001b[0;32m--> 992\u001b[0;31m         \u001b[0;32mreturn\u001b[0m \u001b[0mtorch\u001b[0m\u001b[0;34m.\u001b[0m\u001b[0maddmm\u001b[0m\u001b[0;34m(\u001b[0m\u001b[0mbias\u001b[0m\u001b[0;34m,\u001b[0m \u001b[0minput\u001b[0m\u001b[0;34m,\u001b[0m \u001b[0mweight\u001b[0m\u001b[0;34m.\u001b[0m\u001b[0mt\u001b[0m\u001b[0;34m(\u001b[0m\u001b[0;34m)\u001b[0m\u001b[0;34m)\u001b[0m\u001b[0;34m\u001b[0m\u001b[0m\n\u001b[0m\u001b[1;32m    993\u001b[0m \u001b[0;34m\u001b[0m\u001b[0m\n\u001b[1;32m    994\u001b[0m     \u001b[0moutput\u001b[0m \u001b[0;34m=\u001b[0m \u001b[0minput\u001b[0m\u001b[0;34m.\u001b[0m\u001b[0mmatmul\u001b[0m\u001b[0;34m(\u001b[0m\u001b[0mweight\u001b[0m\u001b[0;34m.\u001b[0m\u001b[0mt\u001b[0m\u001b[0;34m(\u001b[0m\u001b[0;34m)\u001b[0m\u001b[0;34m)\u001b[0m\u001b[0;34m\u001b[0m\u001b[0m\n",
      "\u001b[0;31mKeyboardInterrupt\u001b[0m: "
     ]
    }
   ],
   "source": [
    "# ps,_,score = valid_iter(test_x, test_y)\n",
    "# for kk in range(12):\n",
    "#     plt.plot(ps[kk][:21])\n",
    "#     plt.title('epoch '+str(0))\n",
    "# plt.show()\n",
    "# print(\"Validation! Epoch: {}; Loss: {}\\n\".format(-1, np.mean(score)))\n",
    "for i in range(epoch):\n",
    "    \n",
    "    trainx=X_loader(train_x,batch_size)\n",
    "    trainy=Y_loader(train_y,batch_size,len(train_x[0]))\n",
    "    \n",
    "    running_loss_e = 0.0\n",
    "    running_loss_d = 0.0\n",
    "#     validation(test_x,test_y)\n",
    "    for j,(X_batch,x_feature) in enumerate(trainx):\n",
    "        #Parse loaded batch\n",
    "        x=X_batch\n",
    "        y,y_feature=next(trainy)\n",
    "        \n",
    "        e_loss,d_loss=train(x, x_feature, y, y_feature, encoder, decoder, encoder_optimizer, \\\n",
    "                  decoder_optimizer, SMAPE)\n",
    "        running_loss_e += e_loss\n",
    "        running_loss_d += d_loss\n",
    "        if (j>0) and (j % indicator == 0):\n",
    "            print(\"Epoch: {}; iterations: {}; encoding Loss: {};decoding Loss: {}\\n\".format(i, j, \\\n",
    "                                running_loss_e / indicator,running_loss_d / indicator))\n",
    "            running_loss_e = 0.0\n",
    "            running_loss_d = 0.0\n",
    "        \n",
    "    ps,_,score,_ = valid_iter(test_x, test_y)\n",
    "#     for kk in range(1):\n",
    "#         plt.plot(ps[kk][:21])\n",
    "#         plt.title('epoch '+str(i))\n",
    "#     plt.show()\n",
    "    print(\"Validation! Epoch: {}; Loss: {}\\n\".format(i, np.mean(score)))"
   ]
  },
  {
   "cell_type": "code",
   "execution_count": 230,
   "metadata": {
    "scrolled": true
   },
   "outputs": [
    {
     "name": "stdout",
     "output_type": "stream",
     "text": [
      "99\r"
     ]
    }
   ],
   "source": [
    "preds,targets,scores,es=valid_iter(test_x,test_y)"
   ]
  },
  {
   "cell_type": "code",
   "execution_count": 354,
   "metadata": {
    "collapsed": true
   },
   "outputs": [],
   "source": [
    "# scores"
   ]
  },
  {
   "cell_type": "code",
   "execution_count": 103,
   "metadata": {
    "collapsed": true
   },
   "outputs": [],
   "source": [
    "testx=X_loader(test_x,batchsize=128)\n",
    "testy=Y_loader(test_y,batchsize=128,length_x=len(test_x[0]))\n"
   ]
  },
  {
   "cell_type": "code",
   "execution_count": 375,
   "metadata": {
    "collapsed": true
   },
   "outputs": [],
   "source": [
    "a=next(testx)\n",
    "b=next(testy)"
   ]
  },
  {
   "cell_type": "code",
   "execution_count": 297,
   "metadata": {},
   "outputs": [
    {
     "data": {
      "text/plain": [
       "tensor([[ 1.,  0.,  0.,  0.,  0.,  0.,  0.],\n",
       "        [ 0.,  1.,  0.,  0.,  0.,  0.,  0.],\n",
       "        [ 0.,  0.,  1.,  0.,  0.,  0.,  0.]], device='cuda:0')"
      ]
     },
     "execution_count": 297,
     "metadata": {},
     "output_type": "execute_result"
    }
   ],
   "source": [
    "a[1][0,-3:,:]"
   ]
  },
  {
   "cell_type": "code",
   "execution_count": 300,
   "metadata": {},
   "outputs": [
    {
     "data": {
      "text/plain": [
       "tensor([[ 0.,  0.,  0.,  1.,  0.,  0.,  0.],\n",
       "        [ 0.,  0.,  0.,  0.,  1.,  0.,  0.],\n",
       "        [ 0.,  0.,  0.,  0.,  0.,  1.,  0.],\n",
       "        [ 0.,  0.,  0.,  0.,  0.,  0.,  1.],\n",
       "        [ 1.,  0.,  0.,  0.,  0.,  0.,  0.]], device='cuda:0')"
      ]
     },
     "execution_count": 300,
     "metadata": {},
     "output_type": "execute_result"
    }
   ],
   "source": [
    "b[1][0,:5,:]"
   ]
  },
  {
   "cell_type": "code",
   "execution_count": 32,
   "metadata": {},
   "outputs": [
    {
     "data": {
      "text/plain": [
       "array([[0.45962387, 0.46120766, 0.44457787, ..., 0.46569508, 0.4678068 ,\n",
       "        0.4564563 ],\n",
       "       [0.46780175, 1.        , 0.6438196 , ..., 0.46780175, 0.46396485,\n",
       "        0.44717842],\n",
       "       [0.27315187, 0.27315187, 0.3995788 , ..., 0.33636534, 0.27315187,\n",
       "        0.20993839],\n",
       "       ...,\n",
       "       [0.45992765, 0.55347604, 0.7405727 , ..., 0.5690674 , 0.64702433,\n",
       "        0.5690674 ],\n",
       "       [0.4457808 , 0.39468357, 0.4457808 , ..., 0.5479753 , 0.39468357,\n",
       "        0.4457808 ],\n",
       "       [0.45295188, 0.3764918 , 0.2982274 , ..., 0.3503285 , 0.3861903 ,\n",
       "        0.4058128 ]], dtype=float32)"
      ]
     },
     "execution_count": 32,
     "metadata": {},
     "output_type": "execute_result"
    }
   ],
   "source": [
    "targets[:,:8]"
   ]
  },
  {
   "cell_type": "code",
   "execution_count": 105,
   "metadata": {},
   "outputs": [
    {
     "name": "stdout",
     "output_type": "stream",
     "text": [
      "[0.2571519  0.2500574  0.2391514  0.23001522 0.22230694 0.21386938\n",
      " 0.26386854]\n",
      "[0.23585773 0.22919711 0.21922274 0.21122189 0.20402688 0.19941661\n",
      " 0.24262346]\n",
      "[0.5107236  0.5008164  0.48334423 0.47034907 0.45651424 0.4410268\n",
      " 0.51438195]\n",
      "[0.1901192  0.18434757 0.17586353 0.1691934  0.16346745 0.16044654\n",
      " 0.19637816]\n",
      "[0.26265186 0.2555004  0.2444066  0.23679422 0.23031329 0.22551228\n",
      " 0.26979095]\n",
      "[0.3547201  0.34620768 0.33245504 0.32029304 0.30809045 0.30169386\n",
      " 0.3613777 ]\n",
      "[0.2675631  0.26035416 0.2505476  0.24116157 0.2343021  0.2270195\n",
      " 0.27450332]\n",
      "[0.22953387 0.22296529 0.21288612 0.20523107 0.1996957  0.19589369\n",
      " 0.23637345]\n",
      "[0.24915254 0.24220134 0.2312095  0.22269973 0.21557283 0.20881085\n",
      " 0.25597727]\n",
      "[0.16277915 0.1576295  0.14974408 0.14378092 0.13991311 0.13874805\n",
      " 0.16861853]\n",
      "[0.20015427 0.19416074 0.1846981  0.17746527 0.17245485 0.17081954\n",
      " 0.20669302]\n",
      "[6.3306513e-30 6.0704063e-30 1.0450329e-29 9.8752705e-30 9.2133818e-30\n",
      " 8.3744775e-30 6.6153504e-30]\n"
     ]
    }
   ],
   "source": [
    "for i in range(488,500):\n",
    "    print(preds[i,-7:])"
   ]
  },
  {
   "cell_type": "code",
   "execution_count": 104,
   "metadata": {},
   "outputs": [
    {
     "data": {
      "text/plain": [
       "array([0.49913087, 0.42983168, 0.3800393 , 0.34540197, 0.32188746,\n",
       "       0.30620098, 0.29586273, 0.28910494, 0.28471163], dtype=float32)"
      ]
     },
     "execution_count": 104,
     "metadata": {},
     "output_type": "execute_result"
    }
   ],
   "source": [
    "preds[1656,2::7]"
   ]
  },
  {
   "cell_type": "code",
   "execution_count": 97,
   "metadata": {
    "collapsed": true
   },
   "outputs": [],
   "source": [
    "# from util.evaluation import SMAPE as cpu_SMAPE\n",
    "# scores=[]\n",
    "# for (t,p) in zip(truth,pred):\n",
    "#     scores.append(cpu_SMAPE(t,p))"
   ]
  },
  {
   "cell_type": "code",
   "execution_count": 98,
   "metadata": {
    "collapsed": true
   },
   "outputs": [],
   "source": [
    "# np.mean(scores)"
   ]
  },
  {
   "cell_type": "code",
   "execution_count": 233,
   "metadata": {
    "collapsed": true
   },
   "outputs": [],
   "source": [
    "preds=recover(preds,test_dic)\n",
    "recovered_test_x=recover(test_x,test_dic)\n",
    "targets=recover(targets,test_dic)\n",
    "es=recover(es,test_dic)"
   ]
  },
  {
   "cell_type": "code",
   "execution_count": 234,
   "metadata": {},
   "outputs": [
    {
     "data": {
      "text/plain": [
       "0.5853802792583328"
      ]
     },
     "execution_count": 234,
     "metadata": {},
     "output_type": "execute_result"
    }
   ],
   "source": [
    "from util.evaluation import SMAPE as cpu_SMAPE\n",
    "mean_scores=[]\n",
    "\n",
    "\n",
    "for ID in range(40):\n",
    "\n",
    "    pred=preds[ID]\n",
    "    truth=targets[ID]\n",
    "    scores=[]\n",
    "    for (t,p) in zip(truth,pred):\n",
    "        scores.append(cpu_SMAPE(t,p))\n",
    "\n",
    "    mean_scores.append(np.mean(scores))\n",
    "np.mean(mean_scores)"
   ]
  },
  {
   "cell_type": "code",
   "execution_count": 240,
   "metadata": {},
   "outputs": [],
   "source": [
    "# es"
   ]
  },
  {
   "cell_type": "code",
   "execution_count": 244,
   "metadata": {},
   "outputs": [
    {
     "name": "stdout",
     "output_type": "stream",
     "text": [
      "[46.90461  46.31186  45.54164  44.58914  43.37297  40.740234 46.158302\n",
      " 45.60148  45.016396 44.255898 43.320457 42.130096 39.565857 46.003784\n",
      " 45.44771  44.86354  44.104202 43.17079  41.98349  39.427353 45.98552\n",
      " 45.429535 44.845474 44.086273 43.1531   41.966164 39.41098  45.983353\n",
      " 45.427376 44.84333  44.084145 43.151    41.964104 39.409035 45.9831\n",
      " 45.427124 44.84307  44.083893 43.15075  41.963867 39.408813 45.983078\n",
      " 45.4271   44.84305  44.08387  43.150734 41.963844 39.40879  45.98307\n",
      " 45.427094 44.84304  44.083862 43.15072  41.963837 39.408783 45.98307\n",
      " 45.427094 44.84304  44.083862 43.15072  41.963837 39.408783 45.98307 ]\n"
     ]
    },
    {
     "data": {
      "text/plain": [
       "<matplotlib.legend.Legend at 0x7fa2dbd7f6a0>"
      ]
     },
     "execution_count": 244,
     "metadata": {},
     "output_type": "execute_result"
    },
    {
     "data": {
      "image/png": "[encoded data removed]",
      "text/plain": [
       "<matplotlib.figure.Figure at 0x7fa2dbe17128>"
      ]
     },
     "metadata": {},
     "output_type": "display_data"
    }
   ],
   "source": [
    "ID=12\n",
    "# source=sample_series[ID][encode_start:encode_end]\n",
    "source=recovered_test_x[ID]\n",
    "pred=preds[ID]\n",
    "truth=targets[ID]\n",
    "print(pred)\n",
    "# for i in range(10):\n",
    "plt.figure()\n",
    "plt.plot(np.arange(encode_start+1,encode_end),es[ID][:-1],color='black',label='fit')\n",
    "plt.plot(np.arange(encode_start+1,encode_end),source[1:],color='g',label='history')\n",
    "plt.plot(np.arange(encode_end,encode_end+decode_len),pred,color='r',label='prediction')\n",
    "plt.plot(np.arange(encode_end,encode_end+decode_len),truth,color='b',label='truth')\n",
    "plt.legend()"
   ]
  },
  {
   "cell_type": "code",
   "execution_count": 225,
   "metadata": {
    "collapsed": true
   },
   "outputs": [],
   "source": [
    "def valid_iter(test_x,test_y):\n",
    "    testx=X_loader(test_x,batchsize=10)\n",
    "    testy=Y_loader(test_y,batchsize=10,length_x=len(test_x[0]))\n",
    "\n",
    "    preds=[]\n",
    "    targets=[]\n",
    "    e_outs=[]\n",
    "    scores=[]\n",
    "    for j,(X_batch,x_feature) in enumerate(testx):\n",
    "        #Parse loaded batch\n",
    "        print(j,end='\\r')\n",
    "        target,y_feature=next(testy)\n",
    "\n",
    "    \n",
    "        score,out,e_out = valid(X_batch,x_feature, target,y_feature, encoder, decoder, SMAPE)\n",
    "        out=out.T\n",
    "        scores.append(score)\n",
    "        target=target.squeeze().detach().cpu().numpy()\n",
    "        if j ==0:\n",
    "            preds=out\n",
    "            targets=target\n",
    "            e_outs=e_out\n",
    "        else:\n",
    "            preds=np.concatenate((preds,out),axis=0)\n",
    "#             print(preds.shape)\n",
    "            e_outs=np.concatenate((e_outs,e_out),axis=0)\n",
    "            targets=np.concatenate((targets,target),axis=0)\n",
    "    return (preds,targets,scores,e_outs)"
   ]
  },
  {
   "cell_type": "code",
   "execution_count": 369,
   "metadata": {},
   "outputs": [
    {
     "data": {
      "text/plain": [
       "0.5"
      ]
     },
     "execution_count": 369,
     "metadata": {},
     "output_type": "execute_result"
    }
   ],
   "source": [
    "# preds\n",
    "import numpy\n",
    "\n",
    "def sigmoid(x):\n",
    "    return 1 / (1 + numpy.exp(-x))\n",
    "sigmoid(0.)"
   ]
  },
  {
   "cell_type": "code",
   "execution_count": 368,
   "metadata": {},
   "outputs": [
    {
     "data": {
      "text/plain": [
       "0.6456563062257954"
      ]
     },
     "execution_count": 368,
     "metadata": {},
     "output_type": "execute_result"
    }
   ],
   "source": [
    "sigmoid(0.6)"
   ]
  },
  {
   "cell_type": "code",
   "execution_count": 45,
   "metadata": {},
   "outputs": [
    {
     "data": {
      "text/plain": [
       "0.2913126124515909"
      ]
     },
     "execution_count": 45,
     "metadata": {},
     "output_type": "execute_result"
    }
   ],
   "source": [
    "np.tanh(0.3)"
   ]
  },
  {
   "cell_type": "code",
   "execution_count": 26,
   "metadata": {
    "collapsed": true
   },
   "outputs": [],
   "source": [
    "a,b=torch.rand(2,2),torch.rand(2,1)\n"
   ]
  },
  {
   "cell_type": "code",
   "execution_count": 23,
   "metadata": {},
   "outputs": [
    {
     "data": {
      "text/plain": [
       "tensor([[ 0.8679,  0.8679],\n",
       "        [ 0.2422,  0.2422]])"
      ]
     },
     "execution_count": 23,
     "metadata": {},
     "output_type": "execute_result"
    }
   ],
   "source": [
    "b=b.expand(b.size(0),a.size(1))"
   ]
  },
  {
   "cell_type": "code",
   "execution_count": 24,
   "metadata": {},
   "outputs": [
    {
     "data": {
      "text/plain": [
       "tensor([[ 0.5509,  0.5657],\n",
       "        [ 0.8888,  0.3870]])"
      ]
     },
     "execution_count": 24,
     "metadata": {},
     "output_type": "execute_result"
    }
   ],
   "source": [
    "a"
   ]
  },
  {
   "cell_type": "code",
   "execution_count": 89,
   "metadata": {},
   "outputs": [
    {
     "data": {
      "text/plain": [
       "tensor([[ 0.5690,  0.5119],\n",
       "        [ 0.7148,  0.2448]])"
      ]
     },
     "execution_count": 89,
     "metadata": {},
     "output_type": "execute_result"
    }
   ],
   "source": [
    "torch.sigmoid(nn.init.xavier_uniform_(torch.empty(2,2)))"
   ]
  },
  {
   "cell_type": "code",
   "execution_count": 143,
   "metadata": {
    "collapsed": true
   },
   "outputs": [],
   "source": [
    "class SRU(nn.Module):\n",
    "    def __init__(self, input_size, hidden_size):\n",
    "        super(SRU, self).__init__()\n",
    "        self.hidden_size = hidden_size\n",
    "        self.input_size=input_size\n",
    "        self.forget_w = nn.Linear(input_size, hidden_size,bias=True)\n",
    "        self.out_w = nn.Linear(hidden_size, hidden_size,bias=True)\n",
    "    def forward(self, Input, hidden):\n",
    "        #input size: is\n",
    "        #batch size: bs\n",
    "        #hidden size: hs\n",
    "        \n",
    "        #input:(bs,is)\n",
    "        #hidden:(bs,hs)\n",
    "        \n",
    "        #(bs,hs)\n",
    "        Z=torch.sigmoid(self.forget_w(Input))\n",
    "        #(bs,hs)\n",
    "        new_hidden=Z*Input+(1-Z)*hidden\n",
    "        O=torch.sigmoid(self.out_w(Input))\n",
    "        output=O*new_hidden+(1-O)*Input\n",
    "        return new_hidden,output"
   ]
  },
  {
   "cell_type": "code",
   "execution_count": 151,
   "metadata": {
    "collapsed": true
   },
   "outputs": [],
   "source": [
    "use_cuda=True\n",
    "class EncoderRNN(nn.Module):\n",
    "    def __init__(self, input_size, hidden_size,output_size):\n",
    "        super(EncoderRNN, self).__init__()\n",
    "\n",
    "        self.hidden_size = hidden_size\n",
    "#         self.gru = nn.GRU(input_size, hidden_size, batch_first=True, bidirectional=False)\n",
    "#         self.rnnc = nn.RNNCell(input_size, hidden_size, bias=True, nonlinearity='relu')\n",
    "        self.rnnc = SRU(input_size, hidden_size)\n",
    "#         self.out = nn.Linear(hidden_size, output_size)\n",
    "    def forward(self, input_x,feature, hidden):\n",
    "        #batchsize: bs\n",
    "        #feature size: fs\n",
    "        #hidden_size: hs(=bs)\n",
    "        #input_x:(bs,1)\n",
    "        #feature:(bs,fs)\n",
    "        #hidden:(bs,1,hs)\n",
    "        \n",
    "        input_x=input_x.expand(input_x.size(0),feature.size(1))\n",
    "        #(bs,fs)\n",
    "        rnn_input=input_x*feature\n",
    "        #(bs,hs)(bs,hs)\n",
    "        hidden,output = self.rnnc(rnn_input, hidden)\n",
    "        #(bs,hs)\n",
    "#         hidden = output\n",
    "        #(bs,1)\n",
    "        output = torch.sum(feature*output,1,keepdim=True)\n",
    "        #(bs,1,1)\n",
    "#         output = torch.sigmoid(output)\n",
    "         #(bs,1),(bs,hs)\n",
    "        return output, hidden\n",
    "\n",
    "    def initHidden(self,b_size):\n",
    "        \n",
    "#         nn.init.xavier_normal_(self.out)\n",
    "        paras= torch.sigmoid(nn.init.xavier_normal_(torch.empty(b_size,self.hidden_size))).cuda() if use_cuda else \\\n",
    "                torch.sigmoid(nn.init.xavier_normal_(torch.empty(b_size,self.hidden_size)))\n",
    "        return paras\n",
    "\n",
    "class DecoderRNN(nn.Module):\n",
    "    def __init__(self, input_size,hidden_size, output_size):\n",
    "        super(DecoderRNN, self).__init__()\n",
    "        self.hidden_size = hidden_size\n",
    "#         self.gru = nn.GRU(input_size, hidden_size, batch_first=True, bidirectional=False)\n",
    "#         self.rnnc = nn.RNNCell(input_size, hidden_size, bias=True, nonlinearity='relu')\n",
    "        self.rnnc = SRU(input_size, hidden_size)\n",
    "#         self.out = nn.Linear(hidden_size, output_size)\n",
    "    def forward(self, input_x,feature, hidden):\n",
    "        #batchsize: bs\n",
    "        #feature size: fs\n",
    "        #hidden_size: hs(=bs)\n",
    "        #input_x:(bs,1)\n",
    "        #feature:(bs,fs)\n",
    "        #hidden:(bs,1,hs)\n",
    "        \n",
    "        input_x=input_x.expand(input_x.size(0),feature.size(1))\n",
    "        #(bs,fs)\n",
    "        rnn_input=input_x*feature\n",
    "        #(bs,hs)(bs,hs)\n",
    "        hidden,output = self.rnnc(rnn_input, hidden)\n",
    "        #(bs,hs)\n",
    "#         hidden = output\n",
    "        #(bs,1)\n",
    "        output = torch.sum(feature*output,1,keepdim=True)\n",
    "        #(bs,1,1)\n",
    "#         output = torch.sigmoid(output)\n",
    "         #(bs,1),(bs,hs)\n",
    "        return output, hidden\n",
    "\n",
    "#     def initHidden(self,b_size):\n",
    "        \n",
    "# #         nn.init.xavier_normal_(self.out)\n",
    "#         paras= nn.init.xavier_normal_(torch.empty(b_size,self.hidden_size)).cuda() if use_cuda else \\\n",
    "#                 nn.init.xavier_normal_(torch.empty(b_size,self.hidden_size))\n",
    "#         return paras\n",
    "\n",
    "\n",
    "\n",
    "def train(input_variable, input_feature, target_variable, target_feature, encoder, decoder, encoder_optimizer, \\\n",
    "          decoder_optimizer, criterion):\n",
    "    encoder.train()\n",
    "    decoder.train()\n",
    "    encoder_hidden = encoder.initHidden(input_variable.size(0))\n",
    "\n",
    "    encoder_optimizer.zero_grad()\n",
    "    decoder_optimizer.zero_grad()\n",
    "\n",
    "    input_length = input_variable.size()[1]\n",
    "    target_length = target_variable.size()[1]\n",
    "    \n",
    "#     encoder_outputs = torch.zeros(input_length, encoder.hidden_size)\n",
    "#     encoder_outputs = encoder_outputs.cuda() if use_cuda else encoder_outputs\n",
    "   \n",
    "    loss_encoding = 0\n",
    "\n",
    "    for ei in range(input_length-1):\n",
    "\n",
    "        encoder_output, encoder_hidden = encoder(\n",
    "            input_variable[:,ei,:],input_feature[:,ei,:], encoder_hidden)\n",
    "        loss_encoding += criterion(encoder_output.squeeze(),input_variable[:,ei+1,:].squeeze())\n",
    "#         encoder_outputs[ei] = encoder_output[0,0,:]\n",
    "#     print('-'*90)\n",
    "#     print('pred')\n",
    "#     print(encoder_output.size())\n",
    "#     print(encoder_output)\n",
    "#     print('target')\n",
    "#     print(input_variable[:,ei+1:(ei+2),:].size())\n",
    "#     print(input_variable[:,ei+1:(ei+2),:])\n",
    "#     print(criterion(encoder_output.squeeze(),input_variable[:,ei+1:(ei+2),:].squeeze()))\n",
    "#     print('-'*90)\n",
    "    #get the first prediction\n",
    "    encoder_output, encoder_hidden = encoder(input_variable[:,ei+1,:],input_feature[:,ei+1,:],\\\n",
    "                                             encoder_hidden)\n",
    "    decoder_input = encoder_output\n",
    "    decoder_input = decoder_input.cuda() if use_cuda else decoder_input\n",
    "    \n",
    "    decoder_hidden = encoder_hidden\n",
    "#     print(input_variable[:,-1,:])\n",
    "#     print(decoder_hidden)\n",
    "#     print('_'*90)\n",
    "    use_teacher_forcing = True if random.random() < teacher_forcing_ratio else False\n",
    "    loss_decoding=0\n",
    "    if use_teacher_forcing:\n",
    "        # Teacher forcing: Feed the target as the next input\n",
    "        for di in range(target_length):\n",
    "#             print(decoder_hidden.size())\n",
    "#             decoder_output, decoder_hidden = decoder(\n",
    "#                 decoder_input,target_feature[:,di:(di+1),:], decoder_hidden)\n",
    "        \n",
    "            \n",
    "            decoder_output, decoder_hidden = decoder(\n",
    "                decoder_input,target_feature[:,di,:], encoder_hidden)\n",
    "        \n",
    "            loss_decoding += criterion(decoder_output.squeeze(), target_variable[:,di,:].squeeze())\n",
    "            decoder_input = target_variable[:,di,:]  # Teacher forcing\n",
    "\n",
    "    else:\n",
    "#         print('real start')\n",
    "#         print(input_variable[:,ei:(ei+1),:])\n",
    "#         print('encode start')\n",
    "#         print(decoder_input)\n",
    "        # Without teacher forcing: use its own predictions as the next input\n",
    "        for di in range(target_length):\n",
    "            \n",
    "#             print(decoder_hidden.size())\n",
    "#             decoder_output, decoder_hidden = decoder(\n",
    "#                 decoder_input,target_feature[:,di:(di+1),:], decoder_hidden)\n",
    "        \n",
    "            \n",
    "            decoder_output, decoder_hidden = decoder(\n",
    "                decoder_input,target_feature[:,di,:], encoder_hidden)\n",
    "\n",
    "            \n",
    "            decoder_input = decoder_output\n",
    "            decoder_input = decoder_input.cuda() if use_cuda else decoder_input\n",
    "#             print('sizes')\n",
    "#             print(decoder_output.size(),target_variable[:,di:di+1,:].size())\n",
    "#             print('pred')\n",
    "#             print(decoder_output)\n",
    "#             print('truth')\n",
    "#             print(target_variable[:,di:di+1,:])\n",
    "#             print('-'*90)\n",
    "            loss_decoding += criterion(decoder_output.squeeze(), target_variable[:,di,:].squeeze())\n",
    "#     loss=loss_encoding+loss_decoding\n",
    "    loss=loss_decoding\n",
    "    loss.backward()\n",
    "\n",
    "    encoder_optimizer.step()\n",
    "    decoder_optimizer.step()\n",
    "\n",
    "    return ((loss_encoding.item() / (input_length-1)),(loss_decoding.item() / target_length))"
   ]
  },
  {
   "cell_type": "code",
   "execution_count": 206,
   "metadata": {
    "collapsed": true
   },
   "outputs": [],
   "source": [
    "def valid(input_variable, input_feature, target_variable, target_feature, encoder, decoder, criterion):\n",
    "    encoder.eval()\n",
    "    decoder.eval()\n",
    "    encoder_hidden = encoder.initHidden(input_variable.size(0))\n",
    "    \n",
    "    input_length = input_variable.size()[1]\n",
    "    target_length = target_variable.size()[1]\n",
    "#     print(target_length)\n",
    "    \n",
    "    loss = 0\n",
    "    encoder_outputs=[]\n",
    "    for ei in range(input_length):\n",
    "\n",
    "        encoder_output, encoder_hidden = encoder(\n",
    "            input_variable[:,ei,:],input_feature[:,ei,:], encoder_hidden)\n",
    "        encoder_outputs.append(encoder_output.squeeze().detach().cpu().numpy())\n",
    "    decoder_input = encoder_output\n",
    "    decoder_input = decoder_input.cuda() if use_cuda else decoder_input\n",
    "    \n",
    "    decoder_hidden = encoder_hidden\n",
    "\n",
    "#     use_teacher_forcing = True if random.random() < teacher_forcing_ratio else False\n",
    "\n",
    "#     if use_teacher_forcing:\n",
    "#         # Teacher forcing: Feed the target as the next input\n",
    "#         for di in range(target_length):\n",
    "#             decoder_output, decoder_hidden = decoder(\n",
    "#                 decoder_input, decoder_hidden)\n",
    "#             loss += criterion(decoder_output, target_variable[:,di:di+1,:])\n",
    "#             decoder_input = target_variable[:,di:di+1,:]  # Teacher forcing\n",
    "\n",
    "#     else:\n",
    "        # Without teacher forcing: use its own predictions as the next input\n",
    "    outputs=[]\n",
    "#     print('!'*90)\n",
    "    for di in range(target_length):\n",
    "#         decoder_output, decoder_hidden = decoder(\n",
    "#             decoder_input,target_feature[:,di:(di+1),:], decoder_hidden)\n",
    "\n",
    "\n",
    "        decoder_output, decoder_hidden = decoder(\n",
    "            decoder_input,target_feature[:,di,:], encoder_hidden)\n",
    "#         print('-'*90)\n",
    "#         print('in',decoder_input.size())\n",
    "#         print('in',target_feature.size())\n",
    "#         print('hidden',encoder_hidden.size())\n",
    "#         print('out',decoder_hidden.size())\n",
    "        \n",
    "        \n",
    "#         print('in',decoder_input[0,:])\n",
    "#         print('in',target_feature[0,di,:])\n",
    "#         print('hidden',decoder_hidden[0,:])\n",
    "#         print('out',decoder_hidden[0,:])\n",
    "#         print('out',decoder_output[0,:])\n",
    "        \n",
    "#         decoder_output, decoder_hidden = decoder(\n",
    "#         decoder_input*10,target_feature[:,di,:], encoder_hidden)\n",
    "        \n",
    "#         print('in',decoder_input[0,:]*10)\n",
    "#         print('in',target_feature[0,di,:])\n",
    "#         print('hidden',encoder_hidden[0,:])\n",
    "#         print('out',decoder_hidden[0,:])\n",
    "#         print('out',decoder_output[0,:])\n",
    "        \n",
    "        \n",
    "        \n",
    "#         decoder_output, decoder_hidden = decoder(\n",
    "#         decoder_input+0.2,target_feature[:,di,:], encoder_hidden)\n",
    "        \n",
    "#         print('in',decoder_input[0,:]+0.2)\n",
    "#         print('in',target_feature[0,di,:])\n",
    "#         print('hidden',encoder_hidden[0,:])\n",
    "#         print('out',decoder_hidden[0,:])\n",
    "#         print('out',decoder_output[0,:])\n",
    "        \n",
    "        \n",
    "        decoder_input = decoder_output\n",
    "        decoder_input = decoder_input.cuda() if use_cuda else decoder_input\n",
    "        outputs.append(decoder_output.squeeze().detach().cpu().numpy())\n",
    "#         print(decoder_output.size(), target_variable[:,di:di+1,:].size())\n",
    "#         print(decoder_output.size(), target_variable[:,di:di+1,:].size())\n",
    "        loss += criterion(decoder_output, target_variable[:,di:di+1,:])\n",
    "\n",
    "\n",
    "    return (loss.item() / target_length,np.array(outputs),np.array(encoder_outputs).T)"
   ]
  },
  {
   "cell_type": "code",
   "execution_count": 40,
   "metadata": {},
   "outputs": [
    {
     "data": {
      "text/plain": [
       "array([0.        , 0.67977846, 0.58159673, 0.13477805, 0.3376326 ,\n",
       "       0.2360518 , 0.        , 0.        , 0.67977846, 0.58159673,\n",
       "       0.13477805, 0.3376326 , 0.2360518 , 0.        , 0.        ,\n",
       "       0.67977846, 0.58159673, 0.13477805, 0.3376326 , 0.2360518 ,\n",
       "       0.        , 0.        , 0.67977846, 0.58159673, 0.13477805,\n",
       "       0.3376326 , 0.2360518 , 0.        , 0.        , 0.67977846,\n",
       "       0.58159673, 0.13477805, 0.3376326 , 0.2360518 , 0.        ,\n",
       "       0.        , 0.67977846, 0.58159673, 0.13477805, 0.3376326 ,\n",
       "       0.2360518 , 0.        , 0.        , 0.67977846, 0.58159673,\n",
       "       0.13477805, 0.3376326 , 0.2360518 , 0.        , 0.        ,\n",
       "       0.67977846, 0.58159673, 0.13477805, 0.3376326 , 0.2360518 ,\n",
       "       0.        , 0.        , 0.67977846, 0.58159673, 0.13477805,\n",
       "       0.3376326 , 0.2360518 , 0.        ], dtype=float32)"
      ]
     },
     "execution_count": 40,
     "metadata": {},
     "output_type": "execute_result"
    }
   ],
   "source": [
    "preds[0]"
   ]
  },
  {
   "cell_type": "code",
   "execution_count": 131,
   "metadata": {},
   "outputs": [
    {
     "data": {
      "image/png": "[encoded data removed]",
      "text/plain": [
       "<matplotlib.figure.Figure at 0x7fa2dc921be0>"
      ]
     },
     "metadata": {},
     "output_type": "display_data"
    }
   ],
   "source": [
    "for i in range(10):\n",
    "    plt.plot(preds[i][:21])\n",
    "#     plt.plot(targets[i][:21])\n",
    "#     plt.plot(preds[213])"
   ]
  },
  {
   "cell_type": "code",
   "execution_count": 58,
   "metadata": {},
   "outputs": [
    {
     "data": {
      "text/plain": [
       "[]"
      ]
     },
     "execution_count": 58,
     "metadata": {},
     "output_type": "execute_result"
    }
   ],
   "source": [
    "preds"
   ]
  },
  {
   "cell_type": "code",
   "execution_count": 211,
   "metadata": {},
   "outputs": [
    {
     "name": "stdout",
     "output_type": "stream",
     "text": [
      "0\r"
     ]
    }
   ],
   "source": [
    "preds,targets,scores,e_outs=valid_iter(test_x,test_y)"
   ]
  },
  {
   "cell_type": "code",
   "execution_count": 213,
   "metadata": {},
   "outputs": [
    {
     "data": {
      "text/plain": [
       "array([0.44304785, 0.4536797 , 0.86116034, 0.27382272, 0.4177227 ,\n",
       "       0.69456244, 0.44599217, 0.5233862 , 0.4533701 , 0.69911   ,\n",
       "       0.32287702, 0.2533988 , 0.31656727, 0.33595887, 0.676985  ,\n",
       "       0.5884136 , 0.40683138, 0.32299232, 0.46273628, 0.31543434,\n",
       "       0.33415386, 0.53788435, 0.4533303 , 0.40683138, 0.26453546,\n",
       "       0.19963416, 0.31541297, 0.33431128, 0.22599581, 0.3873194 ,\n",
       "       0.47975534, 0.5009159 , 0.5137249 , 0.43364638, 0.1822842 ,\n",
       "       0.3006333 , 0.7444258 , 0.3340225 , 0.3233326 , 0.5143423 ,\n",
       "       0.25784174, 0.33235478, 0.3049815 , 0.7305932 , 0.3340225 ,\n",
       "       0.56118965, 0.2535761 , 0.6165943 , 0.28325692, 0.36795396,\n",
       "       0.589715  , 0.40683138, 0.32344946, 0.30629858, 0.20128748,\n",
       "       0.3335596 , 0.5887382 , 0.6588124 , 0.47975534, 0.2645284 ,\n",
       "       0.46283102, 0.37385076, 0.38557556, 0.23317325, 0.45379943,\n",
       "       0.40683138, 0.4411164 , 0.3067714 , 0.55511886, 0.28394857,\n",
       "       0.43370736, 0.7295621 , 0.40683138, 0.14915657, 0.46285498,\n",
       "       0.31618178, 0.38501012, 0.21191016, 0.6593729 , 0.40683138,\n",
       "       0.38154095, 0.4632389 , 0.3741594 , 0.437914  , 0.3629344 ,\n",
       "       0.2632377 , 0.3340225 , 0.38203043, 0.30676177, 0.37429154,\n",
       "       0.23387519, 0.30874327, 0.7287761 , 0.47975534, 0.32309663,\n",
       "       0.51391286, 0.20055956, 0.59434116, 0.30766916, 0.26362064,\n",
       "       0.69911   , 0.2645054 , 0.19980083, 0.2571564 , 0.18609715,\n",
       "       0.24786821, 0.38640827, 0.1887998 , 0.20646636, 0.3061835 ,\n",
       "       0.2573017 , 0.1308355 , 0.18692353, 0.4521972 , 0.47975534,\n",
       "       0.32278842, 0.41125366, 0.43349832, 0.3318799 , 0.23543605,\n",
       "       0.5197205 , 0.3340225 , 0.44123167, 0.41152257, 0.14441884,\n",
       "       0.23230484, 0.36135194, 0.3876102 , 0.3340225 , 0.26485905,\n",
       "       0.25332752, 0.43320197, 0.43632302, 0.30998787, 0.5879117 ,\n",
       "       0.40683138, 0.56107736, 0.30632293, 0.5552647 , 0.49093926,\n",
       "       0.50909996, 0.6588731 , 0.47975534, 0.6960778 , 0.35913616,\n",
       "       0.49455595, 0.43928102, 0.38772148, 0.58940816, 0.5527832 ],\n",
       "      dtype=float32)"
      ]
     },
     "execution_count": 213,
     "metadata": {},
     "output_type": "execute_result"
    }
   ],
   "source": [
    "e_outs"
   ]
  },
  {
   "cell_type": "code",
   "execution_count": 221,
   "metadata": {},
   "outputs": [
    {
     "data": {
      "text/plain": [
       "[<matplotlib.lines.Line2D at 0x7fa2dc7e3860>]"
      ]
     },
     "execution_count": 221,
     "metadata": {},
     "output_type": "execute_result"
    },
    {
     "data": {
      "image/png": "[encoded data removed]",
      "text/plain": [
       "<matplotlib.figure.Figure at 0x7fa2d9edbbe0>"
      ]
     },
     "metadata": {},
     "output_type": "display_data"
    }
   ],
   "source": [
    "plt.plot(e_outs[:-1],color='r')\n",
    "plt.plot(test_x[0][1:])"
   ]
  },
  {
   "cell_type": "code",
   "execution_count": 218,
   "metadata": {},
   "outputs": [
    {
     "data": {
      "text/plain": [
       "[<matplotlib.lines.Line2D at 0x7fa2dcc6e048>]"
      ]
     },
     "execution_count": 218,
     "metadata": {},
     "output_type": "execute_result"
    },
    {
     "data": {
      "image/png": "[encoded data removed]",
      "text/plain": [
       "<matplotlib.figure.Figure at 0x7fa2dc6b0710>"
      ]
     },
     "metadata": {},
     "output_type": "display_data"
    }
   ],
   "source": []
  }
 ],
 "metadata": {
  "kernelspec": {
   "display_name": "Python 3",
   "language": "python",
   "name": "python3"
  },
  "language_info": {
   "codemirror_mode": {
    "name": "ipython",
    "version": 3
   },
   "file_extension": ".py",
   "mimetype": "text/x-python",
   "name": "python",
   "nbconvert_exporter": "python",
   "pygments_lexer": "ipython3",
   "version": "3.6.3"
  }
 },
 "nbformat": 4,
 "nbformat_minor": 2
}
