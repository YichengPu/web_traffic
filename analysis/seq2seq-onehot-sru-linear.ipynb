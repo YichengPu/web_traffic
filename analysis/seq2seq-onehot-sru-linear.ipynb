{
 "cells": [
  {
   "cell_type": "code",
   "execution_count": 1,
   "metadata": {},
   "outputs": [
    {
     "data": {
      "text/html": [
       "<div>\n",
       "<style scoped>\n",
       "    .dataframe tbody tr th:only-of-type {\n",
       "        vertical-align: middle;\n",
       "    }\n",
       "\n",
       "    .dataframe tbody tr th {\n",
       "        vertical-align: top;\n",
       "    }\n",
       "\n",
       "    .dataframe thead th {\n",
       "        text-align: right;\n",
       "    }\n",
       "</style>\n",
       "<table border=\"1\" class=\"dataframe\">\n",
       "  <thead>\n",
       "    <tr style=\"text-align: right;\">\n",
       "      <th></th>\n",
       "      <th>2015-07-01</th>\n",
       "      <th>2015-07-02</th>\n",
       "      <th>2015-07-03</th>\n",
       "      <th>2015-07-04</th>\n",
       "      <th>2015-07-05</th>\n",
       "      <th>2015-07-06</th>\n",
       "      <th>2015-07-07</th>\n",
       "      <th>2015-07-08</th>\n",
       "      <th>2015-07-09</th>\n",
       "      <th>2015-07-10</th>\n",
       "      <th>...</th>\n",
       "      <th>2017-09-05</th>\n",
       "      <th>2017-09-06</th>\n",
       "      <th>2017-09-07</th>\n",
       "      <th>2017-09-08</th>\n",
       "      <th>2017-09-09</th>\n",
       "      <th>2017-09-10</th>\n",
       "      <th>langs</th>\n",
       "      <th>vtype</th>\n",
       "      <th>access</th>\n",
       "      <th>entity</th>\n",
       "    </tr>\n",
       "  </thead>\n",
       "  <tbody>\n",
       "    <tr>\n",
       "      <th>0</th>\n",
       "      <td>18.0</td>\n",
       "      <td>11.0</td>\n",
       "      <td>5.0</td>\n",
       "      <td>13.0</td>\n",
       "      <td>14.0</td>\n",
       "      <td>9.0</td>\n",
       "      <td>9.0</td>\n",
       "      <td>22.0</td>\n",
       "      <td>26.0</td>\n",
       "      <td>24.0</td>\n",
       "      <td>...</td>\n",
       "      <td>16.0</td>\n",
       "      <td>27.0</td>\n",
       "      <td>29.0</td>\n",
       "      <td>23.0</td>\n",
       "      <td>54.0</td>\n",
       "      <td>38.0</td>\n",
       "      <td>zh.wikipedia.org</td>\n",
       "      <td>spider</td>\n",
       "      <td>all-access</td>\n",
       "      <td>2NE1</td>\n",
       "    </tr>\n",
       "    <tr>\n",
       "      <th>1</th>\n",
       "      <td>11.0</td>\n",
       "      <td>14.0</td>\n",
       "      <td>15.0</td>\n",
       "      <td>18.0</td>\n",
       "      <td>11.0</td>\n",
       "      <td>13.0</td>\n",
       "      <td>22.0</td>\n",
       "      <td>11.0</td>\n",
       "      <td>10.0</td>\n",
       "      <td>4.0</td>\n",
       "      <td>...</td>\n",
       "      <td>54.0</td>\n",
       "      <td>25.0</td>\n",
       "      <td>26.0</td>\n",
       "      <td>23.0</td>\n",
       "      <td>13.0</td>\n",
       "      <td>81.0</td>\n",
       "      <td>zh.wikipedia.org</td>\n",
       "      <td>spider</td>\n",
       "      <td>all-access</td>\n",
       "      <td>2PM</td>\n",
       "    </tr>\n",
       "    <tr>\n",
       "      <th>2</th>\n",
       "      <td>1.0</td>\n",
       "      <td>0.0</td>\n",
       "      <td>1.0</td>\n",
       "      <td>1.0</td>\n",
       "      <td>0.0</td>\n",
       "      <td>4.0</td>\n",
       "      <td>0.0</td>\n",
       "      <td>3.0</td>\n",
       "      <td>4.0</td>\n",
       "      <td>4.0</td>\n",
       "      <td>...</td>\n",
       "      <td>4.0</td>\n",
       "      <td>7.0</td>\n",
       "      <td>3.0</td>\n",
       "      <td>4.0</td>\n",
       "      <td>7.0</td>\n",
       "      <td>6.0</td>\n",
       "      <td>zh.wikipedia.org</td>\n",
       "      <td>spider</td>\n",
       "      <td>all-access</td>\n",
       "      <td>3C</td>\n",
       "    </tr>\n",
       "    <tr>\n",
       "      <th>3</th>\n",
       "      <td>35.0</td>\n",
       "      <td>13.0</td>\n",
       "      <td>10.0</td>\n",
       "      <td>94.0</td>\n",
       "      <td>4.0</td>\n",
       "      <td>26.0</td>\n",
       "      <td>14.0</td>\n",
       "      <td>9.0</td>\n",
       "      <td>11.0</td>\n",
       "      <td>16.0</td>\n",
       "      <td>...</td>\n",
       "      <td>6.0</td>\n",
       "      <td>16.0</td>\n",
       "      <td>19.0</td>\n",
       "      <td>30.0</td>\n",
       "      <td>38.0</td>\n",
       "      <td>4.0</td>\n",
       "      <td>zh.wikipedia.org</td>\n",
       "      <td>spider</td>\n",
       "      <td>all-access</td>\n",
       "      <td>4minute</td>\n",
       "    </tr>\n",
       "    <tr>\n",
       "      <th>4</th>\n",
       "      <td>0.0</td>\n",
       "      <td>0.0</td>\n",
       "      <td>0.0</td>\n",
       "      <td>0.0</td>\n",
       "      <td>0.0</td>\n",
       "      <td>0.0</td>\n",
       "      <td>0.0</td>\n",
       "      <td>0.0</td>\n",
       "      <td>0.0</td>\n",
       "      <td>0.0</td>\n",
       "      <td>...</td>\n",
       "      <td>20.0</td>\n",
       "      <td>23.0</td>\n",
       "      <td>28.0</td>\n",
       "      <td>14.0</td>\n",
       "      <td>8.0</td>\n",
       "      <td>7.0</td>\n",
       "      <td>zh.wikipedia.org</td>\n",
       "      <td>spider</td>\n",
       "      <td>all-access</td>\n",
       "      <td>52 Hz I Love You</td>\n",
       "    </tr>\n",
       "  </tbody>\n",
       "</table>\n",
       "<p>5 rows × 807 columns</p>\n",
       "</div>"
      ],
      "text/plain": [
       "   2015-07-01  2015-07-02  2015-07-03  2015-07-04  2015-07-05  2015-07-06  \\\n",
       "0        18.0        11.0         5.0        13.0        14.0         9.0   \n",
       "1        11.0        14.0        15.0        18.0        11.0        13.0   \n",
       "2         1.0         0.0         1.0         1.0         0.0         4.0   \n",
       "3        35.0        13.0        10.0        94.0         4.0        26.0   \n",
       "4         0.0         0.0         0.0         0.0         0.0         0.0   \n",
       "\n",
       "   2015-07-07  2015-07-08  2015-07-09  2015-07-10        ...         \\\n",
       "0         9.0        22.0        26.0        24.0        ...          \n",
       "1        22.0        11.0        10.0         4.0        ...          \n",
       "2         0.0         3.0         4.0         4.0        ...          \n",
       "3        14.0         9.0        11.0        16.0        ...          \n",
       "4         0.0         0.0         0.0         0.0        ...          \n",
       "\n",
       "   2017-09-05  2017-09-06  2017-09-07  2017-09-08  2017-09-09  2017-09-10  \\\n",
       "0        16.0        27.0        29.0        23.0        54.0        38.0   \n",
       "1        54.0        25.0        26.0        23.0        13.0        81.0   \n",
       "2         4.0         7.0         3.0         4.0         7.0         6.0   \n",
       "3         6.0        16.0        19.0        30.0        38.0         4.0   \n",
       "4        20.0        23.0        28.0        14.0         8.0         7.0   \n",
       "\n",
       "              langs   vtype      access            entity  \n",
       "0  zh.wikipedia.org  spider  all-access              2NE1  \n",
       "1  zh.wikipedia.org  spider  all-access               2PM  \n",
       "2  zh.wikipedia.org  spider  all-access                3C  \n",
       "3  zh.wikipedia.org  spider  all-access           4minute  \n",
       "4  zh.wikipedia.org  spider  all-access  52 Hz I Love You  \n",
       "\n",
       "[5 rows x 807 columns]"
      ]
     },
     "execution_count": 1,
     "metadata": {},
     "output_type": "execute_result"
    }
   ],
   "source": [
    "import pandas as pd\n",
    "import numpy as np\n",
    "from matplotlib import pyplot as plt\n",
    "from sklearn import datasets, linear_model\n",
    "from sklearn.metrics import mean_squared_error, r2_score\n",
    "from sklearn.metrics import mean_squared_error\n",
    "from util.evaluation import SMAPE\n",
    "%matplotlib inline\n",
    "\n",
    "traffic=pd.read_csv('../data/cl_traffic.csv')\n",
    "\n",
    "traffic=traffic.fillna(0)\n",
    "\n",
    "traffic.head()"
   ]
  },
  {
   "cell_type": "code",
   "execution_count": 114,
   "metadata": {
    "collapsed": true
   },
   "outputs": [],
   "source": [
    "sample_index=np.random.choice(traffic.index,50000,replace=False)\n",
    "sample_series=[]\n",
    "for u in sample_index:\n",
    "#     print('Training...|| {:.2f}'.format(u/tot_len*100)+'%',end='\\r')\n",
    "    sample_series.append(traffic.loc[u][:-4].values)\n",
    "\n",
    "def diff(x,epsilon=1e-3):\n",
    "    return((x[1:]-x[:-1])/(x[:-1]+epsilon))"
   ]
  },
  {
   "cell_type": "markdown",
   "metadata": {},
   "source": [
    "## prepare training and testing data"
   ]
  },
  {
   "cell_type": "code",
   "execution_count": 3,
   "metadata": {
    "collapsed": true
   },
   "outputs": [],
   "source": [
    "def split_and_clean(sample_series,train_start,train_end,test_len):\n",
    "    clean_series=[]\n",
    "    test_series=[]\n",
    "    for index in range(len(sample_series)):\n",
    "        c=np.array(sample_series[index][train_start:train_end])\n",
    "        test_series.append(sample_series[index][train_end:(train_end+test_len)])\n",
    "        std=np.std(c)\n",
    "        mean=np.mean(c)\n",
    "        c[(c-np.mean(c))>2*std]=mean+2*std\n",
    "        c[(c-np.mean(c))<-2*std]=mean-2*std\n",
    "        clean_series.append(c)\n",
    "    return (clean_series,test_series)"
   ]
  },
  {
   "cell_type": "code",
   "execution_count": 4,
   "metadata": {
    "collapsed": true
   },
   "outputs": [],
   "source": [
    "\n",
    "def normalize_X(clean_series):\n",
    "    recover_dic={}\n",
    "    scaled_series=[]\n",
    "    for i in range(len(clean_series)):\n",
    "        if np.sum(clean_series[i])==0:\n",
    "            scaled_series.append(np.zeros_like(clean_series[i]))\n",
    "            recover_dic[i]=(0,0)\n",
    "        else:\n",
    "            std=np.std(clean_series[i])\n",
    "            biased_mean=np.mean(clean_series[i])-3*std\n",
    "\n",
    "            recover_dic[i]=(std,biased_mean)\n",
    "            new_series=clean_series[i]-biased_mean\n",
    "            new_series[new_series<0]=0\n",
    "            new_series=new_series/(6*std)\n",
    "            new_series[new_series>1]=1\n",
    "            scaled_series.append(new_series)\n",
    "    return (scaled_series,recover_dic)\n",
    "\n",
    "\n",
    "def normalize_Y(clean_series,recover_dic):\n",
    "    scaled_series=[]\n",
    "    for i in range(len(clean_series)):\n",
    "        (std,biased_mean) = recover_dic[i]\n",
    "        \n",
    "        if std==0:\n",
    "            # ignore all zero cases\n",
    "#             print(clean_series[i])\n",
    "            scaled_series.append(np.zeros_like(clean_series[i]))\n",
    "\n",
    "        else:\n",
    "            \n",
    "\n",
    "            new_series=clean_series[i]-biased_mean\n",
    "            new_series[new_series<0]=0\n",
    "            new_series=new_series/(6*std)\n",
    "            new_series[new_series>1]=1\n",
    "            scaled_series.append(new_series)\n",
    "    return (scaled_series)\n",
    "\n",
    "def recover(scaled_series,recover_dic):\n",
    "    recovered_series=[]\n",
    "    for i in range(len(scaled_series)):\n",
    "        std,biased_mean=recover_dic[i]\n",
    "        new_series=scaled_series[i]*(6*float(std))+biased_mean\n",
    "        recovered_series.append(new_series)\n",
    "    return recovered_series"
   ]
  },
  {
   "cell_type": "code",
   "execution_count": 23,
   "metadata": {
    "collapsed": true
   },
   "outputs": [],
   "source": [
    "# encode_start=0\n",
    "# encode_end=150\n",
    "# decode_len=63\n",
    "\n",
    "# clean_series,decode_series = split_and_clean(sample_series,encode_start,encode_end,decode_len)\n",
    "\n",
    "\n",
    "# train_x=clean_series\n",
    "# train_y=decode_series\n",
    "\n",
    "# encode_start=200\n",
    "# encode_end=350\n",
    "# decode_len=63\n",
    "\n",
    "\n",
    "# clean_series,decode_series = split_and_clean(sample_series,encode_start,encode_end,decode_len)\n",
    "\n",
    "# test_x=clean_series\n",
    "# test_y=decode_series"
   ]
  },
  {
   "cell_type": "code",
   "execution_count": 115,
   "metadata": {
    "collapsed": true
   },
   "outputs": [],
   "source": [
    "encode_start=0\n",
    "encode_end=150\n",
    "decode_len=63\n",
    "\n",
    "clean_series,decode_series = split_and_clean(sample_series,encode_start,encode_end,decode_len)\n",
    "train_x,train_dic = normalize_X(clean_series)\n",
    "train_y = normalize_Y(decode_series,train_dic)\n",
    "\n",
    "\n",
    "encode_start=200\n",
    "encode_end=350\n",
    "decode_len=63\n",
    "\n",
    "PERIOD=98\n",
    "\n",
    "clean_series,decode_series = split_and_clean(sample_series,encode_start,encode_end,decode_len)\n",
    "\n",
    "test_x,test_dic = normalize_X(clean_series)\n",
    "test_y = normalize_Y(decode_series,test_dic)"
   ]
  },
  {
   "cell_type": "code",
   "execution_count": 25,
   "metadata": {
    "collapsed": true
   },
   "outputs": [],
   "source": [
    "# train_x[0]"
   ]
  },
  {
   "cell_type": "code",
   "execution_count": 28,
   "metadata": {
    "collapsed": true
   },
   "outputs": [],
   "source": [
    "def make_one_hots(length,last_pointer=-1):\n",
    "    pointer=(last_pointer+1) % PERIOD\n",
    "#     print(pointer)\n",
    "    one_hots=[]\n",
    "    one_hot_temp=np.zeros(PERIOD)\n",
    "    for i in range(length):\n",
    "        one_hot=one_hot_temp.copy()\n",
    "        one_hot[pointer]=1\n",
    "        one_hots.append(one_hot)\n",
    "        pointer+=1\n",
    "        pointer=pointer % PERIOD\n",
    "    return np.array(one_hots)"
   ]
  },
  {
   "cell_type": "code",
   "execution_count": null,
   "metadata": {
    "collapsed": true
   },
   "outputs": [],
   "source": []
  },
  {
   "cell_type": "code",
   "execution_count": 8,
   "metadata": {
    "collapsed": true
   },
   "outputs": [],
   "source": [
    "# trainx=X_loader(train_x,batch_size)\n",
    "\n",
    "# a,b=next(trainx)\n",
    "\n",
    "# a.size()\n"
   ]
  },
  {
   "cell_type": "code",
   "execution_count": 9,
   "metadata": {
    "collapsed": true
   },
   "outputs": [],
   "source": [
    "# b[:,2:3,:],b[:,2:3,:]"
   ]
  },
  {
   "cell_type": "code",
   "execution_count": 10,
   "metadata": {
    "collapsed": true
   },
   "outputs": [],
   "source": [
    "# b[:,2:3,:]*b[:,2:3,:]"
   ]
  },
  {
   "cell_type": "code",
   "execution_count": 7,
   "metadata": {
    "collapsed": true
   },
   "outputs": [],
   "source": [
    "def X_loader(x,batchsize):\n",
    "    batch=0\n",
    "    x=np.array(x,dtype=np.float32)\n",
    "#     x=np.log(x+1)\n",
    "    one_hots=make_one_hots(len(x[0]))\n",
    "    \n",
    "    while batch<(len(x) // batchsize):\n",
    "        \n",
    "        data=x[batch*batchsize:(batch+1)*batchsize,:]\n",
    "        tensor=torch.FloatTensor(np.array(data, dtype=float))\n",
    "        tensor=tensor.unsqueeze(2).cuda()\n",
    "        \n",
    "        feature=torch.FloatTensor(np.array(one_hots)).unsqueeze(0)\n",
    "        feature=feature.expand((batchsize,feature.size()[1],feature.size()[2])).cuda()\n",
    "        \n",
    "        yield(tensor,feature)\n",
    "        batch+=1"
   ]
  },
  {
   "cell_type": "code",
   "execution_count": 9,
   "metadata": {
    "collapsed": true
   },
   "outputs": [],
   "source": [
    "\n",
    "def Y_loader(y,batchsize,length_x):\n",
    "    batch=0\n",
    "    y=np.array(y,dtype=np.float32)\n",
    "#     y=np.log(y+1)\n",
    "    last_pointer=length_x % PERIOD - 1\n",
    "    one_hots=make_one_hots(len(y[0]),last_pointer)\n",
    "    while batch<(len(y) // batchsize):\n",
    "        \n",
    "        data=y[batch*batchsize:(batch+1)*batchsize,:]\n",
    "        tensor=torch.FloatTensor(np.array(data, dtype=float))\n",
    "        tensor=tensor.unsqueeze(2).cuda()\n",
    "\n",
    "        feature=torch.FloatTensor(np.array(one_hots)).unsqueeze(0)\n",
    "        feature=feature.expand((batchsize,feature.size()[1],feature.size()[2])).cuda()\n",
    "        \n",
    "        yield(tensor,feature)\n",
    "        batch+=1"
   ]
  },
  {
   "cell_type": "code",
   "execution_count": 8,
   "metadata": {
    "collapsed": true
   },
   "outputs": [],
   "source": [
    "import torch\n",
    "import torch.nn as nn\n"
   ]
  },
  {
   "cell_type": "code",
   "execution_count": 130,
   "metadata": {},
   "outputs": [
    {
     "name": "stdout",
     "output_type": "stream",
     "text": [
      "linear.weight tensor([[-0.0206, -0.0116,  0.0320,  ..., -0.0858,  0.0821, -0.0172],\n",
      "        [ 0.0041,  0.0525, -0.0148,  ..., -0.0562, -0.0768, -0.0377],\n",
      "        [ 0.0671, -0.0153, -0.0581,  ...,  0.0382, -0.0799,  0.0105],\n",
      "        ...,\n",
      "        [ 0.0072, -0.0801, -0.0851,  ...,  0.0776,  0.0070, -0.0028],\n",
      "        [ 0.0435, -0.0568,  0.0203,  ..., -0.0236,  0.0280,  0.0604],\n",
      "        [-0.0198, -0.0472, -0.0448,  ..., -0.0865, -0.0835,  0.0977]], device='cuda:0')\n"
     ]
    }
   ],
   "source": [
    "for name, param in decoder.named_parameters():\n",
    "    if param.requires_grad:\n",
    "        print (name, param.data)"
   ]
  },
  {
   "cell_type": "code",
   "execution_count": 29,
   "metadata": {
    "collapsed": true
   },
   "outputs": [],
   "source": [
    "def SMAPE(true,predicted):\n",
    "    true=true.squeeze()\n",
    "    predicted=predicted.squeeze()\n",
    "#     true=torch.exp(true)-1\n",
    "#     predicted=torch.exp(predicted)-1\n",
    "    epsilon = 0.1\n",
    "    summ = torch.abs(true) + torch.abs(predicted) + epsilon\n",
    "    smape = torch.abs(predicted - true) / summ * 2.0\n",
    "    return torch.mean(smape)"
   ]
  },
  {
   "cell_type": "code",
   "execution_count": 116,
   "metadata": {},
   "outputs": [],
   "source": [
    "from torch import optim\n",
    "from numpy import random as random\n",
    "epoch=190\n",
    "indicator=5\n",
    "\n",
    "# optimizer = optim.RMSprop(model.parameters(), lr=0.001, alpha=0.99, \\\n",
    "#     eps=1e-08, weight_decay=0, momentum=0, centered=False)\n",
    "# optimizer = torch.optim.SGD(model.parameters(), lr=0.01, momentum=0)\n",
    "input_size=PERIOD\n",
    "hidden_size=PERIOD\n",
    "output_size=1\n",
    "lr=0.1\n",
    "batch_size=128\n",
    "encoder=EncoderRNN(input_size,hidden_size,output_size).cuda() if use_cuda else EncoderRNN(1,hidden_size)\n",
    "decoder=DecoderRNN(input_size,63).cuda() if use_cuda else DecoderRNN(1,hidden_size)\n",
    "# teacher_forcing_ratio = 0.4\n",
    "encoder_optimizer = optim.SGD(encoder.parameters(), lr=lr)\n",
    "decoder_optimizer = optim.SGD(decoder.parameters(), lr=lr)"
   ]
  },
  {
   "cell_type": "code",
   "execution_count": null,
   "metadata": {
    "collapsed": true
   },
   "outputs": [],
   "source": [
    "# ps,_,score = valid_iter(test_x, test_y)\n",
    "# for kk in range(12):\n",
    "#     plt.plot(ps[kk][:21])\n",
    "#     plt.title('epoch '+str(0))\n",
    "# plt.show()\n",
    "# print(\"Validation! Epoch: {}; Loss: {}\\n\".format(-1, np.mean(score)))\n",
    "for i in range(epoch):\n",
    "    \n",
    "    trainx=X_loader(train_x,batch_size)\n",
    "    trainy=Y_loader(train_y,batch_size,len(train_x[0]))\n",
    "    \n",
    "    running_loss_e = 0.0\n",
    "    running_loss_d = 0.0\n",
    "#     validation(test_x,test_y)\n",
    "    for j,(X_batch,x_feature) in enumerate(trainx):\n",
    "        #Parse loaded batch\n",
    "        x=X_batch\n",
    "        y,y_feature=next(trainy)\n",
    "        \n",
    "        e_loss,d_loss=train(x, x_feature, y, y_feature, encoder, decoder, encoder_optimizer, \\\n",
    "                  decoder_optimizer, SMAPE)\n",
    "        running_loss_e += e_loss\n",
    "        running_loss_d += d_loss\n",
    "        if (j>0) and (j % indicator == 0):\n",
    "            print(\"Epoch: {}; iterations: {}; encoding Loss: {};decoding Loss: {}\\n\".format(i, j, \\\n",
    "                                running_loss_e / indicator,running_loss_d / indicator))\n",
    "            running_loss_e = 0.0\n",
    "            running_loss_d = 0.0\n",
    "        \n",
    "    ps,_,score,_ = valid_iter(test_x, test_y)\n",
    "#     for kk in range(1):\n",
    "#         plt.plot(ps[kk][:21])\n",
    "#         plt.title('epoch '+str(i))\n",
    "#     plt.show()\n",
    "    print(\"Validation! Epoch: {}; Loss: {}\\n\".format(i, np.mean(score)))"
   ]
  },
  {
   "cell_type": "code",
   "execution_count": 118,
   "metadata": {
    "scrolled": true
   },
   "outputs": [
    {
     "name": "stdout",
     "output_type": "stream",
     "text": [
      "389\r"
     ]
    }
   ],
   "source": [
    "preds,targets,scores,es=valid_iter(test_x,test_y)"
   ]
  },
  {
   "cell_type": "code",
   "execution_count": 119,
   "metadata": {},
   "outputs": [],
   "source": [
    "preds=recover(preds,test_dic)\n",
    "recovered_test_x=recover(test_x,test_dic)\n",
    "targets=recover(targets,test_dic)\n",
    "es=recover(es,test_dic)"
   ]
  },
  {
   "cell_type": "code",
   "execution_count": 120,
   "metadata": {},
   "outputs": [
    {
     "data": {
      "text/plain": [
       "0.5744653964140926"
      ]
     },
     "execution_count": 120,
     "metadata": {},
     "output_type": "execute_result"
    }
   ],
   "source": [
    "from util.evaluation import SMAPE as cpu_SMAPE\n",
    "mean_scores=[]\n",
    "\n",
    "\n",
    "for ID in range(40):\n",
    "\n",
    "    pred=preds[ID]\n",
    "    truth=targets[ID]\n",
    "    scores=[]\n",
    "    for (t,p) in zip(truth,pred):\n",
    "        scores.append(cpu_SMAPE(t,p))\n",
    "\n",
    "    mean_scores.append(np.mean(scores))\n",
    "np.mean(mean_scores)"
   ]
  },
  {
   "cell_type": "code",
   "execution_count": 124,
   "metadata": {},
   "outputs": [
    {
     "data": {
      "text/plain": [
       "<matplotlib.legend.Legend at 0x7f91069dbcc0>"
      ]
     },
     "execution_count": 124,
     "metadata": {},
     "output_type": "execute_result"
    },
    {
     "data": {
      "image/png": "[encoded data removed]",
      "text/plain": [
       "<matplotlib.figure.Figure at 0x7f91c6e19a90>"
      ]
     },
     "metadata": {},
     "output_type": "display_data"
    }
   ],
   "source": [
    "ID=3890\n",
    "# source=sample_series[ID][encode_start:encode_end]\n",
    "source=recovered_test_x[ID]\n",
    "pred=preds[ID]\n",
    "truth=targets[ID]\n",
    "# print(pred)\n",
    "# for i in range(10):\n",
    "plt.figure()\n",
    "plt.plot(np.arange(encode_start+1,encode_end),es[ID][:-1],color='black',label='fit')\n",
    "plt.plot(np.arange(encode_start+1,encode_end),source[1:],color='g',label='history')\n",
    "plt.plot(np.arange(encode_end,encode_end+decode_len),pred,color='r',label='prediction')\n",
    "plt.plot(np.arange(encode_end,encode_end+decode_len),truth,color='b',label='truth')\n",
    "plt.legend()"
   ]
  },
  {
   "cell_type": "code",
   "execution_count": 59,
   "metadata": {
    "collapsed": true
   },
   "outputs": [],
   "source": [
    "def valid_iter(test_x,test_y):\n",
    "    testx=X_loader(test_x,batchsize=batch_size)\n",
    "    testy=Y_loader(test_y,batchsize=batch_size,length_x=len(test_x[0]))\n",
    "\n",
    "    preds=[]\n",
    "    targets=[]\n",
    "    e_outs=[]\n",
    "    scores=[]\n",
    "    for j,(X_batch,x_feature) in enumerate(testx):\n",
    "        #Parse loaded batch\n",
    "        print(j,end='\\r')\n",
    "        target,y_feature=next(testy)\n",
    "\n",
    "    \n",
    "        score,out,e_out = valid(X_batch,x_feature, target,y_feature, encoder, decoder, SMAPE)\n",
    "        out=out\n",
    "        scores.append(score)\n",
    "        target=target.squeeze().detach().cpu().numpy()\n",
    "        if j ==0:\n",
    "            preds=out\n",
    "            targets=target\n",
    "            e_outs=e_out\n",
    "        else:\n",
    "            preds=np.concatenate((preds,out),axis=0)\n",
    "#             print(preds.shape)\n",
    "            e_outs=np.concatenate((e_outs,e_out),axis=0)\n",
    "            targets=np.concatenate((targets,target),axis=0)\n",
    "    return (preds,targets,scores,e_outs)"
   ]
  },
  {
   "cell_type": "code",
   "execution_count": 14,
   "metadata": {
    "collapsed": true
   },
   "outputs": [],
   "source": [
    "class SRU(nn.Module):\n",
    "    def __init__(self, input_size, hidden_size):\n",
    "        super(SRU, self).__init__()\n",
    "        self.hidden_size = hidden_size\n",
    "        self.input_size=input_size\n",
    "        self.forget_w = nn.Linear(input_size, hidden_size,bias=True)\n",
    "        self.out_w = nn.Linear(hidden_size, hidden_size,bias=True)\n",
    "    def forward(self, Input, hidden):\n",
    "        #input size: is\n",
    "        #batch size: bs\n",
    "        #hidden size: hs\n",
    "        \n",
    "        #input:(bs,is)\n",
    "        #hidden:(bs,hs)\n",
    "        \n",
    "        #(bs,hs)\n",
    "        Z=torch.sigmoid(self.forget_w(Input))\n",
    "        #(bs,hs)\n",
    "        new_hidden=Z*Input+(1-Z)*hidden\n",
    "        O=torch.sigmoid(self.out_w(Input))\n",
    "        output=O*new_hidden+(1-O)*Input\n",
    "        return new_hidden,output"
   ]
  },
  {
   "cell_type": "code",
   "execution_count": 77,
   "metadata": {
    "collapsed": true
   },
   "outputs": [],
   "source": [
    "use_cuda=True\n",
    "class EncoderRNN(nn.Module):\n",
    "    def __init__(self, input_size, hidden_size,output_size):\n",
    "        super(EncoderRNN, self).__init__()\n",
    "\n",
    "        self.hidden_size = hidden_size\n",
    "#         self.gru = nn.GRU(input_size, hidden_size, batch_first=True, bidirectional=False)\n",
    "#         self.rnnc = nn.RNNCell(input_size, hidden_size, bias=True, nonlinearity='relu')\n",
    "        self.rnnc = SRU(input_size, hidden_size)\n",
    "#         self.out = nn.Linear(hidden_size, output_size)\n",
    "    def forward(self, input_x,feature, hidden):\n",
    "        #batchsize: bs\n",
    "        #feature size: fs\n",
    "        #hidden_size: hs(=bs)\n",
    "        #input_x:(bs,1)\n",
    "        #feature:(bs,fs)\n",
    "        #hidden:(bs,1,hs)\n",
    "        \n",
    "        input_x=input_x.expand(input_x.size(0),feature.size(1))\n",
    "        #(bs,fs)\n",
    "        rnn_input=input_x*feature\n",
    "        #(bs,hs)(bs,hs)\n",
    "        hidden,output = self.rnnc(rnn_input, hidden)\n",
    "        #(bs,hs)\n",
    "#         hidden = output\n",
    "        #(bs,1)\n",
    "        output = torch.sum(feature*output,1,keepdim=True)\n",
    "        #(bs,1,1)\n",
    "#         output = torch.sigmoid(output)\n",
    "         #(bs,1),(bs,hs)\n",
    "        return output, hidden\n",
    "\n",
    "    def initHidden(self,b_size):\n",
    "        \n",
    "#         nn.init.xavier_normal_(self.out)\n",
    "        paras= torch.sigmoid(nn.init.xavier_normal_(torch.empty(b_size,self.hidden_size))).cuda() if use_cuda else \\\n",
    "                torch.sigmoid(nn.init.xavier_normal_(torch.empty(b_size,self.hidden_size)))\n",
    "        return paras\n",
    "\n",
    "class DecoderRNN(nn.Module):\n",
    "    def __init__(self, input_size, output_size):\n",
    "        super(DecoderRNN, self).__init__()\n",
    "\n",
    "        self.linear=nn.Linear(input_size,output_size,bias=False)\n",
    "    def forward(self, input_x):\n",
    "        #batchsize: bs\n",
    "        #input size:is\n",
    "        #output size: os\n",
    "        \n",
    "        #input_x:(bs,is)\n",
    "        #(bs,os)\n",
    "        output=self.linear(input_x)\n",
    "        return output\n",
    "\n",
    "def train(input_variable, input_feature, target_variable, target_feature, encoder, decoder, encoder_optimizer, \\\n",
    "          decoder_optimizer, criterion):\n",
    "    encoder.train()\n",
    "    decoder.train()\n",
    "    encoder_hidden = encoder.initHidden(input_variable.size(0))\n",
    "\n",
    "    encoder_optimizer.zero_grad()\n",
    "    decoder_optimizer.zero_grad()\n",
    "\n",
    "    input_length = input_variable.size()[1]\n",
    "    target_length = target_variable.size()[1]\n",
    "    \n",
    "#     encoder_outputs = torch.zeros(input_length, encoder.hidden_size)\n",
    "#     encoder_outputs = encoder_outputs.cuda() if use_cuda else encoder_outputs\n",
    "   \n",
    "    loss_encoding = 0\n",
    "\n",
    "    for ei in range(input_length-1):\n",
    "\n",
    "        encoder_output, encoder_hidden = encoder(\n",
    "            input_variable[:,ei,:],input_feature[:,ei,:], encoder_hidden)\n",
    "        loss_encoding += criterion(encoder_output.squeeze(),input_variable[:,ei+1,:].squeeze())\n",
    "#         encoder_outputs[ei] = encoder_output[0,0,:]\n",
    "#     print('-'*90)\n",
    "#     print('pred')\n",
    "#     print(encoder_output.size())\n",
    "#     print(encoder_output)\n",
    "#     print('target')\n",
    "#     print(input_variable[:,ei+1:(ei+2),:].size())\n",
    "#     print(input_variable[:,ei+1:(ei+2),:])\n",
    "#     print(criterion(encoder_output.squeeze(),input_variable[:,ei+1:(ei+2),:].squeeze()))\n",
    "#     print('-'*90)\n",
    "    #get the first prediction\n",
    "    encoder_output, encoder_hidden = encoder(input_variable[:,ei+1,:],input_feature[:,ei+1,:],\\\n",
    "                                             encoder_hidden)\n",
    "    decoder_input = encoder_output\n",
    "    decoder_input = decoder_input.cuda() if use_cuda else decoder_input\n",
    "    \n",
    "    \n",
    "    decoder_output = decoder(encoder_hidden)\n",
    "\n",
    "    loss_decoding = criterion(decoder_output.squeeze(), target_variable.squeeze())\n",
    "#     loss=loss_encoding+loss_decoding\n",
    "    loss=loss_decoding\n",
    "    loss.backward()\n",
    "\n",
    "    encoder_optimizer.step()\n",
    "    decoder_optimizer.step()\n",
    "\n",
    "    return ((loss_encoding.item() / (input_length-1)),(loss_decoding.item()))"
   ]
  },
  {
   "cell_type": "code",
   "execution_count": 136,
   "metadata": {
    "collapsed": true
   },
   "outputs": [],
   "source": [
    "def valid(input_variable, input_feature, target_variable, target_feature, encoder, decoder, criterion):\n",
    "    encoder.eval()\n",
    "    decoder.eval()\n",
    "    encoder_hidden = encoder.initHidden(input_variable.size(0))\n",
    "    \n",
    "    input_length = input_variable.size()[1]\n",
    "    target_length = target_variable.size()[1]\n",
    "#     print(target_length)\n",
    "    \n",
    "    loss = 0\n",
    "    encoder_outputs=[]\n",
    "    for ei in range(input_length):\n",
    "\n",
    "        encoder_output, encoder_hidden = encoder(\n",
    "            input_variable[:,ei,:],input_feature[:,ei,:], encoder_hidden)\n",
    "        encoder_outputs.append(encoder_output.squeeze().detach().cpu().numpy())\n",
    "#     print(encoder_hidden[0,20:25])\n",
    "#     decoder_output = decoder(encoder_hidden)\n",
    "    decoder_output = encoder_hidden[:,-63:]\n",
    "    \n",
    "    outputs=decoder_output.detach().cpu().numpy()\n",
    "    loss_decoding = criterion(decoder_output.squeeze(), target_variable.squeeze())\n",
    "#     loss=loss_encoding+loss_decoding\n",
    "    loss=loss_decoding\n",
    "\n",
    "\n",
    "    return (loss.item(),np.array(outputs),np.array(encoder_outputs).T)"
   ]
  },
  {
   "cell_type": "code",
   "execution_count": 137,
   "metadata": {},
   "outputs": [
    {
     "name": "stdout",
     "output_type": "stream",
     "text": [
      "389\r"
     ]
    }
   ],
   "source": [
    "preds,targets,scores,es=valid_iter(test_x,test_y)"
   ]
  },
  {
   "cell_type": "code",
   "execution_count": 140,
   "metadata": {},
   "outputs": [
    {
     "data": {
      "image/png": "[encoded data removed]",
      "text/plain": [
       "<matplotlib.figure.Figure at 0x7f914c1e4e80>"
      ]
     },
     "metadata": {},
     "output_type": "display_data"
    }
   ],
   "source": [
    "for i in range(50):\n",
    "    plt.plot(preds[i])\n",
    "#     plt.plot(targets[i][:21])\n",
    "#     plt.plot(preds[213])"
   ]
  },
  {
   "cell_type": "code",
   "execution_count": 141,
   "metadata": {},
   "outputs": [
    {
     "data": {
      "text/plain": [
       "52"
      ]
     },
     "execution_count": 141,
     "metadata": {},
     "output_type": "execute_result"
    }
   ],
   "source": [
    "150-98"
   ]
  },
  {
   "cell_type": "code",
   "execution_count": 142,
   "metadata": {},
   "outputs": [
    {
     "data": {
      "text/plain": [
       "35"
      ]
     },
     "execution_count": 142,
     "metadata": {},
     "output_type": "execute_result"
    }
   ],
   "source": [
    "98-63"
   ]
  }
 ],
 "metadata": {
  "kernelspec": {
   "display_name": "Python 3",
   "language": "python",
   "name": "python3"
  },
  "language_info": {
   "codemirror_mode": {
    "name": "ipython",
    "version": 3
   },
   "file_extension": ".py",
   "mimetype": "text/x-python",
   "name": "python",
   "nbconvert_exporter": "python",
   "pygments_lexer": "ipython3",
   "version": "3.6.3"
  }
 },
 "nbformat": 4,
 "nbformat_minor": 2
}
