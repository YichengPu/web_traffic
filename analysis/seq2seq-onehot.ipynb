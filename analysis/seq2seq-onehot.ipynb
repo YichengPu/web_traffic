{
 "cells": [
  {
   "cell_type": "code",
   "execution_count": 2,
   "metadata": {
    "collapsed": true
   },
   "outputs": [],
   "source": [
    "import pandas as pd\n",
    "import numpy as np\n",
    "from matplotlib import pyplot as plt\n",
    "from sklearn import datasets, linear_model\n",
    "from sklearn.metrics import mean_squared_error, r2_score\n",
    "from sklearn.metrics import mean_squared_error\n",
    "from util.evaluation import SMAPE\n",
    "%matplotlib inline\n",
    "\n",
    "traffic=pd.read_csv('../data/cl_traffic.csv')\n",
    "\n",
    "traffic=traffic.fillna(0)\n",
    "\n",
    "traffic.head()\n",
    "\n",
    "sample_index=np.random.choice(traffic.index,4000,replace=False)\n",
    "sample_series=[]\n",
    "for u in sample_index:\n",
    "#     print('Training...|| {:.2f}'.format(u/tot_len*100)+'%',end='\\r')\n",
    "    sample_series.append(traffic.loc[u][:-4].values)\n",
    "\n",
    "def diff(x,epsilon=1e-3):\n",
    "    return((x[1:]-x[:-1])/(x[:-1]+epsilon))\n"
   ]
  },
  {
   "cell_type": "markdown",
   "metadata": {},
   "source": [
    "## prepare training and testing data"
   ]
  },
  {
   "cell_type": "code",
   "execution_count": 3,
   "metadata": {
    "collapsed": true
   },
   "outputs": [],
   "source": [
    "def split_and_clean(sample_series,train_start,train_end,test_len):\n",
    "    clean_series=[]\n",
    "    test_series=[]\n",
    "    for index in range(len(sample_series)):\n",
    "        c=np.array(sample_series[index][train_start:train_end])\n",
    "        test_series.append(sample_series[index][train_end:(train_end+test_len)])\n",
    "        std=np.std(c)\n",
    "        mean=np.mean(c)\n",
    "        c[(c-np.mean(c))>2*std]=mean+2*std\n",
    "        c[(c-np.mean(c))<-2*std]=mean-2*std\n",
    "        clean_series.append(c)\n",
    "    return (clean_series,test_series)"
   ]
  },
  {
   "cell_type": "code",
   "execution_count": 4,
   "metadata": {
    "collapsed": true
   },
   "outputs": [],
   "source": [
    "\n",
    "def normalize_X(clean_series):\n",
    "    recover_dic={}\n",
    "    scaled_series=[]\n",
    "    for i in range(len(clean_series)):\n",
    "        if np.sum(clean_series[i])==0:\n",
    "            scaled_series.append(np.zeros_like(clean_series[i]))\n",
    "            recover_dic[i]=(0,0)\n",
    "        else:\n",
    "            std=np.std(clean_series[i])\n",
    "            biased_mean=np.mean(clean_series[i])-3*std\n",
    "\n",
    "            recover_dic[i]=(std,biased_mean)\n",
    "            new_series=clean_series[i]-biased_mean\n",
    "            new_series[new_series<0]=0\n",
    "            new_series=new_series/(6*std)\n",
    "            new_series[new_series>1]=1\n",
    "            scaled_series.append(new_series)\n",
    "    return (scaled_series,recover_dic)\n",
    "\n",
    "\n",
    "def normalize_Y(clean_series,recover_dic):\n",
    "    scaled_series=[]\n",
    "    for i in range(len(clean_series)):\n",
    "        (std,biased_mean) = recover_dic[i]\n",
    "        \n",
    "        if std==0:\n",
    "            # ignore all zero cases\n",
    "#             print(clean_series[i])\n",
    "            scaled_series.append(np.zeros_like(clean_series[i]))\n",
    "\n",
    "        else:\n",
    "            \n",
    "\n",
    "            new_series=clean_series[i]-biased_mean\n",
    "            new_series[new_series<0]=0\n",
    "            new_series=new_series/(6*std)\n",
    "            new_series[new_series>1]=1\n",
    "            scaled_series.append(new_series)\n",
    "    return (scaled_series)\n",
    "\n",
    "def recover(scaled_series,recover_dic):\n",
    "    recovered_series=[]\n",
    "    for i in range(len(scaled_series)):\n",
    "        std,biased_mean=recover_dic[i]\n",
    "        new_series=scaled_series[i]*(6*float(std))+biased_mean\n",
    "        recovered_series.append(new_series)\n",
    "    return recovered_series"
   ]
  },
  {
   "cell_type": "code",
   "execution_count": 5,
   "metadata": {
    "collapsed": true
   },
   "outputs": [],
   "source": [
    "# encode_start=0\n",
    "# encode_end=150\n",
    "# decode_len=63\n",
    "\n",
    "# clean_series,decode_series = split_and_clean(sample_series,encode_start,encode_end,decode_len)\n",
    "\n",
    "\n",
    "# train_x=clean_series\n",
    "# train_y=decode_series\n",
    "\n",
    "# encode_start=200\n",
    "# encode_end=350\n",
    "# decode_len=63\n",
    "\n",
    "\n",
    "# clean_series,decode_series = split_and_clean(sample_series,encode_start,encode_end,decode_len)\n",
    "\n",
    "# test_x=clean_series\n",
    "# test_y=decode_series"
   ]
  },
  {
   "cell_type": "code",
   "execution_count": 6,
   "metadata": {
    "collapsed": true
   },
   "outputs": [],
   "source": [
    "encode_start=0\n",
    "encode_end=150\n",
    "decode_len=63\n",
    "\n",
    "clean_series,decode_series = split_and_clean(sample_series,encode_start,encode_end,decode_len)\n",
    "train_x,train_dic = normalize_X(clean_series)\n",
    "train_y = normalize_Y(decode_series,train_dic)\n",
    "\n",
    "\n",
    "encode_start=200\n",
    "encode_end=350\n",
    "decode_len=63\n",
    "\n",
    "PERIOD=7\n",
    "\n",
    "clean_series,decode_series = split_and_clean(sample_series,encode_start,encode_end,decode_len)\n",
    "\n",
    "test_x,test_dic = normalize_X(clean_series)\n",
    "test_y = normalize_Y(decode_series,test_dic)"
   ]
  },
  {
   "cell_type": "code",
   "execution_count": 7,
   "metadata": {
    "collapsed": true
   },
   "outputs": [],
   "source": [
    "# train_x[0]"
   ]
  },
  {
   "cell_type": "code",
   "execution_count": 8,
   "metadata": {
    "collapsed": true
   },
   "outputs": [],
   "source": [
    "def make_one_hots(length,last_pointer=-1):\n",
    "    pointer=(last_pointer+1) % PERIOD\n",
    "#     print(pointer)\n",
    "    one_hots=[]\n",
    "    one_hot_temp=np.zeros(PERIOD)\n",
    "    for i in range(length):\n",
    "        one_hot=one_hot_temp.copy()\n",
    "        one_hot[pointer]=1\n",
    "        one_hots.append(one_hot)\n",
    "        pointer+=1\n",
    "        pointer=pointer % PERIOD\n",
    "    return np.array(one_hots)"
   ]
  },
  {
   "cell_type": "code",
   "execution_count": null,
   "metadata": {
    "collapsed": true
   },
   "outputs": [],
   "source": []
  },
  {
   "cell_type": "code",
   "execution_count": 9,
   "metadata": {},
   "outputs": [],
   "source": [
    "# trainx=X_loader(train_x,batch_size)\n",
    "\n",
    "# a,b=next(trainx)\n",
    "\n",
    "# a.size()\n"
   ]
  },
  {
   "cell_type": "code",
   "execution_count": 10,
   "metadata": {
    "collapsed": true
   },
   "outputs": [],
   "source": [
    "# b[:,2:3,:],b[:,2:3,:]"
   ]
  },
  {
   "cell_type": "code",
   "execution_count": 11,
   "metadata": {
    "collapsed": true
   },
   "outputs": [],
   "source": [
    "# b[:,2:3,:]*b[:,2:3,:]"
   ]
  },
  {
   "cell_type": "code",
   "execution_count": 166,
   "metadata": {
    "collapsed": true
   },
   "outputs": [],
   "source": [
    "def X_loader(x,batchsize):\n",
    "    batch=0\n",
    "    x=np.array(x,dtype=np.float32)\n",
    "#     x=np.log(x+1)\n",
    "    one_hots=make_one_hots(len(x[0]))\n",
    "    \n",
    "    while batch<(len(x) // batchsize):\n",
    "        \n",
    "        data=x[batch*batchsize:(batch+1)*batchsize,:]\n",
    "        tensor=torch.FloatTensor(np.array(data, dtype=float))\n",
    "        tensor=tensor.unsqueeze(2).cuda()\n",
    "        \n",
    "        feature=torch.FloatTensor(np.array(one_hots)).unsqueeze(0)\n",
    "        feature=feature.expand((batchsize,feature.size()[1],feature.size()[2])).cuda()\n",
    "        \n",
    "        yield(tensor,feature)\n",
    "        batch+=1"
   ]
  },
  {
   "cell_type": "code",
   "execution_count": 167,
   "metadata": {
    "collapsed": true
   },
   "outputs": [],
   "source": [
    "\n",
    "def Y_loader(y,batchsize,length_x):\n",
    "    batch=0\n",
    "    y=np.array(y,dtype=np.float32)\n",
    "#     y=np.log(y+1)\n",
    "    last_pointer=length_x % PERIOD - 1\n",
    "    one_hots=make_one_hots(len(y[0]),last_pointer)\n",
    "    while batch<(len(y) // batchsize):\n",
    "        \n",
    "        data=y[batch*batchsize:(batch+1)*batchsize,:]\n",
    "        tensor=torch.FloatTensor(np.array(data, dtype=float))\n",
    "        tensor=tensor.unsqueeze(2).cuda()\n",
    "\n",
    "        feature=torch.FloatTensor(np.array(one_hots)).unsqueeze(0)\n",
    "        feature=feature.expand((batchsize,feature.size()[1],feature.size()[2])).cuda()\n",
    "        \n",
    "        yield(tensor,feature)\n",
    "        batch+=1"
   ]
  },
  {
   "cell_type": "code",
   "execution_count": 14,
   "metadata": {
    "collapsed": true
   },
   "outputs": [],
   "source": [
    "import torch\n",
    "import torch.nn as nn\n"
   ]
  },
  {
   "cell_type": "code",
   "execution_count": 97,
   "metadata": {},
   "outputs": [],
   "source": [
    "# for name, param in decoder.named_parameters():\n",
    "#     if param.requires_grad:\n",
    "#         print (name, param.data)"
   ]
  },
  {
   "cell_type": "code",
   "execution_count": 16,
   "metadata": {
    "collapsed": true
   },
   "outputs": [],
   "source": [
    "def SMAPE(true,predicted):\n",
    "    true=true.squeeze()\n",
    "    predicted=predicted.squeeze()\n",
    "#     true=torch.exp(true)-1\n",
    "#     predicted=torch.exp(predicted)-1\n",
    "    epsilon = 0.1\n",
    "    summ = torch.abs(true) + torch.abs(predicted) + epsilon\n",
    "    smape = torch.abs(predicted - true) / summ * 2.0\n",
    "    return torch.mean(smape)"
   ]
  },
  {
   "cell_type": "code",
   "execution_count": 139,
   "metadata": {
    "collapsed": true
   },
   "outputs": [],
   "source": [
    "from torch import optim\n",
    "from numpy import random as random\n",
    "epoch=10\n",
    "indicator=5\n",
    "\n",
    "# optimizer = optim.RMSprop(model.parameters(), lr=0.001, alpha=0.99, \\\n",
    "#     eps=1e-08, weight_decay=0, momentum=0, centered=False)\n",
    "# optimizer = torch.optim.SGD(model.parameters(), lr=0.01, momentum=0)\n",
    "input_size=PERIOD\n",
    "hidden_size=PERIOD\n",
    "output_size=1\n",
    "lr=0.01\n",
    "batch_size=128\n",
    "encoder=EncoderRNN(input_size,hidden_size,output_size).cuda() if use_cuda else EncoderRNN(1,hidden_size)\n",
    "decoder=DecoderRNN(input_size,hidden_size,output_size).cuda() if use_cuda else DecoderRNN(1,hidden_size)\n",
    "teacher_forcing_ratio = 1\n",
    "encoder_optimizer = optim.SGD(encoder.parameters(), lr=lr)\n",
    "decoder_optimizer = optim.SGD(decoder.parameters(), lr=lr)"
   ]
  },
  {
   "cell_type": "code",
   "execution_count": null,
   "metadata": {
    "collapsed": true
   },
   "outputs": [],
   "source": [
    "ps,_,score = valid_iter(test_x, test_y)\n",
    "for kk in range(12):\n",
    "    plt.plot(ps[kk][:21])\n",
    "    plt.title('epoch '+str(0))\n",
    "plt.show()\n",
    "print(\"Validation! Epoch: {}; Loss: {}\\n\".format(i, np.mean(score)))\n",
    "for i in range(epoch):\n",
    "    \n",
    "    trainx=X_loader(train_x,batch_size)\n",
    "    trainy=Y_loader(train_y,batch_size,len(train_x[0]))\n",
    "    \n",
    "    running_loss_e = 0.0\n",
    "    running_loss_d = 0.0\n",
    "#     validation(test_x,test_y)\n",
    "    for j,(X_batch,x_feature) in enumerate(trainx):\n",
    "        #Parse loaded batch\n",
    "        x=X_batch\n",
    "        y,y_feature=next(trainy)\n",
    "        \n",
    "        e_loss,d_loss=train(x, x_feature, y, y_feature, encoder, decoder, encoder_optimizer, \\\n",
    "                  decoder_optimizer, SMAPE)\n",
    "        running_loss_e += e_loss\n",
    "        running_loss_d += d_loss\n",
    "        if (j>0) and (j % indicator == 0):\n",
    "            print(\"Epoch: {}; iterations: {}; encoding Loss: {};decoding Loss: {}\\n\".format(i, j, \\\n",
    "                                running_loss_e / indicator,running_loss_d / indicator))\n",
    "            running_loss_e = 0.0\n",
    "            running_loss_d = 0.0\n",
    "        \n",
    "    ps,_,score = valid_iter(test_x, test_y)\n",
    "    for kk in range(12):\n",
    "        plt.plot(ps[kk][:21])\n",
    "        plt.title('epoch '+str(i))\n",
    "    plt.show()\n",
    "    print(\"Validation! Epoch: {}; Loss: {}\\n\".format(i, np.mean(score)))"
   ]
  },
  {
   "cell_type": "code",
   "execution_count": 170,
   "metadata": {
    "scrolled": true
   },
   "outputs": [],
   "source": [
    "preds,targets,scores=valid_iter(test_x,test_y)"
   ]
  },
  {
   "cell_type": "code",
   "execution_count": 354,
   "metadata": {
    "collapsed": true
   },
   "outputs": [],
   "source": [
    "# scores"
   ]
  },
  {
   "cell_type": "code",
   "execution_count": 374,
   "metadata": {
    "collapsed": true
   },
   "outputs": [],
   "source": [
    "testx=X_loader(test_x,batchsize=128)\n",
    "testy=Y_loader(test_y,batchsize=128,length_x=len(test_x[0]))\n"
   ]
  },
  {
   "cell_type": "code",
   "execution_count": 375,
   "metadata": {
    "collapsed": true
   },
   "outputs": [],
   "source": [
    "a=next(testx)\n",
    "b=next(testy)"
   ]
  },
  {
   "cell_type": "code",
   "execution_count": 297,
   "metadata": {},
   "outputs": [
    {
     "data": {
      "text/plain": [
       "tensor([[ 1.,  0.,  0.,  0.,  0.,  0.,  0.],\n",
       "        [ 0.,  1.,  0.,  0.,  0.,  0.,  0.],\n",
       "        [ 0.,  0.,  1.,  0.,  0.,  0.,  0.]], device='cuda:0')"
      ]
     },
     "execution_count": 297,
     "metadata": {},
     "output_type": "execute_result"
    }
   ],
   "source": [
    "a[1][0,-3:,:]"
   ]
  },
  {
   "cell_type": "code",
   "execution_count": 300,
   "metadata": {},
   "outputs": [
    {
     "data": {
      "text/plain": [
       "tensor([[ 0.,  0.,  0.,  1.,  0.,  0.,  0.],\n",
       "        [ 0.,  0.,  0.,  0.,  1.,  0.,  0.],\n",
       "        [ 0.,  0.,  0.,  0.,  0.,  1.,  0.],\n",
       "        [ 0.,  0.,  0.,  0.,  0.,  0.,  1.],\n",
       "        [ 1.,  0.,  0.,  0.,  0.,  0.,  0.]], device='cuda:0')"
      ]
     },
     "execution_count": 300,
     "metadata": {},
     "output_type": "execute_result"
    }
   ],
   "source": [
    "b[1][0,:5,:]"
   ]
  },
  {
   "cell_type": "code",
   "execution_count": 32,
   "metadata": {},
   "outputs": [
    {
     "data": {
      "text/plain": [
       "array([[0.45962387, 0.46120766, 0.44457787, ..., 0.46569508, 0.4678068 ,\n",
       "        0.4564563 ],\n",
       "       [0.46780175, 1.        , 0.6438196 , ..., 0.46780175, 0.46396485,\n",
       "        0.44717842],\n",
       "       [0.27315187, 0.27315187, 0.3995788 , ..., 0.33636534, 0.27315187,\n",
       "        0.20993839],\n",
       "       ...,\n",
       "       [0.45992765, 0.55347604, 0.7405727 , ..., 0.5690674 , 0.64702433,\n",
       "        0.5690674 ],\n",
       "       [0.4457808 , 0.39468357, 0.4457808 , ..., 0.5479753 , 0.39468357,\n",
       "        0.4457808 ],\n",
       "       [0.45295188, 0.3764918 , 0.2982274 , ..., 0.3503285 , 0.3861903 ,\n",
       "        0.4058128 ]], dtype=float32)"
      ]
     },
     "execution_count": 32,
     "metadata": {},
     "output_type": "execute_result"
    }
   ],
   "source": [
    "targets[:,:8]"
   ]
  },
  {
   "cell_type": "code",
   "execution_count": 53,
   "metadata": {},
   "outputs": [
    {
     "name": "stdout",
     "output_type": "stream",
     "text": [
      "[0.4625609  0.4650167  0.48490563 0.4969792  0.48225525 0.46983668\n",
      " 0.44968173]\n",
      "[0.46981913 0.4675432  0.48287112 0.5045009  0.4765608  0.47131458\n",
      " 0.45077667]\n",
      "[0.46534857 0.46371442 0.48832187 0.48896626 0.49272898 0.46809736\n",
      " 0.44723588]\n",
      "[0.47715044 0.47743595 0.48780122 0.49817663 0.49000221 0.4742357\n",
      " 0.4533793 ]\n",
      "[0.47023752 0.46773112 0.48893484 0.48748514 0.4956476  0.46753216\n",
      " 0.44801694]\n",
      "[0.44010922 0.4455972  0.48036146 0.49620527 0.47142228 0.4698532\n",
      " 0.44440943]\n",
      "[0.45201126 0.45556444 0.48241627 0.49377954 0.47940314 0.4688998\n",
      " 0.4466435 ]\n",
      "[0.46548054 0.46175003 0.48312938 0.49421656 0.4827358  0.46599594\n",
      " 0.4475361 ]\n",
      "[0.45630333 0.45852903 0.4835073  0.49506247 0.48062342 0.46961865\n",
      " 0.44749945]\n",
      "[0.44509935 0.45042163 0.47966382 0.49400672 0.4746838  0.4680031\n",
      " 0.44557023]\n",
      "[0.45597097 0.45653915 0.48196507 0.5051703  0.47040662 0.47173277\n",
      " 0.44864637]\n",
      "[0.4413083  0.44716394 0.48088086 0.495791   0.47265777 0.46964917\n",
      " 0.44509202]\n"
     ]
    }
   ],
   "source": [
    "for i in range(488,500):\n",
    "    print(preds[i,-7:])"
   ]
  },
  {
   "cell_type": "code",
   "execution_count": 52,
   "metadata": {},
   "outputs": [
    {
     "data": {
      "text/plain": [
       "array([0.48543492, 0.48291636, 0.48291636, 0.48291636, 0.48291636,\n",
       "       0.48291636, 0.48291636, 0.48291636, 0.48291636], dtype=float32)"
      ]
     },
     "execution_count": 52,
     "metadata": {},
     "output_type": "execute_result"
    }
   ],
   "source": [
    "preds[1656,2::7]"
   ]
  },
  {
   "cell_type": "code",
   "execution_count": 97,
   "metadata": {
    "collapsed": true
   },
   "outputs": [],
   "source": [
    "# from util.evaluation import SMAPE as cpu_SMAPE\n",
    "# scores=[]\n",
    "# for (t,p) in zip(truth,pred):\n",
    "#     scores.append(cpu_SMAPE(t,p))"
   ]
  },
  {
   "cell_type": "code",
   "execution_count": 98,
   "metadata": {
    "collapsed": true
   },
   "outputs": [],
   "source": [
    "# np.mean(scores)"
   ]
  },
  {
   "cell_type": "code",
   "execution_count": 27,
   "metadata": {
    "collapsed": true
   },
   "outputs": [],
   "source": [
    "preds=recover(preds,test_dic)\n",
    "recovered_test_x=recover(test_x,test_dic)\n",
    "targets=recover(targets,test_dic)"
   ]
  },
  {
   "cell_type": "code",
   "execution_count": 28,
   "metadata": {},
   "outputs": [
    {
     "data": {
      "text/plain": [
       "0.5278594826010706"
      ]
     },
     "execution_count": 28,
     "metadata": {},
     "output_type": "execute_result"
    }
   ],
   "source": [
    "from util.evaluation import SMAPE as cpu_SMAPE\n",
    "mean_scores=[]\n",
    "\n",
    "\n",
    "for ID in range(40):\n",
    "\n",
    "    pred=preds[ID]\n",
    "    truth=targets[ID]\n",
    "    scores=[]\n",
    "    for (t,p) in zip(truth,pred):\n",
    "        scores.append(cpu_SMAPE(t,p))\n",
    "\n",
    "    mean_scores.append(np.mean(scores))\n",
    "np.mean(mean_scores)"
   ]
  },
  {
   "cell_type": "code",
   "execution_count": 29,
   "metadata": {},
   "outputs": [
    {
     "name": "stdout",
     "output_type": "stream",
     "text": [
      "[1554.5007 1518.6458 1547.2925 1575.2622 1523.6785 1519.0684 1461.9541\n",
      " 1464.6715 1477.5975 1541.8481 1575.1504 1523.6643 1519.0662 1461.953\n",
      " 1464.6714 1477.5974 1541.8481 1575.1504 1523.6643 1519.0662 1461.953\n",
      " 1464.6714 1477.5974 1541.8481 1575.1504 1523.6643 1519.0662 1461.953\n",
      " 1464.6714 1477.5974 1541.8481 1575.1504 1523.6643 1519.0662 1461.953\n",
      " 1464.6714 1477.5974 1541.8481 1575.1504 1523.6643 1519.0662 1461.953\n",
      " 1464.6714 1477.5974 1541.8481 1575.1504 1523.6643 1519.0662 1461.953\n",
      " 1464.6714 1477.5974 1541.8481 1575.1504 1523.6643 1519.0662 1461.953\n",
      " 1464.6714 1477.5974 1541.8481 1575.1504 1523.6643 1519.0662 1461.953 ]\n"
     ]
    },
    {
     "data": {
      "text/plain": [
       "<matplotlib.legend.Legend at 0x7f80d84a0e10>"
      ]
     },
     "execution_count": 29,
     "metadata": {},
     "output_type": "execute_result"
    },
    {
     "data": {
      "image/png": "[encoded data removed]",
      "text/plain": [
       "<matplotlib.figure.Figure at 0x7f80e6211978>"
      ]
     },
     "metadata": {},
     "output_type": "display_data"
    }
   ],
   "source": [
    "ID=13\n",
    "# source=sample_series[ID][encode_start:encode_end]\n",
    "source=recovered_test_x[ID]\n",
    "pred=preds[ID]\n",
    "truth=targets[ID]\n",
    "print(pred)\n",
    "# for i in range(10):\n",
    "plt.figure()\n",
    "plt.plot(np.arange(encode_start,encode_end),source,color='g',label='history')\n",
    "plt.plot(np.arange(encode_end,encode_end+decode_len),pred,color='r',label='prediction')\n",
    "plt.plot(np.arange(encode_end,encode_end+decode_len),truth,color='b',label='truth')\n",
    "plt.legend()"
   ]
  },
  {
   "cell_type": "code",
   "execution_count": 61,
   "metadata": {
    "collapsed": true
   },
   "outputs": [],
   "source": [
    "def valid_iter(test_x,test_y):\n",
    "    testx=X_loader(test_x,batchsize=128)\n",
    "    testy=Y_loader(test_y,batchsize=128,length_x=len(test_x[0]))\n",
    "\n",
    "    preds=[]\n",
    "    targets=[]\n",
    "\n",
    "    scores=[]\n",
    "    for j,(X_batch,x_feature) in enumerate(testx):\n",
    "        #Parse loaded batch\n",
    "        print(j,end='\\r')\n",
    "        target,y_feature=next(testy)\n",
    "\n",
    "    \n",
    "        score,out = valid(X_batch,x_feature, target,y_feature, encoder, decoder, SMAPE)\n",
    "        out=out.T\n",
    "        scores.append(score)\n",
    "        target=target.squeeze().detach().cpu().numpy()\n",
    "        if j ==0:\n",
    "            preds=out\n",
    "            targets=target\n",
    "        else:\n",
    "            preds=np.concatenate((preds,out),axis=0)\n",
    "#             print(preds.shape)\n",
    "            targets=np.concatenate((targets,target),axis=0)\n",
    "    return (preds,targets,scores)"
   ]
  },
  {
   "cell_type": "code",
   "execution_count": 369,
   "metadata": {},
   "outputs": [
    {
     "data": {
      "text/plain": [
       "0.5"
      ]
     },
     "execution_count": 369,
     "metadata": {},
     "output_type": "execute_result"
    }
   ],
   "source": [
    "# preds\n",
    "import numpy\n",
    "\n",
    "def sigmoid(x):\n",
    "    return 1 / (1 + numpy.exp(-x))\n",
    "sigmoid(0.)"
   ]
  },
  {
   "cell_type": "code",
   "execution_count": 368,
   "metadata": {},
   "outputs": [
    {
     "data": {
      "text/plain": [
       "0.6456563062257954"
      ]
     },
     "execution_count": 368,
     "metadata": {},
     "output_type": "execute_result"
    }
   ],
   "source": [
    "sigmoid(0.6)"
   ]
  },
  {
   "cell_type": "code",
   "execution_count": 120,
   "metadata": {
    "collapsed": true
   },
   "outputs": [],
   "source": [
    "use_cuda=True\n",
    "class EncoderRNN(nn.Module):\n",
    "    def __init__(self, input_size, hidden_size,output_size):\n",
    "        super(EncoderRNN, self).__init__()\n",
    "\n",
    "        self.hidden_size = hidden_size\n",
    "        self.gru = nn.GRU(input_size, hidden_size, batch_first=True, bidirectional=False)\n",
    "#         self.out = nn.Linear(hidden_size, output_size)\n",
    "    def forward(self, input_x,feature, hidden):\n",
    "        #batchsize: bs\n",
    "        #feature size: fs\n",
    "        #hidden_size: hs(=bs)\n",
    "        #input_x:(bs,1,1)\n",
    "        #feature:(bs,1,fs)\n",
    "        #hidden:(bs,1,hs)\n",
    "        gru_input=torch.matmul(input_x,feature)\n",
    "        #(bs,1,fs)\n",
    "        output, hidden = self.gru(gru_input, hidden)\n",
    "        #(bs,1,hs),(bs,1,hs)\n",
    "        output = torch.sum(feature*output,2,keepdim=True)\n",
    "        #(bs,1,1)\n",
    "#         output = torch.sigmoid(output)\n",
    "         #(bs,1,hs),(bs,1,hs)\n",
    "        return output, hidden\n",
    "\n",
    "    def initHidden(self,b_size):\n",
    "        \n",
    "#         nn.init.xavier_normal_(self.out)\n",
    "        paras= nn.init.xavier_normal_(torch.empty(1,b_size,self.hidden_size)).cuda() if use_cuda else \\\n",
    "                nn.init.xavier_normal_(torch.empty(1,b_size,self.hidden_size))\n",
    "        return paras\n",
    "\n",
    "class DecoderRNN(nn.Module):\n",
    "    def __init__(self, input_size,hidden_size, output_size):\n",
    "        super(DecoderRNN, self).__init__()\n",
    "        self.hidden_size = hidden_size\n",
    "        self.gru = nn.GRU(input_size, hidden_size, batch_first=True, bidirectional=False)\n",
    "        self.out = nn.Linear(hidden_size, output_size)\n",
    "\n",
    "\n",
    "    def forward(self, input_x,feature, hidden):\n",
    "        #batchsize: bs\n",
    "        #feature size: fs\n",
    "        #hidden_size: hs(=bs)\n",
    "        #input_x:(bs,1,1)\n",
    "        #feature:(bs,1,fs)\n",
    "        #hidden:(bs,1,hs)\n",
    "        gru_input=torch.matmul(input_x,feature)\n",
    "        #(bs,1,fs)\n",
    "\n",
    "        output, hidden = self.gru(gru_input, hidden)\n",
    "        #(bs,1,hs),(bs,1,hs)\n",
    "        output = torch.sum(feature*output,2,keepdim=True)\n",
    "\n",
    "        #(bs,1,1)\n",
    "#         output = torch.sigmoid(output)\n",
    "         #(bs,1,hs),(bs,1,hs)\n",
    "        return output, hidden\n",
    "    def initHidden(self):\n",
    "        paras= nn.init.xavier_normal_(torch.empty(1,1,self.hidden_size)).cuda() if use_cuda else \\\n",
    "                nn.init.xavier_normal_(torch.empty(1,1,self.hidden_size))\n",
    "        return paras\n",
    "\n",
    "\n",
    "\n",
    "def train(input_variable, input_feature, target_variable, target_feature, encoder, decoder, encoder_optimizer, \\\n",
    "          decoder_optimizer, criterion):\n",
    "    encoder.train()\n",
    "    decoder.train()\n",
    "    encoder_hidden = encoder.initHidden(input_variable.size(0))\n",
    "\n",
    "    encoder_optimizer.zero_grad()\n",
    "    decoder_optimizer.zero_grad()\n",
    "\n",
    "    input_length = input_variable.size()[1]\n",
    "    target_length = target_variable.size()[1]\n",
    "    \n",
    "    encoder_outputs = torch.zeros(input_length, encoder.hidden_size)\n",
    "    encoder_outputs = encoder_outputs.cuda() if use_cuda else encoder_outputs\n",
    "   \n",
    "    loss_encoding = 0\n",
    "\n",
    "    for ei in range(input_length-1):\n",
    "\n",
    "        encoder_output, encoder_hidden = encoder(\n",
    "            input_variable[:,ei:(ei+1),:],input_feature[:,ei:(ei+1),:], encoder_hidden)\n",
    "        loss_encoding += criterion(encoder_output.squeeze(),input_variable[:,ei+1:(ei+2),:].squeeze())\n",
    "        encoder_outputs[ei] = encoder_output[0,0,:]\n",
    "#     print('-'*90)\n",
    "#     print('pred')\n",
    "#     print(encoder_output.size())\n",
    "#     print(encoder_output)\n",
    "#     print('target')\n",
    "#     print(input_variable[:,ei+1:(ei+2),:].size())\n",
    "#     print(input_variable[:,ei+1:(ei+2),:])\n",
    "#     print(criterion(encoder_output.squeeze(),input_variable[:,ei+1:(ei+2),:].squeeze()))\n",
    "#     print('-'*90)\n",
    "    #get the first prediction\n",
    "    encoder_output, encoder_hidden = encoder(input_variable[:,ei+1:(ei+2),:],input_feature[:,ei+1:(ei+2),:],\\\n",
    "                                             encoder_hidden)\n",
    "    decoder_input = encoder_output\n",
    "    decoder_input = decoder_input.cuda() if use_cuda else decoder_input\n",
    "    \n",
    "    decoder_hidden = encoder_hidden\n",
    "#     print(input_variable[:,-1,:])\n",
    "#     print(decoder_hidden)\n",
    "#     print('_'*90)\n",
    "    use_teacher_forcing = True if random.random() < teacher_forcing_ratio else False\n",
    "    loss_decoding=0\n",
    "    if use_teacher_forcing:\n",
    "        # Teacher forcing: Feed the target as the next input\n",
    "        for di in range(target_length):\n",
    "#             print(decoder_hidden.size())\n",
    "#             decoder_output, decoder_hidden = decoder(\n",
    "#                 decoder_input,target_feature[:,di:(di+1),:], decoder_hidden)\n",
    "        \n",
    "            \n",
    "            decoder_output, decoder_hidden = decoder(\n",
    "                decoder_input,target_feature[:,di:(di+1),:], encoder_hidden)\n",
    "        \n",
    "            loss_decoding += criterion(decoder_output.squeeze(), target_variable[:,di:di+1,:].squeeze())\n",
    "            decoder_input = target_variable[:,di:di+1,:]  # Teacher forcing\n",
    "\n",
    "    else:\n",
    "#         print('real start')\n",
    "#         print(input_variable[:,ei:(ei+1),:])\n",
    "#         print('encode start')\n",
    "#         print(decoder_input)\n",
    "        # Without teacher forcing: use its own predictions as the next input\n",
    "        for di in range(target_length):\n",
    "            \n",
    "#             print(decoder_hidden.size())\n",
    "#             decoder_output, decoder_hidden = decoder(\n",
    "#                 decoder_input,target_feature[:,di:(di+1),:], decoder_hidden)\n",
    "        \n",
    "            \n",
    "            decoder_output, decoder_hidden = decoder(\n",
    "                decoder_input,target_feature[:,di:(di+1),:], encoder_hidden)\n",
    "\n",
    "            \n",
    "            decoder_input = decoder_output\n",
    "            decoder_input = decoder_input.cuda() if use_cuda else decoder_input\n",
    "#             print('sizes')\n",
    "#             print(decoder_output.size(),target_variable[:,di:di+1,:].size())\n",
    "#             print('pred')\n",
    "#             print(decoder_output)\n",
    "#             print('truth')\n",
    "#             print(target_variable[:,di:di+1,:])\n",
    "#             print('-'*90)\n",
    "            loss_decoding += criterion(decoder_output.squeeze(), target_variable[:,di:di+1,:].squeeze())\n",
    "#     loss=loss_encoding+loss_decoding\n",
    "    loss=loss_decoding\n",
    "    loss.backward()\n",
    "\n",
    "    encoder_optimizer.step()\n",
    "    decoder_optimizer.step()\n",
    "\n",
    "    return ((loss_encoding.item() / (input_length-1)),(loss_decoding.item() / target_length))"
   ]
  },
  {
   "cell_type": "code",
   "execution_count": 121,
   "metadata": {
    "collapsed": true
   },
   "outputs": [],
   "source": [
    "def valid(input_variable, input_feature, target_variable, target_feature, encoder, decoder, criterion):\n",
    "    encoder.eval()\n",
    "    decoder.eval()\n",
    "    encoder_hidden = encoder.initHidden(input_variable.size(0))\n",
    "    \n",
    "    input_length = input_variable.size()[1]\n",
    "    target_length = target_variable.size()[1]\n",
    "#     print(target_length)\n",
    "    \n",
    "    loss = 0\n",
    "\n",
    "    for ei in range(input_length):\n",
    "\n",
    "        encoder_output, encoder_hidden = encoder(\n",
    "            input_variable[:,ei:(ei+1),:],input_feature[:,ei:(ei+1),:], encoder_hidden)\n",
    "    \n",
    "    decoder_input = encoder_output\n",
    "    decoder_input = decoder_input.cuda() if use_cuda else decoder_input\n",
    "    \n",
    "    decoder_hidden = encoder_hidden\n",
    "\n",
    "#     use_teacher_forcing = True if random.random() < teacher_forcing_ratio else False\n",
    "\n",
    "#     if use_teacher_forcing:\n",
    "#         # Teacher forcing: Feed the target as the next input\n",
    "#         for di in range(target_length):\n",
    "#             decoder_output, decoder_hidden = decoder(\n",
    "#                 decoder_input, decoder_hidden)\n",
    "#             loss += criterion(decoder_output, target_variable[:,di:di+1,:])\n",
    "#             decoder_input = target_variable[:,di:di+1,:]  # Teacher forcing\n",
    "\n",
    "#     else:\n",
    "        # Without teacher forcing: use its own predictions as the next input\n",
    "    outputs=[]\n",
    "#     print('!'*90)\n",
    "    for di in range(target_length):\n",
    "#         decoder_output, decoder_hidden = decoder(\n",
    "#             decoder_input,target_feature[:,di:(di+1),:], decoder_hidden)\n",
    "\n",
    "\n",
    "        decoder_output, decoder_hidden = decoder(\n",
    "            decoder_input,target_feature[:,di:(di+1),:], encoder_hidden)\n",
    "#         print('-'*90)\n",
    "#         print('in',decoder_input.size())\n",
    "#         print('in',target_feature[:,0,:].size())\n",
    "#         print('hidden',encoder_hidden.size())\n",
    "#         print('out',decoder_hidden.size())\n",
    "        \n",
    "        \n",
    "#         print('in',decoder_input[0,:,:])\n",
    "#         print('in',target_feature[0,0,:])\n",
    "#         print('hidden',encoder_hidden[:,0,:])\n",
    "#         print('out',decoder_hidden[:,0,:])\n",
    "#         print('out',decoder_output[0,:,:])\n",
    "        decoder_input = decoder_output\n",
    "        decoder_input = decoder_input.cuda() if use_cuda else decoder_input\n",
    "        outputs.append(decoder_output.squeeze().detach().cpu().numpy())\n",
    "#         print(decoder_output.size(), target_variable[:,di:di+1,:].size())\n",
    "#         print(decoder_output.size(), target_variable[:,di:di+1,:].size())\n",
    "        loss += criterion(decoder_output, target_variable[:,di:di+1,:])\n",
    "\n",
    "\n",
    "    return (loss.item() / target_length,np.array(outputs))"
   ]
  },
  {
   "cell_type": "code",
   "execution_count": 84,
   "metadata": {},
   "outputs": [
    {
     "data": {
      "text/plain": [
       "array([0.5090716 , 0.50754863, 0.49179465, 0.49177837, 0.48591298,\n",
       "       0.482741  , 0.46966267, 0.47118858, 0.4909701 , 0.48962954,\n",
       "       0.4917352 , 0.4859075 , 0.4827402 , 0.46966234, 0.47118852,\n",
       "       0.49097002, 0.48962954, 0.4917352 , 0.4859075 , 0.4827402 ,\n",
       "       0.46966234, 0.47118852, 0.49097002, 0.48962954, 0.4917352 ,\n",
       "       0.4859075 , 0.4827402 , 0.46966234, 0.47118852, 0.49097002,\n",
       "       0.48962954, 0.4917352 , 0.4859075 , 0.4827402 , 0.46966234,\n",
       "       0.47118852, 0.49097002, 0.48962954, 0.4917352 , 0.4859075 ,\n",
       "       0.4827402 , 0.46966234, 0.47118852, 0.49097002, 0.48962954,\n",
       "       0.4917352 , 0.4859075 , 0.4827402 , 0.46966234, 0.47118852,\n",
       "       0.49097002, 0.48962954, 0.4917352 , 0.4859075 , 0.4827402 ,\n",
       "       0.46966234, 0.47118852, 0.49097002, 0.48962954, 0.4917352 ,\n",
       "       0.4859075 , 0.4827402 , 0.46966234], dtype=float32)"
      ]
     },
     "execution_count": 84,
     "metadata": {},
     "output_type": "execute_result"
    }
   ],
   "source": [
    "preds[0]"
   ]
  },
  {
   "cell_type": "code",
   "execution_count": 169,
   "metadata": {},
   "outputs": [
    {
     "data": {
      "image/png": "[encoded data removed]",
      "text/plain": [
       "<matplotlib.figure.Figure at 0x7f80d14cb198>"
      ]
     },
     "metadata": {},
     "output_type": "display_data"
    }
   ],
   "source": [
    "for i in range(12):\n",
    "    plt.plot(preds[i][:21])\n",
    "#     plt.plot(preds[213])"
   ]
  },
  {
   "cell_type": "code",
   "execution_count": 164,
   "metadata": {},
   "outputs": [
    {
     "data": {
      "text/plain": [
       "array([-0.2906543 ,  0.00244739,  0.00105445, -0.29007328,  0.00051828,\n",
       "       -0.05483976,  0.32942048, -0.29045188,  0.00248676,  0.00105351,\n",
       "       -0.2900731 ,  0.00051828, -0.05483976,  0.32942048, -0.29045188,\n",
       "        0.00248676,  0.00105351, -0.2900731 ,  0.00051828, -0.05483976,\n",
       "        0.32942048, -0.29045188,  0.00248676,  0.00105351, -0.2900731 ,\n",
       "        0.00051828, -0.05483976,  0.32942048, -0.29045188,  0.00248676,\n",
       "        0.00105351, -0.2900731 ,  0.00051828, -0.05483976,  0.32942048,\n",
       "       -0.29045188,  0.00248676,  0.00105351, -0.2900731 ,  0.00051828,\n",
       "       -0.05483976,  0.32942048, -0.29045188,  0.00248676,  0.00105351,\n",
       "       -0.2900731 ,  0.00051828, -0.05483976,  0.32942048, -0.29045188,\n",
       "        0.00248676,  0.00105351, -0.2900731 ,  0.00051828, -0.05483976,\n",
       "        0.32942048, -0.29045188,  0.00248676,  0.00105351, -0.2900731 ,\n",
       "        0.00051828, -0.05483976,  0.32942048], dtype=float32)"
      ]
     },
     "execution_count": 164,
     "metadata": {},
     "output_type": "execute_result"
    }
   ],
   "source": [
    "preds[45]"
   ]
  },
  {
   "cell_type": "code",
   "execution_count": 163,
   "metadata": {},
   "outputs": [
    {
     "name": "stdout",
     "output_type": "stream",
     "text": [
      "30\r"
     ]
    }
   ],
   "source": [
    "preds,targets,scores=valid_iter(test_x,test_y)"
   ]
  }
 ],
 "metadata": {
  "kernelspec": {
   "display_name": "Python 3",
   "language": "python",
   "name": "python3"
  },
  "language_info": {
   "codemirror_mode": {
    "name": "ipython",
    "version": 3
   },
   "file_extension": ".py",
   "mimetype": "text/x-python",
   "name": "python",
   "nbconvert_exporter": "python",
   "pygments_lexer": "ipython3",
   "version": "3.6.3"
  }
 },
 "nbformat": 4,
 "nbformat_minor": 2
}
